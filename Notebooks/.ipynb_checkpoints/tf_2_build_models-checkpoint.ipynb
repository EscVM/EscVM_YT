{
 "cells": [
  {
   "cell_type": "markdown",
   "metadata": {},
   "source": [
    "# Build Models with TensorFlow 2.x APIs"
   ]
  },
  {
   "cell_type": "code",
   "execution_count": 1,
   "metadata": {},
   "outputs": [],
   "source": [
    "# import tensorflow 2.x\n",
    "import tensorflow as tf\n",
    "# or\n",
    "from tensorflow import keras"
   ]
  },
  {
   "cell_type": "markdown",
   "metadata": {},
   "source": [
    "# 1.0 Sequential API\n",
    "\n",
    "Single stack of layers connected sequentially"
   ]
  },
  {
   "cell_type": "markdown",
   "metadata": {},
   "source": [
    "![simple_nn](media/tf_tutorial_1/mlp.png \"Classical MLP\")"
   ]
  },
  {
   "cell_type": "markdown",
   "metadata": {},
   "source": [
    "## 1.1 First sequential method"
   ]
  },
  {
   "cell_type": "code",
   "execution_count": 2,
   "metadata": {},
   "outputs": [],
   "source": [
    "model = tf.keras.models.Sequential()"
   ]
  },
  {
   "cell_type": "code",
   "execution_count": 3,
   "metadata": {},
   "outputs": [],
   "source": [
    "model.add(tf.keras.layers.Dense(9, input_shape=[8], activation='relu', name='hidden_layer_1'))\n",
    "model.add(tf.keras.layers.Dense(9, activation='relu', name='hidden_layer_2')) # or tf.kerars.activations.relu\n",
    "model.add(tf.keras.layers.Dense(9, activation='relu', name='hidden_layer_3')) # or tf.keras.layers.ReLU() as layer\n",
    "model.add(tf.keras.layers.Dense(4, activation='softmax', name='output_layer')) # supposing is a classification task"
   ]
  },
  {
   "cell_type": "code",
   "execution_count": 4,
   "metadata": {},
   "outputs": [
    {
     "name": "stdout",
     "output_type": "stream",
     "text": [
      "Model: \"sequential\"\n",
      "_________________________________________________________________\n",
      "Layer (type)                 Output Shape              Param #   \n",
      "=================================================================\n",
      "hidden_layer_1 (Dense)       (None, 9)                 81        \n",
      "_________________________________________________________________\n",
      "hidden_layer_2 (Dense)       (None, 9)                 90        \n",
      "_________________________________________________________________\n",
      "hidden_layer_3 (Dense)       (None, 9)                 90        \n",
      "_________________________________________________________________\n",
      "output_layer (Dense)         (None, 4)                 40        \n",
      "=================================================================\n",
      "Total params: 301\n",
      "Trainable params: 301\n",
      "Non-trainable params: 0\n",
      "_________________________________________________________________\n"
     ]
    }
   ],
   "source": [
    "model.summary()"
   ]
  },
  {
   "cell_type": "code",
   "execution_count": 5,
   "metadata": {},
   "outputs": [
    {
     "data": {
      "text/plain": [
       "301"
      ]
     },
     "execution_count": 5,
     "metadata": {},
     "output_type": "execute_result"
    }
   ],
   "source": [
    "((8 * 9) + 9) + ((9 * 9) + 9) + ((9 * 9) + 9) + ((9 * 4) + 4) # W 'n' b"
   ]
  },
  {
   "cell_type": "markdown",
   "metadata": {},
   "source": [
    "## 1.2 Second sequential method"
   ]
  },
  {
   "cell_type": "code",
   "execution_count": 49,
   "metadata": {},
   "outputs": [],
   "source": [
    "model_seq = tf.keras.models.Sequential([\n",
    "    tf.keras.layers.Dense(9, input_shape=[8], activation='relu', name='hidden_layer_1'),\n",
    "    tf.keras.layers.Dense(9, activation='relu', name='hidden_layer_2'),\n",
    "    tf.keras.layers.Dense(9, activation='relu', name='hidden_layer_3'),\n",
    "    tf.keras.layers.Dense(4, activation='softmax', name='output_layer')  \n",
    "])"
   ]
  },
  {
   "cell_type": "markdown",
   "metadata": {},
   "source": [
    "# 2.0 Functional API\n",
    "\n",
    "Build networks with complex topologies or with multiple inputs and outputs"
   ]
  },
  {
   "cell_type": "markdown",
   "metadata": {},
   "source": [
    "## 2.1 Build a network block\n",
    "\n",
    "Example with inception block"
   ]
  },
  {
   "cell_type": "markdown",
   "metadata": {},
   "source": [
    "<p align=\"center\">\n",
    "<img src=\"media/tf_tutorial_1/inception_block.png\" width=\"550px\">\n",
    "</p>"
   ]
  },
  {
   "cell_type": "code",
   "execution_count": 14,
   "metadata": {},
   "outputs": [],
   "source": [
    "def inception_block(input_previous_layer, filters):\n",
    "    # first branch\n",
    "    x_1 = tf.keras.layers.Conv2D(filters=filters, kernel_size=(1,1), \n",
    "                                 strides=(1, 1), padding='same', activation='relu')(input_previous_layer)\n",
    "    # second branch\n",
    "    x_2_bn = tf.keras.layers.Conv2D(filters=filters//2, kernel_size=(1,1), \n",
    "                                 strides=(1, 1), padding='same', activation='relu')(input_previous_layer)\n",
    "    x_2 = tf.keras.layers.Conv2D(filters=filters, kernel_size=(3,3), \n",
    "                                 strides=(1, 1), padding='same', activation='relu')(x_2_bn)\n",
    "    # third branch\n",
    "    x_3_bn = tf.keras.layers.Conv2D(filters=filters//2, kernel_size=(1,1), \n",
    "                                 strides=(1, 1), padding='same', activation='relu')(input_previous_layer)\n",
    "    x_3 = tf.keras.layers.Conv2D(filters=filters, kernel_size=(5,5), \n",
    "                                 strides=(1, 1), padding='same', activation='relu')(x_3_bn)\n",
    "    \n",
    "    # fourth branch\n",
    "    x_4_max = tf.keras.layers.MaxPool2D(pool_size=(3, 3), padding='same')(input_previous_layer)\n",
    "    x_4 = tf.keras.layers.Conv2D(filters=filters, kernel_size=(1,1), \n",
    "                                 strides=(1, 1), padding='same', activation='relu')(x_4_max)\n",
    "    \n",
    "    # output\n",
    "    x_output = tf.keras.layers.Concatenate()([x_1, x_2, x_3, x_4])\n",
    "    \n",
    "    return x_output"
   ]
  },
  {
   "cell_type": "markdown",
   "metadata": {},
   "source": [
    "## 2.2 Build a model"
   ]
  },
  {
   "cell_type": "markdown",
   "metadata": {},
   "source": [
    "<p align=\"center\">\n",
    "<img src=\"media/tf_tutorial_1/func_api_example.png\" width=\"650px\">\n",
    "</p>"
   ]
  },
  {
   "cell_type": "code",
   "execution_count": 40,
   "metadata": {},
   "outputs": [],
   "source": [
    "def build_model(N):\n",
    "    x_input = tf.keras.layers.Input(shape=(None,None,3))\n",
    "    \n",
    "    # residual\n",
    "    x_res = x_input\n",
    "    \n",
    "    # N inception blocks\n",
    "    x = inception_block(x_input, filters=16)\n",
    "    for i in range(N):\n",
    "        x = inception_block(x, filters=32)\n",
    "        \n",
    "    # convolution 1x1\n",
    "    x_conv_1 = tf.keras.layers.Conv2D(filters=32, kernel_size=(1,1), \n",
    "                                 strides=(1, 1), padding='same', activation='relu')(x)        \n",
    "    # convolution 3x3\n",
    "    x_conv_3 = tf.keras.layers.Conv2D(filters=32, kernel_size=(3,3), \n",
    "                                 strides=(1, 1), padding='same', activation='relu')(x)\n",
    "    \n",
    "    # concatenate\n",
    "    x_output = tf.keras.layers.Concatenate()([x_conv_1, x_conv_3, x_res])\n",
    "    \n",
    "    return tf.keras.Model(inputs=x_input, outputs=x_output, name='function_api_test')"
   ]
  },
  {
   "cell_type": "code",
   "execution_count": 47,
   "metadata": {},
   "outputs": [],
   "source": [
    "model_f_api = build_model(N=3)"
   ]
  },
  {
   "cell_type": "code",
   "execution_count": 48,
   "metadata": {
    "scrolled": true
   },
   "outputs": [
    {
     "name": "stdout",
     "output_type": "stream",
     "text": [
      "Model: \"function_api_test\"\n",
      "________________________________________________________________________________________________________________________\n",
      "Layer (type)                           Output Shape               Param #       Connected to                            \n",
      "========================================================================================================================\n",
      "input_16 (InputLayer)                  [(None, None, None, 3)]    0                                                     \n",
      "________________________________________________________________________________________________________________________\n",
      "conv2d_244 (Conv2D)                    (None, None, None, 8)      32            input_16[0][0]                          \n",
      "________________________________________________________________________________________________________________________\n",
      "conv2d_246 (Conv2D)                    (None, None, None, 8)      32            input_16[0][0]                          \n",
      "________________________________________________________________________________________________________________________\n",
      "max_pooling2d_37 (MaxPooling2D)        (None, None, None, 3)      0             input_16[0][0]                          \n",
      "________________________________________________________________________________________________________________________\n",
      "conv2d_243 (Conv2D)                    (None, None, None, 16)     64            input_16[0][0]                          \n",
      "________________________________________________________________________________________________________________________\n",
      "conv2d_245 (Conv2D)                    (None, None, None, 16)     1168          conv2d_244[0][0]                        \n",
      "________________________________________________________________________________________________________________________\n",
      "conv2d_247 (Conv2D)                    (None, None, None, 16)     3216          conv2d_246[0][0]                        \n",
      "________________________________________________________________________________________________________________________\n",
      "conv2d_248 (Conv2D)                    (None, None, None, 16)     64            max_pooling2d_37[0][0]                  \n",
      "________________________________________________________________________________________________________________________\n",
      "concatenate_47 (Concatenate)           (None, None, None, 64)     0             conv2d_243[0][0]                        \n",
      "                                                                                conv2d_245[0][0]                        \n",
      "                                                                                conv2d_247[0][0]                        \n",
      "                                                                                conv2d_248[0][0]                        \n",
      "________________________________________________________________________________________________________________________\n",
      "conv2d_250 (Conv2D)                    (None, None, None, 16)     1040          concatenate_47[0][0]                    \n",
      "________________________________________________________________________________________________________________________\n",
      "conv2d_252 (Conv2D)                    (None, None, None, 16)     1040          concatenate_47[0][0]                    \n",
      "________________________________________________________________________________________________________________________\n",
      "max_pooling2d_38 (MaxPooling2D)        (None, None, None, 64)     0             concatenate_47[0][0]                    \n",
      "________________________________________________________________________________________________________________________\n",
      "conv2d_249 (Conv2D)                    (None, None, None, 32)     2080          concatenate_47[0][0]                    \n",
      "________________________________________________________________________________________________________________________\n",
      "conv2d_251 (Conv2D)                    (None, None, None, 32)     4640          conv2d_250[0][0]                        \n",
      "________________________________________________________________________________________________________________________\n",
      "conv2d_253 (Conv2D)                    (None, None, None, 32)     12832         conv2d_252[0][0]                        \n",
      "________________________________________________________________________________________________________________________\n",
      "conv2d_254 (Conv2D)                    (None, None, None, 32)     2080          max_pooling2d_38[0][0]                  \n",
      "________________________________________________________________________________________________________________________\n",
      "concatenate_48 (Concatenate)           (None, None, None, 128)    0             conv2d_249[0][0]                        \n",
      "                                                                                conv2d_251[0][0]                        \n",
      "                                                                                conv2d_253[0][0]                        \n",
      "                                                                                conv2d_254[0][0]                        \n",
      "________________________________________________________________________________________________________________________\n",
      "conv2d_256 (Conv2D)                    (None, None, None, 16)     2064          concatenate_48[0][0]                    \n",
      "________________________________________________________________________________________________________________________\n",
      "conv2d_258 (Conv2D)                    (None, None, None, 16)     2064          concatenate_48[0][0]                    \n",
      "________________________________________________________________________________________________________________________\n",
      "max_pooling2d_39 (MaxPooling2D)        (None, None, None, 128)    0             concatenate_48[0][0]                    \n",
      "________________________________________________________________________________________________________________________\n",
      "conv2d_255 (Conv2D)                    (None, None, None, 32)     4128          concatenate_48[0][0]                    \n",
      "________________________________________________________________________________________________________________________\n",
      "conv2d_257 (Conv2D)                    (None, None, None, 32)     4640          conv2d_256[0][0]                        \n",
      "________________________________________________________________________________________________________________________\n",
      "conv2d_259 (Conv2D)                    (None, None, None, 32)     12832         conv2d_258[0][0]                        \n",
      "________________________________________________________________________________________________________________________\n",
      "conv2d_260 (Conv2D)                    (None, None, None, 32)     4128          max_pooling2d_39[0][0]                  \n",
      "________________________________________________________________________________________________________________________\n",
      "concatenate_49 (Concatenate)           (None, None, None, 128)    0             conv2d_255[0][0]                        \n",
      "                                                                                conv2d_257[0][0]                        \n",
      "                                                                                conv2d_259[0][0]                        \n",
      "                                                                                conv2d_260[0][0]                        \n",
      "________________________________________________________________________________________________________________________\n",
      "conv2d_262 (Conv2D)                    (None, None, None, 16)     2064          concatenate_49[0][0]                    \n",
      "________________________________________________________________________________________________________________________\n",
      "conv2d_264 (Conv2D)                    (None, None, None, 16)     2064          concatenate_49[0][0]                    \n",
      "________________________________________________________________________________________________________________________\n",
      "max_pooling2d_40 (MaxPooling2D)        (None, None, None, 128)    0             concatenate_49[0][0]                    \n",
      "________________________________________________________________________________________________________________________\n",
      "conv2d_261 (Conv2D)                    (None, None, None, 32)     4128          concatenate_49[0][0]                    \n",
      "________________________________________________________________________________________________________________________\n",
      "conv2d_263 (Conv2D)                    (None, None, None, 32)     4640          conv2d_262[0][0]                        \n",
      "________________________________________________________________________________________________________________________\n",
      "conv2d_265 (Conv2D)                    (None, None, None, 32)     12832         conv2d_264[0][0]                        \n",
      "________________________________________________________________________________________________________________________\n",
      "conv2d_266 (Conv2D)                    (None, None, None, 32)     4128          max_pooling2d_40[0][0]                  \n",
      "________________________________________________________________________________________________________________________\n",
      "concatenate_50 (Concatenate)           (None, None, None, 128)    0             conv2d_261[0][0]                        \n",
      "                                                                                conv2d_263[0][0]                        \n",
      "                                                                                conv2d_265[0][0]                        \n",
      "                                                                                conv2d_266[0][0]                        \n",
      "________________________________________________________________________________________________________________________\n",
      "conv2d_267 (Conv2D)                    (None, None, None, 32)     4128          concatenate_50[0][0]                    \n",
      "________________________________________________________________________________________________________________________\n",
      "conv2d_268 (Conv2D)                    (None, None, None, 32)     36896         concatenate_50[0][0]                    \n",
      "________________________________________________________________________________________________________________________\n",
      "concatenate_51 (Concatenate)           (None, None, None, 67)     0             conv2d_267[0][0]                        \n",
      "                                                                                conv2d_268[0][0]                        \n",
      "                                                                                input_16[0][0]                          \n",
      "========================================================================================================================\n",
      "Total params: 129,024\n",
      "Trainable params: 129,024\n",
      "Non-trainable params: 0\n",
      "________________________________________________________________________________________________________________________\n"
     ]
    }
   ],
   "source": [
    "model_f_api.summary(line_length=120)"
   ]
  },
  {
   "cell_type": "markdown",
   "metadata": {},
   "source": [
    "## 2.3 Multiple inputs and outputs"
   ]
  },
  {
   "cell_type": "markdown",
   "metadata": {},
   "source": [
    "<p align=\"center\">\n",
    "<img src=\"media/tf_tutorial_1/func_api_example_2.png\" width=\"650px\">\n",
    "</p>"
   ]
  },
  {
   "cell_type": "code",
   "execution_count": 69,
   "metadata": {},
   "outputs": [],
   "source": [
    "def build_model_mult(N):\n",
    "    x_input_1 = tf.keras.layers.Input(shape=(None,None,3))\n",
    "    x_input_2 = tf.keras.layers.Input(shape=(None,None,3))\n",
    "    \n",
    "    \n",
    "    # N inception blocks\n",
    "    x = inception_block(x_input_1, filters=16)\n",
    "    for i in range(N):\n",
    "        x = inception_block(x, filters=32)\n",
    "        \n",
    "    # convolution 1x1\n",
    "    x_conv_1 = tf.keras.layers.Conv2D(filters=32, kernel_size=(1,1), \n",
    "                                 strides=(1, 1), padding='same', activation='relu')(x)        \n",
    "    # convolution 3x3\n",
    "    x_conv_3 = tf.keras.layers.Conv2D(filters=32, kernel_size=(3,3), \n",
    "                                 strides=(1, 1), padding='same', activation='relu')(x)\n",
    "    \n",
    "    # concatenate\n",
    "    x_output_1 = tf.keras.layers.Concatenate()([x_conv_1, x_conv_3, x_input_2])\n",
    "    x_output_2 = x_conv_3\n",
    "    \n",
    "    return tf.keras.Model(inputs=[x_input_1, x_input_2], outputs=[x_output_1, x_output_2], name='function_api_test')"
   ]
  },
  {
   "cell_type": "code",
   "execution_count": 70,
   "metadata": {},
   "outputs": [],
   "source": [
    "model = build_model_mult(N=3)"
   ]
  },
  {
   "cell_type": "code",
   "execution_count": 75,
   "metadata": {
    "scrolled": true
   },
   "outputs": [
    {
     "name": "stdout",
     "output_type": "stream",
     "text": [
      "Model: \"function_api_test\"\n",
      "________________________________________________________________________________________________________________________\n",
      "Layer (type)                           Output Shape               Param #       Connected to                            \n",
      "========================================================================================================================\n",
      "input_28 (InputLayer)                  [(None, None, None, 3)]    0                                                     \n",
      "________________________________________________________________________________________________________________________\n",
      "conv2d_300 (Conv2D)                    (None, None, None, 8)      32            input_28[0][0]                          \n",
      "________________________________________________________________________________________________________________________\n",
      "conv2d_302 (Conv2D)                    (None, None, None, 8)      32            input_28[0][0]                          \n",
      "________________________________________________________________________________________________________________________\n",
      "max_pooling2d_45 (MaxPooling2D)        (None, None, None, 3)      0             input_28[0][0]                          \n",
      "________________________________________________________________________________________________________________________\n",
      "conv2d_299 (Conv2D)                    (None, None, None, 16)     64            input_28[0][0]                          \n",
      "________________________________________________________________________________________________________________________\n",
      "conv2d_301 (Conv2D)                    (None, None, None, 16)     1168          conv2d_300[0][0]                        \n",
      "________________________________________________________________________________________________________________________\n",
      "conv2d_303 (Conv2D)                    (None, None, None, 16)     3216          conv2d_302[0][0]                        \n",
      "________________________________________________________________________________________________________________________\n",
      "conv2d_304 (Conv2D)                    (None, None, None, 16)     64            max_pooling2d_45[0][0]                  \n",
      "________________________________________________________________________________________________________________________\n",
      "concatenate_57 (Concatenate)           (None, None, None, 64)     0             conv2d_299[0][0]                        \n",
      "                                                                                conv2d_301[0][0]                        \n",
      "                                                                                conv2d_303[0][0]                        \n",
      "                                                                                conv2d_304[0][0]                        \n",
      "________________________________________________________________________________________________________________________\n",
      "conv2d_306 (Conv2D)                    (None, None, None, 16)     1040          concatenate_57[0][0]                    \n",
      "________________________________________________________________________________________________________________________\n",
      "conv2d_308 (Conv2D)                    (None, None, None, 16)     1040          concatenate_57[0][0]                    \n",
      "________________________________________________________________________________________________________________________\n",
      "max_pooling2d_46 (MaxPooling2D)        (None, None, None, 64)     0             concatenate_57[0][0]                    \n",
      "________________________________________________________________________________________________________________________\n",
      "conv2d_305 (Conv2D)                    (None, None, None, 32)     2080          concatenate_57[0][0]                    \n",
      "________________________________________________________________________________________________________________________\n",
      "conv2d_307 (Conv2D)                    (None, None, None, 32)     4640          conv2d_306[0][0]                        \n",
      "________________________________________________________________________________________________________________________\n",
      "conv2d_309 (Conv2D)                    (None, None, None, 32)     12832         conv2d_308[0][0]                        \n",
      "________________________________________________________________________________________________________________________\n",
      "conv2d_310 (Conv2D)                    (None, None, None, 32)     2080          max_pooling2d_46[0][0]                  \n",
      "________________________________________________________________________________________________________________________\n",
      "concatenate_58 (Concatenate)           (None, None, None, 128)    0             conv2d_305[0][0]                        \n",
      "                                                                                conv2d_307[0][0]                        \n",
      "                                                                                conv2d_309[0][0]                        \n",
      "                                                                                conv2d_310[0][0]                        \n",
      "________________________________________________________________________________________________________________________\n",
      "conv2d_312 (Conv2D)                    (None, None, None, 16)     2064          concatenate_58[0][0]                    \n",
      "________________________________________________________________________________________________________________________\n",
      "conv2d_314 (Conv2D)                    (None, None, None, 16)     2064          concatenate_58[0][0]                    \n",
      "________________________________________________________________________________________________________________________\n",
      "max_pooling2d_47 (MaxPooling2D)        (None, None, None, 128)    0             concatenate_58[0][0]                    \n",
      "________________________________________________________________________________________________________________________\n",
      "conv2d_311 (Conv2D)                    (None, None, None, 32)     4128          concatenate_58[0][0]                    \n",
      "________________________________________________________________________________________________________________________\n",
      "conv2d_313 (Conv2D)                    (None, None, None, 32)     4640          conv2d_312[0][0]                        \n",
      "________________________________________________________________________________________________________________________\n",
      "conv2d_315 (Conv2D)                    (None, None, None, 32)     12832         conv2d_314[0][0]                        \n",
      "________________________________________________________________________________________________________________________\n",
      "conv2d_316 (Conv2D)                    (None, None, None, 32)     4128          max_pooling2d_47[0][0]                  \n",
      "________________________________________________________________________________________________________________________\n",
      "concatenate_59 (Concatenate)           (None, None, None, 128)    0             conv2d_311[0][0]                        \n",
      "                                                                                conv2d_313[0][0]                        \n",
      "                                                                                conv2d_315[0][0]                        \n",
      "                                                                                conv2d_316[0][0]                        \n",
      "________________________________________________________________________________________________________________________\n",
      "conv2d_318 (Conv2D)                    (None, None, None, 16)     2064          concatenate_59[0][0]                    \n",
      "________________________________________________________________________________________________________________________\n",
      "conv2d_320 (Conv2D)                    (None, None, None, 16)     2064          concatenate_59[0][0]                    \n",
      "________________________________________________________________________________________________________________________\n",
      "max_pooling2d_48 (MaxPooling2D)        (None, None, None, 128)    0             concatenate_59[0][0]                    \n",
      "________________________________________________________________________________________________________________________\n",
      "conv2d_317 (Conv2D)                    (None, None, None, 32)     4128          concatenate_59[0][0]                    \n",
      "________________________________________________________________________________________________________________________\n",
      "conv2d_319 (Conv2D)                    (None, None, None, 32)     4640          conv2d_318[0][0]                        \n",
      "________________________________________________________________________________________________________________________\n",
      "conv2d_321 (Conv2D)                    (None, None, None, 32)     12832         conv2d_320[0][0]                        \n",
      "________________________________________________________________________________________________________________________\n",
      "conv2d_322 (Conv2D)                    (None, None, None, 32)     4128          max_pooling2d_48[0][0]                  \n",
      "________________________________________________________________________________________________________________________\n",
      "concatenate_60 (Concatenate)           (None, None, None, 128)    0             conv2d_317[0][0]                        \n",
      "                                                                                conv2d_319[0][0]                        \n",
      "                                                                                conv2d_321[0][0]                        \n",
      "                                                                                conv2d_322[0][0]                        \n",
      "________________________________________________________________________________________________________________________\n",
      "conv2d_323 (Conv2D)                    (None, None, None, 32)     4128          concatenate_60[0][0]                    \n",
      "________________________________________________________________________________________________________________________\n",
      "conv2d_324 (Conv2D)                    (None, None, None, 32)     36896         concatenate_60[0][0]                    \n",
      "________________________________________________________________________________________________________________________\n",
      "input_29 (InputLayer)                  [(None, None, None, 3)]    0                                                     \n",
      "________________________________________________________________________________________________________________________\n",
      "concatenate_61 (Concatenate)           (None, None, None, 67)     0             conv2d_323[0][0]                        \n",
      "                                                                                conv2d_324[0][0]                        \n",
      "                                                                                input_29[0][0]                          \n",
      "========================================================================================================================\n",
      "Total params: 129,024\n",
      "Trainable params: 129,024\n",
      "Non-trainable params: 0\n",
      "________________________________________________________________________________________________________________________\n"
     ]
    }
   ],
   "source": [
    "model.summary(line_length=120)"
   ]
  },
  {
   "cell_type": "markdown",
   "metadata": {},
   "source": [
    "## 2.4 Combine models"
   ]
  },
  {
   "cell_type": "code",
   "execution_count": 62,
   "metadata": {},
   "outputs": [],
   "source": [
    "def build_combine_model(model_1, model_2):\n",
    "    x_input = tf.keras.layers.Input(shape=(None,None,3))\n",
    "    \n",
    "    # feed first model\n",
    "    x = model_1(x_input)\n",
    "    \n",
    "    # process outputs first model\n",
    "    x = tf.keras.layers.Conv2D(filters=8, kernel_size=(3,3), \n",
    "                                 strides=(1, 1), padding='same', activation='relu')(x)\n",
    "    x = tf.keras.layers.GlobalAveragePooling2D()(x)\n",
    "    x = tf.keras.layers.Flatten()(x)\n",
    "    \n",
    "    # feed second model\n",
    "    x_output = model_2(x)\n",
    "    \n",
    "    return tf.keras.Model(inputs=x_input, outputs=x_output, name='combine_models_test')"
   ]
  },
  {
   "cell_type": "code",
   "execution_count": 65,
   "metadata": {},
   "outputs": [],
   "source": [
    "combined_model = build_combine_model(model_f_api, model_seq)"
   ]
  },
  {
   "cell_type": "code",
   "execution_count": 66,
   "metadata": {},
   "outputs": [
    {
     "name": "stdout",
     "output_type": "stream",
     "text": [
      "Model: \"function_api_test\"\n",
      "________________________________________________________________________________________________________________________\n",
      "Layer (type)                                          Output Shape                                    Param #           \n",
      "========================================================================================================================\n",
      "input_25 (InputLayer)                                 [(None, None, None, 3)]                         0                 \n",
      "________________________________________________________________________________________________________________________\n",
      "function_api_test (Model)                             (None, None, None, 67)                          129024            \n",
      "________________________________________________________________________________________________________________________\n",
      "conv2d_272 (Conv2D)                                   (None, None, None, 8)                           4832              \n",
      "________________________________________________________________________________________________________________________\n",
      "global_average_pooling2d_3 (GlobalAveragePooling2D)   (None, 8)                                       0                 \n",
      "________________________________________________________________________________________________________________________\n",
      "flatten_6 (Flatten)                                   (None, 8)                                       0                 \n",
      "________________________________________________________________________________________________________________________\n",
      "sequential_2 (Sequential)                             (None, 4)                                       301               \n",
      "========================================================================================================================\n",
      "Total params: 134,157\n",
      "Trainable params: 134,157\n",
      "Non-trainable params: 0\n",
      "________________________________________________________________________________________________________________________\n"
     ]
    }
   ],
   "source": [
    "combined_model.summary(line_length=120)"
   ]
  },
  {
   "cell_type": "markdown",
   "metadata": {},
   "source": [
    "# 3.0 Subclassing API\n",
    "\n",
    "Sequential and Functional API require to define layers and their connections in a static manner. Once a grarph is declared can be used for training and inferernce. However, that could be a limitation for some projects.\n",
    "\n",
    "**Advantages of Subclassing API**: \n",
    "- build dynamic models that can deal with varying shapes, loops and conditional branches\n",
    "- more imperative programming style\n",
    "\n",
    "**Disadvantages of Subclassing API**:\n",
    "- it's not simple to save and clone a model\n",
    "- summary() method shows only a list of layers and not how they are connected\n",
    "- more prone to errors and more difficult to debug and inspect"
   ]
  },
  {
   "cell_type": "code",
   "execution_count": null,
   "metadata": {},
   "outputs": [],
   "source": [
    "class MyModel(tf.keras.Model):\n",
    "    def __init__(self, **kwargs):\n",
    "        super().__init__(**kwargs)\n",
    "        \n",
    "    def call(self, inputs):\n",
    "        return output"
   ]
  },
  {
   "cell_type": "code",
   "execution_count": null,
   "metadata": {},
   "outputs": [],
   "source": [
    "model = MyModel()"
   ]
  }
 ],
 "metadata": {
  "kernelspec": {
   "display_name": "Tensorflow2.0",
   "language": "python",
   "name": "tensorflow2.0"
  },
  "language_info": {
   "codemirror_mode": {
    "name": "ipython",
    "version": 3
   },
   "file_extension": ".py",
   "mimetype": "text/x-python",
   "name": "python",
   "nbconvert_exporter": "python",
   "pygments_lexer": "ipython3",
   "version": "3.6.0"
  },
  "varInspector": {
   "cols": {
    "lenName": 16,
    "lenType": 16,
    "lenVar": 40
   },
   "kernels_config": {
    "python": {
     "delete_cmd_postfix": "",
     "delete_cmd_prefix": "del ",
     "library": "var_list.py",
     "varRefreshCmd": "print(var_dic_list())"
    },
    "r": {
     "delete_cmd_postfix": ") ",
     "delete_cmd_prefix": "rm(",
     "library": "var_list.r",
     "varRefreshCmd": "cat(var_dic_list()) "
    }
   },
   "types_to_exclude": [
    "module",
    "function",
    "builtin_function_or_method",
    "instance",
    "_Feature"
   ],
   "window_display": false
  }
 },
 "nbformat": 4,
 "nbformat_minor": 2
}
