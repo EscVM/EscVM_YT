{
 "cells": [
  {
   "cell_type": "markdown",
   "metadata": {},
   "source": [
    "# Build Models with TensorFlow 2.x APIs\n",
    "![simple_nn](media/miscellaneous/tf_logo.png \"TF Logo\")"
   ]
  },
  {
   "cell_type": "code",
   "execution_count": 1,
   "metadata": {},
   "outputs": [],
   "source": [
    "# import tensorflow 2.x\n",
    "import tensorflow as tf\n",
    "# or\n",
    "from tensorflow import keras"
   ]
  },
  {
   "cell_type": "markdown",
   "metadata": {},
   "source": [
    "# 1.0 Sequential API\n",
    "\n",
    "Single stack of layers connected sequentially"
   ]
  },
  {
   "cell_type": "markdown",
   "metadata": {},
   "source": [
    "![simple_nn](media/tf_tutorial_1/mlp.png \"Classical MLP\")"
   ]
  },
  {
   "cell_type": "markdown",
   "metadata": {},
   "source": [
    "## 1.1 First sequential method"
   ]
  },
  {
   "cell_type": "code",
   "execution_count": 2,
   "metadata": {},
   "outputs": [],
   "source": [
    "model = tf.keras.models.Sequential()"
   ]
  },
  {
   "cell_type": "code",
   "execution_count": 3,
   "metadata": {},
   "outputs": [],
   "source": [
    "model.add(tf.keras.layers.Dense(9, input_shape=[8], activation='relu', name='hidden_layer_1'))\n",
    "for i in range(2):\n",
    "    model.add(tf.keras.layers.Dense(9, activation='relu', name=f'hidden_layer_{i+2}')) # or tf.kerars.activations.relu\n",
    "     # or tf.keras.layers.ReLU() as layer\n",
    "model.add(tf.keras.layers.Dense(4, activation='softmax', name='output_layer')) # supposing is a classification task"
   ]
  },
  {
   "cell_type": "code",
   "execution_count": 4,
   "metadata": {},
   "outputs": [
    {
     "name": "stdout",
     "output_type": "stream",
     "text": [
      "Model: \"sequential\"\n",
      "_________________________________________________________________\n",
      "Layer (type)                 Output Shape              Param #   \n",
      "=================================================================\n",
      "hidden_layer_1 (Dense)       (None, 9)                 81        \n",
      "_________________________________________________________________\n",
      "hidden_layer_2 (Dense)       (None, 9)                 90        \n",
      "_________________________________________________________________\n",
      "hidden_layer_3 (Dense)       (None, 9)                 90        \n",
      "_________________________________________________________________\n",
      "output_layer (Dense)         (None, 4)                 40        \n",
      "=================================================================\n",
      "Total params: 301\n",
      "Trainable params: 301\n",
      "Non-trainable params: 0\n",
      "_________________________________________________________________\n"
     ]
    }
   ],
   "source": [
    "model.summary()"
   ]
  },
  {
   "cell_type": "code",
   "execution_count": 5,
   "metadata": {},
   "outputs": [
    {
     "data": {
      "text/plain": [
       "301"
      ]
     },
     "execution_count": 5,
     "metadata": {},
     "output_type": "execute_result"
    }
   ],
   "source": [
    "((8 * 9) + 9) + ((9 * 9) + 9) + ((9 * 9) + 9) + ((9 * 4) + 4) # W 'n' b"
   ]
  },
  {
   "cell_type": "markdown",
   "metadata": {},
   "source": [
    "## 1.2 Second sequential method"
   ]
  },
  {
   "cell_type": "code",
   "execution_count": 6,
   "metadata": {},
   "outputs": [],
   "source": [
    "model_seq = tf.keras.models.Sequential([\n",
    "    tf.keras.layers.Dense(9, input_shape=[8], activation='relu', name='hidden_layer_1'),\n",
    "    tf.keras.layers.Dense(9, activation='relu', name='hidden_layer_2'),\n",
    "    tf.keras.layers.Dense(9, activation='relu', name='hidden_layer_3'),\n",
    "    tf.keras.layers.Dense(4, activation='softmax', name='output_layer')  \n",
    "])"
   ]
  },
  {
   "cell_type": "markdown",
   "metadata": {},
   "source": [
    "## 1.3 Access models layers "
   ]
  },
  {
   "cell_type": "code",
   "execution_count": 7,
   "metadata": {},
   "outputs": [
    {
     "data": {
      "text/plain": [
       "[<tensorflow.python.keras.layers.core.Dense at 0x14123be80>,\n",
       " <tensorflow.python.keras.layers.core.Dense at 0x14123be48>,\n",
       " <tensorflow.python.keras.layers.core.Dense at 0x141294a58>,\n",
       " <tensorflow.python.keras.layers.core.Dense at 0x130127128>]"
      ]
     },
     "execution_count": 7,
     "metadata": {},
     "output_type": "execute_result"
    }
   ],
   "source": [
    "model.layers # it's a list"
   ]
  },
  {
   "cell_type": "code",
   "execution_count": 8,
   "metadata": {},
   "outputs": [
    {
     "data": {
      "text/plain": [
       "<tensorflow.python.keras.layers.core.Dense at 0x14123be80>"
      ]
     },
     "execution_count": 8,
     "metadata": {},
     "output_type": "execute_result"
    }
   ],
   "source": [
    "model.layers[0] # by index"
   ]
  },
  {
   "cell_type": "code",
   "execution_count": 9,
   "metadata": {},
   "outputs": [
    {
     "data": {
      "text/plain": [
       "'hidden_layer_1'"
      ]
     },
     "execution_count": 9,
     "metadata": {},
     "output_type": "execute_result"
    }
   ],
   "source": [
    "model.layers[0].name # name model"
   ]
  },
  {
   "cell_type": "code",
   "execution_count": 10,
   "metadata": {},
   "outputs": [
    {
     "data": {
      "text/plain": [
       "<tensorflow.python.keras.layers.core.Dense at 0x14123be80>"
      ]
     },
     "execution_count": 10,
     "metadata": {},
     "output_type": "execute_result"
    }
   ],
   "source": [
    "model.get_layer('hidden_layer_1') # by name"
   ]
  },
  {
   "cell_type": "code",
   "execution_count": 11,
   "metadata": {},
   "outputs": [
    {
     "data": {
      "text/plain": [
       "[array([[-0.20320478, -0.21385965,  0.46539867, -0.565007  , -0.2593493 ,\n",
       "         -0.097994  , -0.32468057,  0.5229882 ,  0.182953  ],\n",
       "        [ 0.24967742,  0.03368342, -0.161809  ,  0.4860531 ,  0.17167604,\n",
       "          0.3537783 ,  0.50933146,  0.12967998, -0.11753729],\n",
       "        [-0.35103965,  0.5018636 , -0.08083469, -0.20250365, -0.31604254,\n",
       "         -0.47069424, -0.15943393,  0.4115677 , -0.32681623],\n",
       "        [ 0.1673544 , -0.55576795,  0.02488774, -0.2572023 ,  0.38952065,\n",
       "         -0.4156562 ,  0.37581748,  0.327856  , -0.2215968 ],\n",
       "        [-0.3132342 , -0.0796566 , -0.3469519 ,  0.25162995,  0.4238857 ,\n",
       "         -0.05401027,  0.03864241,  0.01954091,  0.07278502],\n",
       "        [ 0.43403828,  0.45341873, -0.5102984 ,  0.22954148,  0.33059877,\n",
       "          0.38376117, -0.02830613,  0.3519755 , -0.3106324 ],\n",
       "        [ 0.04033619,  0.11887825,  0.55660677, -0.5476306 ,  0.47074115,\n",
       "         -0.15201232,  0.04258358, -0.57668024, -0.04115087],\n",
       "        [-0.21281064, -0.5757724 , -0.5558327 , -0.5446819 , -0.39720964,\n",
       "         -0.37052986, -0.16256452, -0.20817384,  0.50349   ]],\n",
       "       dtype=float32),\n",
       " array([0., 0., 0., 0., 0., 0., 0., 0., 0.], dtype=float32)]"
      ]
     },
     "execution_count": 11,
     "metadata": {},
     "output_type": "execute_result"
    }
   ],
   "source": [
    "model.layers[0].get_weights() # also set weights"
   ]
  },
  {
   "cell_type": "markdown",
   "metadata": {},
   "source": [
    "# 2.0 Functional API\n",
    "\n",
    "Build networks with complex topologies or with multiple inputs and outputs"
   ]
  },
  {
   "cell_type": "markdown",
   "metadata": {},
   "source": [
    "## 2.1 Build a network block\n",
    "\n",
    "Example with inception block"
   ]
  },
  {
   "cell_type": "markdown",
   "metadata": {},
   "source": [
    "<p align=\"center\">\n",
    "<img src=\"media/tf_tutorial_1/inception_block.png\" width=\"550px\">\n",
    "</p>"
   ]
  },
  {
   "cell_type": "code",
   "execution_count": 12,
   "metadata": {},
   "outputs": [],
   "source": [
    "def inception_block(input_previous_layer, filters):\n",
    "    # first branch\n",
    "    x_1 = tf.keras.layers.Conv2D(filters=filters, kernel_size=(1,1), \n",
    "                                 strides=(1, 1), padding='same', activation='relu')(input_previous_layer)\n",
    "    # second branch\n",
    "    x_2_bn = tf.keras.layers.Conv2D(filters=filters//2, kernel_size=(1,1), \n",
    "                                 strides=(1, 1), padding='same', activation='relu')(input_previous_layer)\n",
    "    x_2 = tf.keras.layers.Conv2D(filters=filters, kernel_size=(3,3), \n",
    "                                 strides=(1, 1), padding='same', activation='relu')(x_2_bn)\n",
    "    # third branch\n",
    "    x_3_bn = tf.keras.layers.Conv2D(filters=filters//2, kernel_size=(1,1), \n",
    "                                 strides=(1, 1), padding='same', activation='relu')(input_previous_layer)\n",
    "    x_3 = tf.keras.layers.Conv2D(filters=filters, kernel_size=(5,5), \n",
    "                                 strides=(1, 1), padding='same', activation='relu')(x_3_bn)\n",
    "    \n",
    "    # fourth branch\n",
    "    x_4_max = tf.keras.layers.MaxPool2D(pool_size=(3, 3), padding='same')(input_previous_layer)\n",
    "    x_4 = tf.keras.layers.Conv2D(filters=filters, kernel_size=(1,1), \n",
    "                                 strides=(1, 1), padding='same', activation='relu')(x_4_max)\n",
    "    \n",
    "    # output\n",
    "    x_output = tf.keras.layers.Concatenate()([x_1, x_2, x_3, x_4])\n",
    "    \n",
    "    return x_output"
   ]
  },
  {
   "cell_type": "markdown",
   "metadata": {},
   "source": [
    "## 2.2 Build a model"
   ]
  },
  {
   "cell_type": "markdown",
   "metadata": {},
   "source": [
    "<p align=\"center\">\n",
    "<img src=\"media/tf_tutorial_1/func_api_example.png\" width=\"650px\">\n",
    "</p>"
   ]
  },
  {
   "cell_type": "code",
   "execution_count": 13,
   "metadata": {},
   "outputs": [],
   "source": [
    "def build_model(N):\n",
    "    x_input = tf.keras.layers.Input(shape=(None,None,3))\n",
    "    \n",
    "    # residual\n",
    "    x_res = x_input\n",
    "    \n",
    "    # N inception blocks\n",
    "    x = inception_block(x_input, filters=16)\n",
    "    for i in range(N):\n",
    "        x = inception_block(x, filters=32)\n",
    "        \n",
    "    # convolution 1x1\n",
    "    x_conv_1 = tf.keras.layers.Conv2D(filters=32, kernel_size=(1,1), \n",
    "                                 strides=(1, 1), padding='same', activation='relu')(x)        \n",
    "    # convolution 3x3\n",
    "    x_conv_3 = tf.keras.layers.Conv2D(filters=32, kernel_size=(3,3), \n",
    "                                 strides=(1, 1), padding='same', activation='relu')(x)\n",
    "    \n",
    "    # concatenate\n",
    "    x_output = tf.keras.layers.Concatenate()([x_conv_1, x_conv_3, x_res])\n",
    "    \n",
    "    return tf.keras.Model(inputs=x_input, outputs=x_output, name='function_api_test')"
   ]
  },
  {
   "cell_type": "code",
   "execution_count": 14,
   "metadata": {},
   "outputs": [],
   "source": [
    "model_f_api = build_model(N=3)"
   ]
  },
  {
   "cell_type": "code",
   "execution_count": 15,
   "metadata": {
    "scrolled": true
   },
   "outputs": [
    {
     "name": "stdout",
     "output_type": "stream",
     "text": [
      "Model: \"function_api_test\"\n",
      "________________________________________________________________________________________________________________________\n",
      "Layer (type)                           Output Shape               Param #       Connected to                            \n",
      "========================================================================================================================\n",
      "input_1 (InputLayer)                   [(None, None, None, 3)]    0                                                     \n",
      "________________________________________________________________________________________________________________________\n",
      "conv2d_1 (Conv2D)                      (None, None, None, 8)      32            input_1[0][0]                           \n",
      "________________________________________________________________________________________________________________________\n",
      "conv2d_3 (Conv2D)                      (None, None, None, 8)      32            input_1[0][0]                           \n",
      "________________________________________________________________________________________________________________________\n",
      "max_pooling2d (MaxPooling2D)           (None, None, None, 3)      0             input_1[0][0]                           \n",
      "________________________________________________________________________________________________________________________\n",
      "conv2d (Conv2D)                        (None, None, None, 16)     64            input_1[0][0]                           \n",
      "________________________________________________________________________________________________________________________\n",
      "conv2d_2 (Conv2D)                      (None, None, None, 16)     1168          conv2d_1[0][0]                          \n",
      "________________________________________________________________________________________________________________________\n",
      "conv2d_4 (Conv2D)                      (None, None, None, 16)     3216          conv2d_3[0][0]                          \n",
      "________________________________________________________________________________________________________________________\n",
      "conv2d_5 (Conv2D)                      (None, None, None, 16)     64            max_pooling2d[0][0]                     \n",
      "________________________________________________________________________________________________________________________\n",
      "concatenate (Concatenate)              (None, None, None, 64)     0             conv2d[0][0]                            \n",
      "                                                                                conv2d_2[0][0]                          \n",
      "                                                                                conv2d_4[0][0]                          \n",
      "                                                                                conv2d_5[0][0]                          \n",
      "________________________________________________________________________________________________________________________\n",
      "conv2d_7 (Conv2D)                      (None, None, None, 16)     1040          concatenate[0][0]                       \n",
      "________________________________________________________________________________________________________________________\n",
      "conv2d_9 (Conv2D)                      (None, None, None, 16)     1040          concatenate[0][0]                       \n",
      "________________________________________________________________________________________________________________________\n",
      "max_pooling2d_1 (MaxPooling2D)         (None, None, None, 64)     0             concatenate[0][0]                       \n",
      "________________________________________________________________________________________________________________________\n",
      "conv2d_6 (Conv2D)                      (None, None, None, 32)     2080          concatenate[0][0]                       \n",
      "________________________________________________________________________________________________________________________\n",
      "conv2d_8 (Conv2D)                      (None, None, None, 32)     4640          conv2d_7[0][0]                          \n",
      "________________________________________________________________________________________________________________________\n",
      "conv2d_10 (Conv2D)                     (None, None, None, 32)     12832         conv2d_9[0][0]                          \n",
      "________________________________________________________________________________________________________________________\n",
      "conv2d_11 (Conv2D)                     (None, None, None, 32)     2080          max_pooling2d_1[0][0]                   \n",
      "________________________________________________________________________________________________________________________\n",
      "concatenate_1 (Concatenate)            (None, None, None, 128)    0             conv2d_6[0][0]                          \n",
      "                                                                                conv2d_8[0][0]                          \n",
      "                                                                                conv2d_10[0][0]                         \n",
      "                                                                                conv2d_11[0][0]                         \n",
      "________________________________________________________________________________________________________________________\n",
      "conv2d_13 (Conv2D)                     (None, None, None, 16)     2064          concatenate_1[0][0]                     \n",
      "________________________________________________________________________________________________________________________\n",
      "conv2d_15 (Conv2D)                     (None, None, None, 16)     2064          concatenate_1[0][0]                     \n",
      "________________________________________________________________________________________________________________________\n",
      "max_pooling2d_2 (MaxPooling2D)         (None, None, None, 128)    0             concatenate_1[0][0]                     \n",
      "________________________________________________________________________________________________________________________\n",
      "conv2d_12 (Conv2D)                     (None, None, None, 32)     4128          concatenate_1[0][0]                     \n",
      "________________________________________________________________________________________________________________________\n",
      "conv2d_14 (Conv2D)                     (None, None, None, 32)     4640          conv2d_13[0][0]                         \n",
      "________________________________________________________________________________________________________________________\n",
      "conv2d_16 (Conv2D)                     (None, None, None, 32)     12832         conv2d_15[0][0]                         \n",
      "________________________________________________________________________________________________________________________\n",
      "conv2d_17 (Conv2D)                     (None, None, None, 32)     4128          max_pooling2d_2[0][0]                   \n",
      "________________________________________________________________________________________________________________________\n",
      "concatenate_2 (Concatenate)            (None, None, None, 128)    0             conv2d_12[0][0]                         \n",
      "                                                                                conv2d_14[0][0]                         \n",
      "                                                                                conv2d_16[0][0]                         \n",
      "                                                                                conv2d_17[0][0]                         \n",
      "________________________________________________________________________________________________________________________\n",
      "conv2d_19 (Conv2D)                     (None, None, None, 16)     2064          concatenate_2[0][0]                     \n",
      "________________________________________________________________________________________________________________________\n",
      "conv2d_21 (Conv2D)                     (None, None, None, 16)     2064          concatenate_2[0][0]                     \n",
      "________________________________________________________________________________________________________________________\n",
      "max_pooling2d_3 (MaxPooling2D)         (None, None, None, 128)    0             concatenate_2[0][0]                     \n",
      "________________________________________________________________________________________________________________________\n",
      "conv2d_18 (Conv2D)                     (None, None, None, 32)     4128          concatenate_2[0][0]                     \n",
      "________________________________________________________________________________________________________________________\n",
      "conv2d_20 (Conv2D)                     (None, None, None, 32)     4640          conv2d_19[0][0]                         \n",
      "________________________________________________________________________________________________________________________\n",
      "conv2d_22 (Conv2D)                     (None, None, None, 32)     12832         conv2d_21[0][0]                         \n",
      "________________________________________________________________________________________________________________________\n",
      "conv2d_23 (Conv2D)                     (None, None, None, 32)     4128          max_pooling2d_3[0][0]                   \n",
      "________________________________________________________________________________________________________________________\n",
      "concatenate_3 (Concatenate)            (None, None, None, 128)    0             conv2d_18[0][0]                         \n",
      "                                                                                conv2d_20[0][0]                         \n",
      "                                                                                conv2d_22[0][0]                         \n",
      "                                                                                conv2d_23[0][0]                         \n",
      "________________________________________________________________________________________________________________________\n",
      "conv2d_24 (Conv2D)                     (None, None, None, 32)     4128          concatenate_3[0][0]                     \n",
      "________________________________________________________________________________________________________________________\n",
      "conv2d_25 (Conv2D)                     (None, None, None, 32)     36896         concatenate_3[0][0]                     \n",
      "________________________________________________________________________________________________________________________\n",
      "concatenate_4 (Concatenate)            (None, None, None, 67)     0             conv2d_24[0][0]                         \n",
      "                                                                                conv2d_25[0][0]                         \n",
      "                                                                                input_1[0][0]                           \n",
      "========================================================================================================================\n",
      "Total params: 129,024\n",
      "Trainable params: 129,024\n",
      "Non-trainable params: 0\n",
      "________________________________________________________________________________________________________________________\n"
     ]
    }
   ],
   "source": [
    "model_f_api.summary(line_length=120)"
   ]
  },
  {
   "cell_type": "markdown",
   "metadata": {},
   "source": [
    "## 2.3 Multiple inputs and outputs"
   ]
  },
  {
   "cell_type": "markdown",
   "metadata": {},
   "source": [
    "<p align=\"center\">\n",
    "<img src=\"media/tf_tutorial_1/func_api_example2.png\" width=\"650px\">\n",
    "</p>"
   ]
  },
  {
   "cell_type": "code",
   "execution_count": 16,
   "metadata": {},
   "outputs": [],
   "source": [
    "def build_model_mult(N):\n",
    "    x_input_1 = tf.keras.layers.Input(shape=(None,None,3))\n",
    "    x_input_2 = tf.keras.layers.Input(shape=(None,None,3))\n",
    "    \n",
    "    \n",
    "    # N inception blocks\n",
    "    x = inception_block(x_input_1, filters=16)\n",
    "    for i in range(N):\n",
    "        x = inception_block(x, filters=32)\n",
    "        \n",
    "    # convolution 1x1\n",
    "    x_conv_1 = tf.keras.layers.Conv2D(filters=32, kernel_size=(1,1), \n",
    "                                 strides=(1, 1), padding='same', activation='relu')(x)        \n",
    "    # convolution 3x3\n",
    "    x_conv_3 = tf.keras.layers.Conv2D(filters=32, kernel_size=(3,3), \n",
    "                                 strides=(1, 1), padding='same', activation='relu')(x)\n",
    "    \n",
    "    # concatenate\n",
    "    x_output_1 = tf.keras.layers.Concatenate()([x_conv_1, x_conv_3, x_input_2])\n",
    "    x_output_2 = x_conv_3\n",
    "    \n",
    "    return tf.keras.Model(inputs=[x_input_1, x_input_2], outputs=[x_output_1, x_output_2], name='function_api_test')"
   ]
  },
  {
   "cell_type": "code",
   "execution_count": 17,
   "metadata": {},
   "outputs": [],
   "source": [
    "model = build_model_mult(N=3)"
   ]
  },
  {
   "cell_type": "code",
   "execution_count": 18,
   "metadata": {
    "scrolled": true
   },
   "outputs": [
    {
     "name": "stdout",
     "output_type": "stream",
     "text": [
      "Model: \"function_api_test\"\n",
      "________________________________________________________________________________________________________________________\n",
      "Layer (type)                           Output Shape               Param #       Connected to                            \n",
      "========================================================================================================================\n",
      "input_2 (InputLayer)                   [(None, None, None, 3)]    0                                                     \n",
      "________________________________________________________________________________________________________________________\n",
      "conv2d_27 (Conv2D)                     (None, None, None, 8)      32            input_2[0][0]                           \n",
      "________________________________________________________________________________________________________________________\n",
      "conv2d_29 (Conv2D)                     (None, None, None, 8)      32            input_2[0][0]                           \n",
      "________________________________________________________________________________________________________________________\n",
      "max_pooling2d_4 (MaxPooling2D)         (None, None, None, 3)      0             input_2[0][0]                           \n",
      "________________________________________________________________________________________________________________________\n",
      "conv2d_26 (Conv2D)                     (None, None, None, 16)     64            input_2[0][0]                           \n",
      "________________________________________________________________________________________________________________________\n",
      "conv2d_28 (Conv2D)                     (None, None, None, 16)     1168          conv2d_27[0][0]                         \n",
      "________________________________________________________________________________________________________________________\n",
      "conv2d_30 (Conv2D)                     (None, None, None, 16)     3216          conv2d_29[0][0]                         \n",
      "________________________________________________________________________________________________________________________\n",
      "conv2d_31 (Conv2D)                     (None, None, None, 16)     64            max_pooling2d_4[0][0]                   \n",
      "________________________________________________________________________________________________________________________\n",
      "concatenate_5 (Concatenate)            (None, None, None, 64)     0             conv2d_26[0][0]                         \n",
      "                                                                                conv2d_28[0][0]                         \n",
      "                                                                                conv2d_30[0][0]                         \n",
      "                                                                                conv2d_31[0][0]                         \n",
      "________________________________________________________________________________________________________________________\n",
      "conv2d_33 (Conv2D)                     (None, None, None, 16)     1040          concatenate_5[0][0]                     \n",
      "________________________________________________________________________________________________________________________\n",
      "conv2d_35 (Conv2D)                     (None, None, None, 16)     1040          concatenate_5[0][0]                     \n",
      "________________________________________________________________________________________________________________________\n",
      "max_pooling2d_5 (MaxPooling2D)         (None, None, None, 64)     0             concatenate_5[0][0]                     \n",
      "________________________________________________________________________________________________________________________\n",
      "conv2d_32 (Conv2D)                     (None, None, None, 32)     2080          concatenate_5[0][0]                     \n",
      "________________________________________________________________________________________________________________________\n",
      "conv2d_34 (Conv2D)                     (None, None, None, 32)     4640          conv2d_33[0][0]                         \n",
      "________________________________________________________________________________________________________________________\n",
      "conv2d_36 (Conv2D)                     (None, None, None, 32)     12832         conv2d_35[0][0]                         \n",
      "________________________________________________________________________________________________________________________\n",
      "conv2d_37 (Conv2D)                     (None, None, None, 32)     2080          max_pooling2d_5[0][0]                   \n",
      "________________________________________________________________________________________________________________________\n",
      "concatenate_6 (Concatenate)            (None, None, None, 128)    0             conv2d_32[0][0]                         \n",
      "                                                                                conv2d_34[0][0]                         \n",
      "                                                                                conv2d_36[0][0]                         \n",
      "                                                                                conv2d_37[0][0]                         \n",
      "________________________________________________________________________________________________________________________\n",
      "conv2d_39 (Conv2D)                     (None, None, None, 16)     2064          concatenate_6[0][0]                     \n",
      "________________________________________________________________________________________________________________________\n",
      "conv2d_41 (Conv2D)                     (None, None, None, 16)     2064          concatenate_6[0][0]                     \n",
      "________________________________________________________________________________________________________________________\n",
      "max_pooling2d_6 (MaxPooling2D)         (None, None, None, 128)    0             concatenate_6[0][0]                     \n",
      "________________________________________________________________________________________________________________________\n",
      "conv2d_38 (Conv2D)                     (None, None, None, 32)     4128          concatenate_6[0][0]                     \n",
      "________________________________________________________________________________________________________________________\n",
      "conv2d_40 (Conv2D)                     (None, None, None, 32)     4640          conv2d_39[0][0]                         \n",
      "________________________________________________________________________________________________________________________\n",
      "conv2d_42 (Conv2D)                     (None, None, None, 32)     12832         conv2d_41[0][0]                         \n",
      "________________________________________________________________________________________________________________________\n",
      "conv2d_43 (Conv2D)                     (None, None, None, 32)     4128          max_pooling2d_6[0][0]                   \n",
      "________________________________________________________________________________________________________________________\n",
      "concatenate_7 (Concatenate)            (None, None, None, 128)    0             conv2d_38[0][0]                         \n",
      "                                                                                conv2d_40[0][0]                         \n",
      "                                                                                conv2d_42[0][0]                         \n",
      "                                                                                conv2d_43[0][0]                         \n",
      "________________________________________________________________________________________________________________________\n",
      "conv2d_45 (Conv2D)                     (None, None, None, 16)     2064          concatenate_7[0][0]                     \n",
      "________________________________________________________________________________________________________________________\n",
      "conv2d_47 (Conv2D)                     (None, None, None, 16)     2064          concatenate_7[0][0]                     \n",
      "________________________________________________________________________________________________________________________\n",
      "max_pooling2d_7 (MaxPooling2D)         (None, None, None, 128)    0             concatenate_7[0][0]                     \n",
      "________________________________________________________________________________________________________________________\n",
      "conv2d_44 (Conv2D)                     (None, None, None, 32)     4128          concatenate_7[0][0]                     \n",
      "________________________________________________________________________________________________________________________\n",
      "conv2d_46 (Conv2D)                     (None, None, None, 32)     4640          conv2d_45[0][0]                         \n",
      "________________________________________________________________________________________________________________________\n",
      "conv2d_48 (Conv2D)                     (None, None, None, 32)     12832         conv2d_47[0][0]                         \n",
      "________________________________________________________________________________________________________________________\n",
      "conv2d_49 (Conv2D)                     (None, None, None, 32)     4128          max_pooling2d_7[0][0]                   \n",
      "________________________________________________________________________________________________________________________\n",
      "concatenate_8 (Concatenate)            (None, None, None, 128)    0             conv2d_44[0][0]                         \n",
      "                                                                                conv2d_46[0][0]                         \n",
      "                                                                                conv2d_48[0][0]                         \n",
      "                                                                                conv2d_49[0][0]                         \n",
      "________________________________________________________________________________________________________________________\n",
      "conv2d_50 (Conv2D)                     (None, None, None, 32)     4128          concatenate_8[0][0]                     \n",
      "________________________________________________________________________________________________________________________\n",
      "conv2d_51 (Conv2D)                     (None, None, None, 32)     36896         concatenate_8[0][0]                     \n",
      "________________________________________________________________________________________________________________________\n",
      "input_3 (InputLayer)                   [(None, None, None, 3)]    0                                                     \n",
      "________________________________________________________________________________________________________________________\n",
      "concatenate_9 (Concatenate)            (None, None, None, 67)     0             conv2d_50[0][0]                         \n",
      "                                                                                conv2d_51[0][0]                         \n",
      "                                                                                input_3[0][0]                           \n",
      "========================================================================================================================\n",
      "Total params: 129,024\n",
      "Trainable params: 129,024\n",
      "Non-trainable params: 0\n",
      "________________________________________________________________________________________________________________________\n"
     ]
    }
   ],
   "source": [
    "model.summary(line_length=120)"
   ]
  },
  {
   "cell_type": "markdown",
   "metadata": {},
   "source": [
    "## 2.4 Combine models"
   ]
  },
  {
   "cell_type": "code",
   "execution_count": 19,
   "metadata": {},
   "outputs": [],
   "source": [
    "def build_combine_model(model_1, model_2):\n",
    "    x_input = tf.keras.layers.Input(shape=(None,None,3))\n",
    "    \n",
    "    # feed first model\n",
    "    x = model_1(x_input)\n",
    "    \n",
    "    # process outputs first model\n",
    "    x = tf.keras.layers.Conv2D(filters=8, kernel_size=(3,3), \n",
    "                                 strides=(1, 1), padding='same', activation='relu')(x)\n",
    "    x = tf.keras.layers.GlobalAveragePooling2D()(x)\n",
    "    x = tf.keras.layers.Flatten()(x)\n",
    "    \n",
    "    # feed second model\n",
    "    x_output = model_2(x)\n",
    "    \n",
    "    return tf.keras.Model(inputs=x_input, outputs=x_output, name='combine_models_test')"
   ]
  },
  {
   "cell_type": "code",
   "execution_count": 20,
   "metadata": {},
   "outputs": [],
   "source": [
    "combined_model = build_combine_model(model_f_api, model_seq)"
   ]
  },
  {
   "cell_type": "code",
   "execution_count": 21,
   "metadata": {},
   "outputs": [
    {
     "name": "stdout",
     "output_type": "stream",
     "text": [
      "Model: \"combine_models_test\"\n",
      "________________________________________________________________________________________________________________________\n",
      "Layer (type)                                          Output Shape                                    Param #           \n",
      "========================================================================================================================\n",
      "input_4 (InputLayer)                                  [(None, None, None, 3)]                         0                 \n",
      "________________________________________________________________________________________________________________________\n",
      "function_api_test (Model)                             (None, None, None, 67)                          129024            \n",
      "________________________________________________________________________________________________________________________\n",
      "conv2d_52 (Conv2D)                                    (None, None, None, 8)                           4832              \n",
      "________________________________________________________________________________________________________________________\n",
      "global_average_pooling2d (GlobalAveragePooling2D)     (None, 8)                                       0                 \n",
      "________________________________________________________________________________________________________________________\n",
      "flatten (Flatten)                                     (None, 8)                                       0                 \n",
      "________________________________________________________________________________________________________________________\n",
      "sequential_1 (Sequential)                             (None, 4)                                       301               \n",
      "========================================================================================================================\n",
      "Total params: 134,157\n",
      "Trainable params: 134,157\n",
      "Non-trainable params: 0\n",
      "________________________________________________________________________________________________________________________\n"
     ]
    }
   ],
   "source": [
    "combined_model.summary(line_length=120)"
   ]
  },
  {
   "cell_type": "markdown",
   "metadata": {},
   "source": [
    "# 3.0 Subclassing API\n",
    "\n",
    "Sequential and Functional API require to define layers and their connections in a static manner. Once a grarph is declared can be used for training and inferernce. However, that could be a limitation for some projects.\n",
    "\n",
    "**Advantages of Subclassing API**: \n",
    "- build dynamic models that can deal with varying shapes, loops and conditional branches\n",
    "- more imperative programming style\n",
    "\n",
    "**Disadvantages of Subclassing API**:\n",
    "- it's not simple to save and clone a model\n",
    "- summary() method shows only a list of layers and not how they are connected\n",
    "- more prone to errors and more difficult to debug and inspect"
   ]
  },
  {
   "cell_type": "markdown",
   "metadata": {},
   "source": [
    "## 3.1 First dumb example"
   ]
  },
  {
   "cell_type": "markdown",
   "metadata": {},
   "source": [
    "![simple_nn](media/tf_tutorial_1/mlp.png \"Classical MLP\")"
   ]
  },
  {
   "cell_type": "code",
   "execution_count": 22,
   "metadata": {},
   "outputs": [],
   "source": [
    "class MyModel(tf.keras.Model):\n",
    "    def __init__(self, **kwargs):\n",
    "        super().__init__(**kwargs)\n",
    "        self.hidden1 = tf.keras.layers.Dense(9, activation='relu')\n",
    "        self.hidden2 = tf.keras.layers.Dense(9, activation='relu')\n",
    "        self.hidden3 = tf.keras.layers.Dense(9, activation='relu')\n",
    "        self.output_layer = tf.keras.layers.Dense(4, activation='softmax')\n",
    "        \n",
    "    def call(self, inputs):\n",
    "        x = self.hidden1(inputs)\n",
    "        x = self.hidden2(x)        \n",
    "        x = self.hidden3(x)\n",
    "        outputs = self.output_layer(x)\n",
    "        \n",
    "        return outputs"
   ]
  },
  {
   "cell_type": "code",
   "execution_count": 23,
   "metadata": {},
   "outputs": [],
   "source": [
    "model = MyModel(name='my_sub_mlp')"
   ]
  },
  {
   "cell_type": "code",
   "execution_count": 24,
   "metadata": {},
   "outputs": [],
   "source": [
    "model.build(input_shape=(32,8))"
   ]
  },
  {
   "cell_type": "code",
   "execution_count": 25,
   "metadata": {},
   "outputs": [
    {
     "name": "stdout",
     "output_type": "stream",
     "text": [
      "Model: \"my_sub_mlp\"\n",
      "_________________________________________________________________\n",
      "Layer (type)                 Output Shape              Param #   \n",
      "=================================================================\n",
      "dense (Dense)                multiple                  81        \n",
      "_________________________________________________________________\n",
      "dense_1 (Dense)              multiple                  90        \n",
      "_________________________________________________________________\n",
      "dense_2 (Dense)              multiple                  90        \n",
      "_________________________________________________________________\n",
      "dense_3 (Dense)              multiple                  40        \n",
      "=================================================================\n",
      "Total params: 301\n",
      "Trainable params: 301\n",
      "Non-trainable params: 0\n",
      "_________________________________________________________________\n"
     ]
    }
   ],
   "source": [
    "model.summary()"
   ]
  },
  {
   "cell_type": "markdown",
   "metadata": {},
   "source": [
    "## 3.2 Second less dumb example"
   ]
  },
  {
   "cell_type": "markdown",
   "metadata": {},
   "source": [
    "<p align=\"center\">\n",
    "<img src=\"media/tf_tutorial_1/resnet_full.png\" width=\"950px\">\n",
    "</p>"
   ]
  },
  {
   "cell_type": "markdown",
   "metadata": {},
   "source": [
    "### Build the ResNet block"
   ]
  },
  {
   "cell_type": "markdown",
   "metadata": {},
   "source": [
    "<p align=\"center\">\n",
    "<img src=\"media/tf_tutorial_1/resnet_block.png\" width=\"550px\">\n",
    "</p>"
   ]
  },
  {
   "cell_type": "code",
   "execution_count": 26,
   "metadata": {},
   "outputs": [],
   "source": [
    "class ResNetBlock(tf.keras.layers.Layer):\n",
    "    def __init__(self, filters, strides=1, activation='relu', **kwargs):\n",
    "        super().__init__(**kwargs)\n",
    "        self.activation = tf.keras.activations.get(activation)\n",
    "        self.identity_block = [\n",
    "                     tf.keras.layers.Conv2D(filters//4, 1, strides=strides, padding='same'),\n",
    "                     tf.keras.layers.BatchNormalization(),\n",
    "                     self.activation,\n",
    "                     tf.keras.layers.Conv2D(filters//4, 3, strides=1, padding='same'),\n",
    "                     tf.keras.layers.BatchNormalization(),\n",
    "                     self.activation,\n",
    "                     tf.keras.layers.Conv2D(filters, 1, strides=1, padding='same'),\n",
    "                     tf.keras.layers.BatchNormalization(),\n",
    "                     self.activation]\n",
    "        self.conv_block = []\n",
    "        if strides > 1:\n",
    "            self.conv_block = [\n",
    "                     tf.keras.layers.Conv2D(filters, 1, strides=strides, padding='same'),\n",
    "                     tf.keras.layers.BatchNormalization()]\n",
    "    def call(self, inputs):\n",
    "        x = inputs\n",
    "        for layer in self.identity_block:\n",
    "            x = layer(x)\n",
    "        x_res = inputs\n",
    "        for layer in self.conv_block:\n",
    "            x_res = layer(x_res)\n",
    "        return self.activation(x + x_res)"
   ]
  },
  {
   "cell_type": "markdown",
   "metadata": {},
   "source": [
    "### Build the network"
   ]
  },
  {
   "cell_type": "markdown",
   "metadata": {},
   "source": [
    "<p align=\"center\">\n",
    "<img src=\"media/tf_tutorial_1/resnet_architectures.png\" width=\"750px\">\n",
    "</p>"
   ]
  },
  {
   "cell_type": "code",
   "execution_count": 27,
   "metadata": {},
   "outputs": [],
   "source": [
    "class ResNet(tf.keras.Model):\n",
    "\n",
    "    def __init__(self, n_block1, n_block2, n_block3, n_block4, num_classes, activation='relu'):\n",
    "        super(ResNet, self).__init__()\n",
    "        # initial layers\n",
    "        self.zerop1 = tf.keras.layers.ZeroPadding2D(padding=(3, 3))\n",
    "        self.zerop2 = tf.keras.layers.ZeroPadding2D(padding=(1, 1))\n",
    "        self.activation = tf.keras.activations.get(activation)\n",
    "        self.conv1 = tf.keras.layers.Conv2D(64, 7, strides=2)\n",
    "        self.batch1 = tf.keras.layers.BatchNormalization()\n",
    "        self.max1 = tf.keras.layers.MaxPooling2D(pool_size=(3,3), strides=2, padding='valid')\n",
    "\n",
    "        # residual blocks\n",
    "        self.block_1 = [ResNetBlock(256) if i is not 0 else ResNetBlock(256, strides=2) for i in range(n_block1+1)]\n",
    "        self.block_2 = [ResNetBlock(512) if i is not 0 else ResNetBlock(512, strides=2) for i in range(n_block2+1)]\n",
    "        self.block_3 = [ResNetBlock(1024) if i is not 0 else ResNetBlock(1024, strides=2) for i in range(n_block3+1)]\n",
    "        self.block_4 = [ResNetBlock(2048) if i is not 0 else ResNetBlock(2048, strides=2) for i in range(n_block4+1)]\n",
    "        \n",
    "        # final layers\n",
    "        self.global_pool = tf.keras.layers.GlobalAveragePooling2D()\n",
    "        self.classifier = tf.keras.layers.Dense(num_classes)\n",
    "\n",
    "    def call(self, inputs):\n",
    "        x = self.zerop1(inputs)\n",
    "        x = self.conv1(x)\n",
    "        x = self.batch1(x)\n",
    "        x = self.activation(x)\n",
    "        x = self.zerop2(x)\n",
    "        x = self.max1(x)\n",
    "        \n",
    "        for layer in self.block_1 + self.block_2 + self.block_3 + self.block_4:\n",
    "            x = layer(x)\n",
    "        \n",
    "        x = self.global_pool(x)\n",
    "        \n",
    "        return self.classifier(x)"
   ]
  },
  {
   "cell_type": "code",
   "execution_count": 28,
   "metadata": {},
   "outputs": [],
   "source": [
    "model = ResNet(3, 4, 6, 3, 1000)"
   ]
  },
  {
   "cell_type": "code",
   "execution_count": 29,
   "metadata": {},
   "outputs": [],
   "source": [
    "model.build(input_shape=(32,224,224,3))"
   ]
  },
  {
   "cell_type": "code",
   "execution_count": 30,
   "metadata": {},
   "outputs": [
    {
     "name": "stdout",
     "output_type": "stream",
     "text": [
      "Model: \"res_net\"\n",
      "_________________________________________________________________\n",
      "Layer (type)                 Output Shape              Param #   \n",
      "=================================================================\n",
      "zero_padding2d (ZeroPadding2 multiple                  0         \n",
      "_________________________________________________________________\n",
      "zero_padding2d_1 (ZeroPaddin multiple                  0         \n",
      "_________________________________________________________________\n",
      "conv2d_53 (Conv2D)           multiple                  9472      \n",
      "_________________________________________________________________\n",
      "batch_normalization (BatchNo multiple                  256       \n",
      "_________________________________________________________________\n",
      "max_pooling2d_8 (MaxPooling2 multiple                  0         \n",
      "_________________________________________________________________\n",
      "res_net_block (ResNetBlock)  multiple                  76928     \n",
      "_________________________________________________________________\n",
      "res_net_block_1 (ResNetBlock multiple                  71552     \n",
      "_________________________________________________________________\n",
      "res_net_block_2 (ResNetBlock multiple                  71552     \n",
      "_________________________________________________________________\n",
      "res_net_block_3 (ResNetBlock multiple                  71552     \n",
      "_________________________________________________________________\n",
      "res_net_block_4 (ResNetBlock multiple                  383232    \n",
      "_________________________________________________________________\n",
      "res_net_block_5 (ResNetBlock multiple                  282368    \n",
      "_________________________________________________________________\n",
      "res_net_block_6 (ResNetBlock multiple                  282368    \n",
      "_________________________________________________________________\n",
      "res_net_block_7 (ResNetBlock multiple                  282368    \n",
      "_________________________________________________________________\n",
      "res_net_block_8 (ResNetBlock multiple                  282368    \n",
      "_________________________________________________________________\n",
      "res_net_block_9 (ResNetBlock multiple                  1520128   \n",
      "_________________________________________________________________\n",
      "res_net_block_10 (ResNetBloc multiple                  1121792   \n",
      "_________________________________________________________________\n",
      "res_net_block_11 (ResNetBloc multiple                  1121792   \n",
      "_________________________________________________________________\n",
      "res_net_block_12 (ResNetBloc multiple                  1121792   \n",
      "_________________________________________________________________\n",
      "res_net_block_13 (ResNetBloc multiple                  1121792   \n",
      "_________________________________________________________________\n",
      "res_net_block_14 (ResNetBloc multiple                  1121792   \n",
      "_________________________________________________________________\n",
      "res_net_block_15 (ResNetBloc multiple                  1121792   \n",
      "_________________________________________________________________\n",
      "res_net_block_16 (ResNetBloc multiple                  6054912   \n",
      "_________________________________________________________________\n",
      "res_net_block_17 (ResNetBloc multiple                  4471808   \n",
      "_________________________________________________________________\n",
      "res_net_block_18 (ResNetBloc multiple                  4471808   \n",
      "_________________________________________________________________\n",
      "res_net_block_19 (ResNetBloc multiple                  4471808   \n",
      "_________________________________________________________________\n",
      "global_average_pooling2d_1 ( multiple                  0         \n",
      "_________________________________________________________________\n",
      "dense_4 (Dense)              multiple                  2049000   \n",
      "=================================================================\n",
      "Total params: 31,584,232\n",
      "Trainable params: 31,519,592\n",
      "Non-trainable params: 64,640\n",
      "_________________________________________________________________\n"
     ]
    }
   ],
   "source": [
    "model.summary()"
   ]
  }
 ],
 "metadata": {
  "kernelspec": {
   "display_name": "Tensorflow2.0",
   "language": "python",
   "name": "tensorflow2.0"
  },
  "language_info": {
   "codemirror_mode": {
    "name": "ipython",
    "version": 3
   },
   "file_extension": ".py",
   "mimetype": "text/x-python",
   "name": "python",
   "nbconvert_exporter": "python",
   "pygments_lexer": "ipython3",
   "version": "3.6.0"
  },
  "varInspector": {
   "cols": {
    "lenName": 16,
    "lenType": 16,
    "lenVar": 40
   },
   "kernels_config": {
    "python": {
     "delete_cmd_postfix": "",
     "delete_cmd_prefix": "del ",
     "library": "var_list.py",
     "varRefreshCmd": "print(var_dic_list())"
    },
    "r": {
     "delete_cmd_postfix": ") ",
     "delete_cmd_prefix": "rm(",
     "library": "var_list.r",
     "varRefreshCmd": "cat(var_dic_list()) "
    }
   },
   "types_to_exclude": [
    "module",
    "function",
    "builtin_function_or_method",
    "instance",
    "_Feature"
   ],
   "window_display": false
  }
 },
 "nbformat": 4,
 "nbformat_minor": 2
}
