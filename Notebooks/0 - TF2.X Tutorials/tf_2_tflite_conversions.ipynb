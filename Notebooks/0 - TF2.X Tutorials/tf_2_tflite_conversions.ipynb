{
 "cells": [
  {
   "cell_type": "markdown",
   "metadata": {},
   "source": [
    "# TFLite Converter with TensorFlow 2.x \n",
    "![simple_nn](media/miscellaneous/tf_logo.png \"TF Logo\")"
   ]
  },
  {
   "cell_type": "code",
   "execution_count": null,
   "metadata": {
    "ExecuteTime": {
     "end_time": "2020-11-21T15:08:07.164839Z",
     "start_time": "2020-11-21T15:08:06.141532Z"
    }
   },
   "outputs": [],
   "source": [
    "import tensorflow as tf\n",
    "import numpy as np\n",
    "import matplotlib.pyplot as plt\n",
    "from pathlib import Path"
   ]
  },
  {
   "cell_type": "code",
   "execution_count": null,
   "metadata": {
    "ExecuteTime": {
     "end_time": "2020-11-21T15:08:07.210463Z",
     "start_time": "2020-11-21T15:08:07.175471Z"
    }
   },
   "outputs": [],
   "source": [
    "gpus = tf.config.experimental.list_physical_devices('GPU')\n",
    "tf.config.experimental.set_visible_devices(gpus[0], 'GPU')\n",
    "tf.config.experimental.set_memory_growth(gpus[0], True)"
   ]
  },
  {
   "cell_type": "code",
   "execution_count": null,
   "metadata": {
    "ExecuteTime": {
     "end_time": "2020-11-21T15:14:54.552806Z",
     "start_time": "2020-11-21T15:14:54.547712Z"
    }
   },
   "outputs": [],
   "source": [
    "PATH_DIR = Path.cwd()\n",
    "dataset_dir = PATH_DIR.joinpath('bin/tf_tutorial_2')\n",
    "saved_model_dir = dataset_dir.joinpath('original_model')\n",
    "saved_h5_dir = dataset_dir.joinpath('model_original.h5')"
   ]
  },
  {
   "cell_type": "markdown",
   "metadata": {},
   "source": [
    "![simple_nn](media/tf_tutorial_3/tensorflow_lite_framework.png \"TF-Lite Summary\")"
   ]
  },
  {
   "cell_type": "markdown",
   "metadata": {},
   "source": [
    "# 1.0 Train a simple CNN on MNIST"
   ]
  },
  {
   "cell_type": "code",
   "execution_count": null,
   "metadata": {
    "ExecuteTime": {
     "end_time": "2020-11-21T15:08:14.253503Z",
     "start_time": "2020-11-21T15:08:13.520359Z"
    }
   },
   "outputs": [],
   "source": [
    "# import the datatset\n",
    "(X_train, y_train), (X_test, y_test) = tf.keras.datasets.mnist.load_data(path='mnist.npz')\n",
    "ds_train = tf.data.Dataset.from_tensor_slices((X_train, y_train))\n",
    "ds_test = tf.data.Dataset.from_tensor_slices((X_test, y_test))"
   ]
  },
  {
   "cell_type": "code",
   "execution_count": null,
   "metadata": {
    "ExecuteTime": {
     "end_time": "2020-11-21T15:08:15.314949Z",
     "start_time": "2020-11-21T15:08:15.309056Z"
    }
   },
   "outputs": [],
   "source": [
    "# normalize dataset\n",
    "def normalize(x, y):\n",
    "    return x / 255, y"
   ]
  },
  {
   "cell_type": "code",
   "execution_count": null,
   "metadata": {
    "ExecuteTime": {
     "end_time": "2020-11-21T15:08:16.533685Z",
     "start_time": "2020-11-21T15:08:16.492345Z"
    }
   },
   "outputs": [],
   "source": [
    "# prepare the data\n",
    "ds_train = ds_train.map(normalize).cache().batch(32).prefetch(tf.data.experimental.AUTOTUNE)\n",
    "ds_test = ds_test.map(normalize).batch(32)"
   ]
  },
  {
   "cell_type": "code",
   "execution_count": null,
   "metadata": {
    "ExecuteTime": {
     "end_time": "2020-11-21T15:08:17.904344Z",
     "start_time": "2020-11-21T15:08:17.875286Z"
    }
   },
   "outputs": [],
   "source": [
    "# create a simple cnn model\n",
    "model = tf.keras.models.Sequential([\n",
    "    tf.keras.layers.Reshape((28,28,1)),\n",
    "    tf.keras.layers.Conv2D(32, 3, activation='relu', padding='same'),   \n",
    "    tf.keras.layers.BatchNormalization(),\n",
    "    tf.keras.layers.Conv2D(32, 3, strides=2, padding='same', activation='relu'),\n",
    "    tf.keras.layers.BatchNormalization(),\n",
    "    tf.keras.layers.Conv2D(64, 3, padding='same', activation='relu'),\n",
    "    tf.keras.layers.BatchNormalization(),\n",
    "    tf.keras.layers.Conv2D(64, 3, strides=2, padding='same', activation='relu'),\n",
    "    tf.keras.layers.BatchNormalization(),\n",
    "    tf.keras.layers.Conv2D(128, 3, padding='same', activation='relu'),\n",
    "    tf.keras.layers.BatchNormalization(),\n",
    "    tf.keras.layers.Conv2D(128, 3, strides=2, padding='same', activation='relu'),\n",
    "    tf.keras.layers.GlobalAveragePooling2D(),\n",
    "    tf.keras.layers.Dense(10, activation='softmax' )\n",
    "])"
   ]
  },
  {
   "cell_type": "code",
   "execution_count": null,
   "metadata": {
    "ExecuteTime": {
     "end_time": "2020-11-21T15:08:20.093106Z",
     "start_time": "2020-11-21T15:08:20.081426Z"
    }
   },
   "outputs": [],
   "source": [
    "# compile\n",
    "model.compile(\n",
    "    loss='sparse_categorical_crossentropy',\n",
    "    optimizer=tf.keras.optimizers.Adam(0.001),\n",
    "    metrics=['accuracy'])"
   ]
  },
  {
   "cell_type": "code",
   "execution_count": null,
   "metadata": {
    "ExecuteTime": {
     "end_time": "2020-11-21T15:11:08.147862Z",
     "start_time": "2020-11-21T15:08:21.853358Z"
    }
   },
   "outputs": [],
   "source": [
    "# train\n",
    "history = model.fit(ds_train, steps_per_epoch=len(X_train)/32, epochs=15)"
   ]
  },
  {
   "cell_type": "code",
   "execution_count": null,
   "metadata": {
    "ExecuteTime": {
     "end_time": "2020-11-21T15:11:55.610184Z",
     "start_time": "2020-11-21T15:11:54.889809Z"
    }
   },
   "outputs": [],
   "source": [
    "# evaluate\n",
    "model.evaluate((ds_test))"
   ]
  },
  {
   "cell_type": "code",
   "execution_count": null,
   "metadata": {
    "ExecuteTime": {
     "end_time": "2020-11-21T15:15:00.187821Z",
     "start_time": "2020-11-21T15:14:58.756326Z"
    }
   },
   "outputs": [],
   "source": [
    "# save model\n",
    "model.save(saved_model_dir)\n",
    "model.save(saved_h5_dir)"
   ]
  },
  {
   "cell_type": "markdown",
   "metadata": {},
   "source": [
    "## 2.0 TF-Lite simple conversion\n",
    "- Energy\n",
    "- Size\n",
    "- Latency\n",
    "- Costs"
   ]
  },
  {
   "cell_type": "code",
   "execution_count": null,
   "metadata": {},
   "outputs": [],
   "source": [
    "# from keras model\n",
    "converter = tf.lite.TFLiteConverter.from_keras_model(model)\n",
    "# or from tf saved model\n",
    "converter = tf.lite.TFLiteConverter.from_saved_model(saved_model_dir)\n",
    "# last from concrete functions\n",
    "converter = tf.lite.TFLiteConverter.from_concrete_funcions(tf_path_concrete_functions)"
   ]
  },
  {
   "cell_type": "code",
   "execution_count": null,
   "metadata": {
    "ExecuteTime": {
     "end_time": "2020-11-21T15:15:26.696771Z",
     "start_time": "2020-11-21T15:15:26.052845Z"
    }
   },
   "outputs": [],
   "source": [
    "converter = tf.lite.TFLiteConverter.from_saved_model(saved_model_dir.as_posix())"
   ]
  },
  {
   "cell_type": "code",
   "execution_count": null,
   "metadata": {
    "ExecuteTime": {
     "end_time": "2020-11-21T15:15:28.171425Z",
     "start_time": "2020-11-21T15:15:28.057982Z"
    }
   },
   "outputs": [],
   "source": [
    "# start conversion\n",
    "tflite_model = converter.convert()"
   ]
  },
  {
   "cell_type": "code",
   "execution_count": null,
   "metadata": {
    "ExecuteTime": {
     "end_time": "2020-11-21T15:15:29.052247Z",
     "start_time": "2020-11-21T15:15:29.046487Z"
    }
   },
   "outputs": [],
   "source": [
    "# save model\n",
    "tflite_model_file = dataset_dir.joinpath('model_fp32.tflite')\n",
    "tflite_model_file.write_bytes(tflite_model)"
   ]
  },
  {
   "cell_type": "markdown",
   "metadata": {},
   "source": [
    "# 3.0 Float16 quantization\n",
    "\n",
    "- **Size reduction:** up to 50 %\n",
    "- **Latency reduction:** 2x\n",
    "- **Accuracy:** Insignificant loss accuracy"
   ]
  },
  {
   "cell_type": "code",
   "execution_count": null,
   "metadata": {
    "ExecuteTime": {
     "end_time": "2020-11-21T15:18:27.818530Z",
     "start_time": "2020-11-21T15:18:27.178465Z"
    }
   },
   "outputs": [],
   "source": [
    "converter = tf.lite.TFLiteConverter.from_saved_model(saved_model_dir.as_posix())"
   ]
  },
  {
   "cell_type": "code",
   "execution_count": null,
   "metadata": {
    "ExecuteTime": {
     "end_time": "2020-11-21T15:18:29.097579Z",
     "start_time": "2020-11-21T15:18:29.091103Z"
    }
   },
   "outputs": [],
   "source": [
    "converter.optimizations = [tf.lite.Optimize.DEFAULT]\n",
    "converter.target_spec.supported_types = [tf.float16]"
   ]
  },
  {
   "cell_type": "code",
   "execution_count": null,
   "metadata": {
    "ExecuteTime": {
     "end_time": "2020-11-21T15:18:31.338210Z",
     "start_time": "2020-11-21T15:18:31.222669Z"
    }
   },
   "outputs": [],
   "source": [
    "tflite_model = converter.convert()"
   ]
  },
  {
   "cell_type": "code",
   "execution_count": null,
   "metadata": {
    "ExecuteTime": {
     "end_time": "2020-11-21T15:18:34.343532Z",
     "start_time": "2020-11-21T15:18:34.339728Z"
    }
   },
   "outputs": [],
   "source": [
    "# save model\n",
    "tflite_model_file = dataset_dir.joinpath('model_fp16.tflite')\n",
    "tflite_model_file.write_bytes(tflite_model)"
   ]
  },
  {
   "cell_type": "markdown",
   "metadata": {},
   "source": [
    "# 4.0 Dynamic int8 range quantization\n",
    "\n",
    "- **Size reduction:** up to 75 %\n",
    "- **Latency reduction:** 2x/3x\n",
    "- **Accuracy:** Accuracy loss"
   ]
  },
  {
   "cell_type": "code",
   "execution_count": null,
   "metadata": {
    "ExecuteTime": {
     "end_time": "2020-11-21T15:15:38.890822Z",
     "start_time": "2020-11-21T15:15:38.241061Z"
    }
   },
   "outputs": [],
   "source": [
    "converter = tf.lite.TFLiteConverter.from_saved_model(saved_model_dir.as_posix())"
   ]
  },
  {
   "cell_type": "code",
   "execution_count": null,
   "metadata": {
    "ExecuteTime": {
     "end_time": "2020-11-21T15:15:40.128094Z",
     "start_time": "2020-11-21T15:15:40.123669Z"
    }
   },
   "outputs": [],
   "source": [
    "converter.optimizations = [tf.lite.Optimize.DEFAULT]"
   ]
  },
  {
   "cell_type": "code",
   "execution_count": null,
   "metadata": {
    "ExecuteTime": {
     "end_time": "2020-11-21T15:17:49.414996Z",
     "start_time": "2020-11-21T15:17:49.197955Z"
    }
   },
   "outputs": [],
   "source": [
    "tflite_model = converter.convert()"
   ]
  },
  {
   "cell_type": "code",
   "execution_count": null,
   "metadata": {
    "ExecuteTime": {
     "end_time": "2020-11-21T15:17:50.419830Z",
     "start_time": "2020-11-21T15:17:50.414479Z"
    }
   },
   "outputs": [],
   "source": [
    "# save model\n",
    "tflite_model_file = dataset_dir.joinpath('model_int8_dynamic.tflite')\n",
    "tflite_model_file.write_bytes(tflite_model)"
   ]
  },
  {
   "cell_type": "markdown",
   "metadata": {},
   "source": [
    "# 5.0 Integer quantization with float fallback\n",
    "\n",
    "- **Size reduction:** up to 75 %\n",
    "- **Latency reduction:** 3x/4x\n",
    "- **Accuracy:** Smallest loss accuracy"
   ]
  },
  {
   "cell_type": "code",
   "execution_count": null,
   "metadata": {
    "ExecuteTime": {
     "end_time": "2020-11-21T15:21:00.564511Z",
     "start_time": "2020-11-21T15:21:00.559541Z"
    }
   },
   "outputs": [],
   "source": [
    "num_calibration_steps = 1 # at least 100\n",
    "\n",
    "def representative_dataset_gen():\n",
    "      for i in range(num_calibration_steps):\n",
    "        # Remember to pre-process your dataset as your training\n",
    "        imgs = X_train[i:i+1]\n",
    "        imgs = imgs / 255\n",
    "        yield [imgs.astype('float32')]"
   ]
  },
  {
   "cell_type": "code",
   "execution_count": null,
   "metadata": {
    "ExecuteTime": {
     "end_time": "2020-11-21T15:18:54.001240Z",
     "start_time": "2020-11-21T15:18:53.234119Z"
    }
   },
   "outputs": [],
   "source": [
    "converter = tf.lite.TFLiteConverter.from_saved_model(saved_model_dir.as_posix())"
   ]
  },
  {
   "cell_type": "code",
   "execution_count": null,
   "metadata": {
    "ExecuteTime": {
     "end_time": "2020-11-21T15:21:02.460142Z",
     "start_time": "2020-11-21T15:21:02.455451Z"
    }
   },
   "outputs": [],
   "source": [
    "converter.optimizations = [tf.lite.Optimize.DEFAULT]\n",
    "converter.representative_dataset = representative_dataset_gen"
   ]
  },
  {
   "cell_type": "code",
   "execution_count": null,
   "metadata": {
    "ExecuteTime": {
     "end_time": "2020-11-21T15:21:03.759326Z",
     "start_time": "2020-11-21T15:21:03.551636Z"
    }
   },
   "outputs": [],
   "source": [
    "tflite_model = converter.convert()"
   ]
  },
  {
   "cell_type": "code",
   "execution_count": null,
   "metadata": {
    "ExecuteTime": {
     "end_time": "2020-11-21T15:21:14.021702Z",
     "start_time": "2020-11-21T15:21:14.012550Z"
    }
   },
   "outputs": [],
   "source": [
    "# save model\n",
    "tflite_model_file = dataset_dir.joinpath('model_int8_fb.tflite')\n",
    "tflite_model_file.write_bytes(tflite_model)"
   ]
  },
  {
   "cell_type": "markdown",
   "metadata": {},
   "source": [
    "# 6.0 Full integer quantization (integer only)\n",
    "\n",
    "- **Size reduction:** up to 75 %\n",
    "- **Latency reductiion:** 3x/4x\n",
    "- **Accuracy:** Smallest loss accuracy"
   ]
  },
  {
   "cell_type": "markdown",
   "metadata": {},
   "source": [
    "## 6.1 With TF >= 2.3"
   ]
  },
  {
   "cell_type": "code",
   "execution_count": null,
   "metadata": {
    "ExecuteTime": {
     "end_time": "2020-11-21T15:21:51.248634Z",
     "start_time": "2020-11-21T15:21:51.243253Z"
    }
   },
   "outputs": [],
   "source": [
    "num_calibration_steps = 1 # at least 100\n",
    "\n",
    "def representative_dataset_gen():\n",
    "      for i in range(num_calibration_steps):\n",
    "        # Remember to pre-process your dataset as your training\n",
    "        imgs = X_train[i:i+1]\n",
    "        imgs = imgs / 255\n",
    "        yield [imgs.astype('float32')]"
   ]
  },
  {
   "cell_type": "code",
   "execution_count": null,
   "metadata": {
    "ExecuteTime": {
     "end_time": "2020-11-21T15:22:00.417704Z",
     "start_time": "2020-11-21T15:21:59.795018Z"
    }
   },
   "outputs": [],
   "source": [
    "converter = tf.lite.TFLiteConverter.from_saved_model(saved_model_dir.as_posix())"
   ]
  },
  {
   "cell_type": "code",
   "execution_count": null,
   "metadata": {
    "ExecuteTime": {
     "end_time": "2020-11-21T15:22:01.234978Z",
     "start_time": "2020-11-21T15:22:01.229795Z"
    }
   },
   "outputs": [],
   "source": [
    "converter.optimizations = [tf.lite.Optimize.DEFAULT]\n",
    "converter.representative_dataset = representative_dataset_gen\n",
    "converter.target_spec.supported_ops = [tf.lite.OpsSet.TFLITE_BUILTINS_INT8]\n",
    "converter.inference_input_type = tf.int8  # or tf.uint8\n",
    "converter.inference_output_type = tf.int8  # or tf.uint8"
   ]
  },
  {
   "cell_type": "code",
   "execution_count": null,
   "metadata": {
    "ExecuteTime": {
     "end_time": "2020-11-21T15:22:07.102609Z",
     "start_time": "2020-11-21T15:22:06.899521Z"
    }
   },
   "outputs": [],
   "source": [
    "tflite_model = converter.convert()"
   ]
  },
  {
   "cell_type": "code",
   "execution_count": null,
   "metadata": {
    "ExecuteTime": {
     "end_time": "2020-11-21T15:22:10.453420Z",
     "start_time": "2020-11-21T15:22:10.449171Z"
    }
   },
   "outputs": [],
   "source": [
    "# save model\n",
    "tflite_model_file = dataset_dir.joinpath('model_int8.tflite')\n",
    "tflite_model_file.write_bytes(tflite_model)"
   ]
  },
  {
   "cell_type": "markdown",
   "metadata": {},
   "source": [
    "## 6.2 With TF < 2.3"
   ]
  },
  {
   "cell_type": "code",
   "execution_count": null,
   "metadata": {
    "ExecuteTime": {
     "end_time": "2020-11-21T15:22:25.209131Z",
     "start_time": "2020-11-21T15:22:25.203733Z"
    }
   },
   "outputs": [],
   "source": [
    "num_calibration_steps = 1 # at least 100\n",
    "\n",
    "def representative_dataset_gen():\n",
    "      for i in range(num_calibration_steps):\n",
    "        # Remember to pre-process your dataset as your training\n",
    "        imgs = X_train[i:i+1]\n",
    "        imgs = imgs / 255\n",
    "        yield [imgs.astype('float32')]"
   ]
  },
  {
   "cell_type": "code",
   "execution_count": null,
   "metadata": {
    "ExecuteTime": {
     "end_time": "2020-11-21T15:22:32.094872Z",
     "start_time": "2020-11-21T15:22:31.838900Z"
    }
   },
   "outputs": [],
   "source": [
    "converter = tf.compat.v1.lite.TFLiteConverter.from_keras_model_file(dataset_dir.joinpath('model_original.h5'))"
   ]
  },
  {
   "cell_type": "code",
   "execution_count": null,
   "metadata": {
    "ExecuteTime": {
     "end_time": "2020-11-21T15:22:34.255850Z",
     "start_time": "2020-11-21T15:22:34.253263Z"
    }
   },
   "outputs": [],
   "source": [
    "converter.optimizations = [tf.lite.Optimize.OPTIMIZE_FOR_SIZE]\n",
    "converter.representative_dataset = representative_dataset_gen\n",
    "converter.experimental_new_converter = True\n",
    "converter.target_spec.supported_ops = [tf.lite.OpsSet.TFLITE_BUILTINS_INT8]\n",
    "converter.inference_input_type = tf.uint8\n",
    "converter.inference_output_type = tf.uint8"
   ]
  },
  {
   "cell_type": "code",
   "execution_count": null,
   "metadata": {
    "ExecuteTime": {
     "end_time": "2020-11-21T15:22:41.140729Z",
     "start_time": "2020-11-21T15:22:39.256336Z"
    }
   },
   "outputs": [],
   "source": [
    "tflite_model = converter.convert()"
   ]
  },
  {
   "cell_type": "code",
   "execution_count": null,
   "metadata": {
    "ExecuteTime": {
     "end_time": "2020-11-21T15:22:48.842122Z",
     "start_time": "2020-11-21T15:22:48.839105Z"
    }
   },
   "outputs": [],
   "source": [
    "# save model\n",
    "tflite_model_file = dataset_dir.joinpath('model_int8.tflite')\n",
    "tflite_model_file.write_bytes(tflite_model)"
   ]
  }
 ],
 "metadata": {
  "kernelspec": {
   "display_name": "TensorFlow2.0",
   "language": "python",
   "name": "tensorflow2.0"
  },
  "language_info": {
   "codemirror_mode": {
    "name": "ipython",
    "version": 3
   },
   "file_extension": ".py",
   "mimetype": "text/x-python",
   "name": "python",
   "nbconvert_exporter": "python",
   "pygments_lexer": "ipython3",
   "version": "3.6.9"
  },
  "toc": {
   "base_numbering": 1,
   "nav_menu": {},
   "number_sections": false,
   "sideBar": true,
   "skip_h1_title": false,
   "title_cell": "Table of Contents",
   "title_sidebar": "Contents",
   "toc_cell": false,
   "toc_position": {},
   "toc_section_display": true,
   "toc_window_display": true
  },
  "varInspector": {
   "cols": {
    "lenName": 16,
    "lenType": 16,
    "lenVar": 40
   },
   "kernels_config": {
    "python": {
     "delete_cmd_postfix": "",
     "delete_cmd_prefix": "del ",
     "library": "var_list.py",
     "varRefreshCmd": "print(var_dic_list())"
    },
    "r": {
     "delete_cmd_postfix": ") ",
     "delete_cmd_prefix": "rm(",
     "library": "var_list.r",
     "varRefreshCmd": "cat(var_dic_list()) "
    }
   },
   "types_to_exclude": [
    "module",
    "function",
    "builtin_function_or_method",
    "instance",
    "_Feature"
   ],
   "window_display": false
  }
 },
 "nbformat": 4,
 "nbformat_minor": 2
}
