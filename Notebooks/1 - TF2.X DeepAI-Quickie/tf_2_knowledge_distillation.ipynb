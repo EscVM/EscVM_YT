{
 "cells": [
  {
   "cell_type": "markdown",
   "id": "fiscal-counter",
   "metadata": {},
   "source": [
    "# Knowledge Dinstillation with Tensorflow 2.x"
   ]
  },
  {
   "cell_type": "code",
   "execution_count": 1,
   "id": "victorian-petersburg",
   "metadata": {
    "ExecuteTime": {
     "end_time": "2022-01-08T23:38:26.538644Z",
     "start_time": "2022-01-08T23:38:26.529215Z"
    }
   },
   "outputs": [],
   "source": [
    "%load_ext autoreload\n",
    "%autoreload 2"
   ]
  },
  {
   "cell_type": "code",
   "execution_count": 2,
   "id": "negative-birth",
   "metadata": {
    "ExecuteTime": {
     "end_time": "2022-01-08T23:38:27.949538Z",
     "start_time": "2022-01-08T23:38:26.539594Z"
    }
   },
   "outputs": [],
   "source": [
    "import tensorflow as tf\n",
    "import tensorflow_datasets as tfds\n",
    "import numpy as np\n",
    "import matplotlib.pyplot as plt\n",
    "from pathlib import Path\n",
    "import cv2\n",
    "from tqdm.notebook import tqdm\n",
    "from utils.visualize import plotImages, plotHistory\n",
    "from utils.train_distillation import DistillationClassificationTrainer"
   ]
  },
  {
   "cell_type": "code",
   "execution_count": 3,
   "id": "august-rebound",
   "metadata": {
    "ExecuteTime": {
     "end_time": "2022-01-08T23:38:27.966229Z",
     "start_time": "2022-01-08T23:38:27.950791Z"
    }
   },
   "outputs": [],
   "source": [
    "# set some paths\n",
    "model_dir = Path('bin')"
   ]
  },
  {
   "cell_type": "code",
   "execution_count": 4,
   "id": "amended-corrections",
   "metadata": {
    "ExecuteTime": {
     "end_time": "2022-01-08T23:38:28.011797Z",
     "start_time": "2022-01-08T23:38:27.967227Z"
    }
   },
   "outputs": [],
   "source": [
    "gpus = tf.config.experimental.list_physical_devices('GPU')\n",
    "tf.config.experimental.set_visible_devices(gpus[0], 'GPU')\n",
    "tf.config.experimental.set_memory_growth(gpus[0], True)"
   ]
  },
  {
   "cell_type": "code",
   "execution_count": 5,
   "id": "sticky-wheat",
   "metadata": {
    "ExecuteTime": {
     "end_time": "2022-01-08T23:38:28.029253Z",
     "start_time": "2022-01-08T23:38:28.012624Z"
    }
   },
   "outputs": [],
   "source": [
    "# Settings\n",
    "BATCH_SIZE = 128\n",
    "LR_ADAM = 0.001"
   ]
  },
  {
   "cell_type": "markdown",
   "id": "varied-company",
   "metadata": {},
   "source": [
    "# 1.0 Import the Dataset"
   ]
  },
  {
   "cell_type": "markdown",
   "id": "flush-chambers",
   "metadata": {},
   "source": [
    "## 1.1 Download a datast (MNIST)"
   ]
  },
  {
   "cell_type": "code",
   "execution_count": 6,
   "id": "architectural-aircraft",
   "metadata": {
    "ExecuteTime": {
     "end_time": "2022-01-08T23:38:28.580921Z",
     "start_time": "2022-01-08T23:38:28.030111Z"
    }
   },
   "outputs": [],
   "source": [
    "ds, ds_info = tfds.load(\n",
    "    'mnist',\n",
    "    shuffle_files=True,\n",
    "    as_supervised=True,\n",
    "    with_info=True)"
   ]
  },
  {
   "cell_type": "code",
   "execution_count": 7,
   "id": "express-acquisition",
   "metadata": {
    "ExecuteTime": {
     "end_time": "2022-01-08T23:38:28.599471Z",
     "start_time": "2022-01-08T23:38:28.581762Z"
    }
   },
   "outputs": [
    {
     "data": {
      "text/plain": [
       "tfds.core.DatasetInfo(\n",
       "    name='mnist',\n",
       "    full_name='mnist/3.0.1',\n",
       "    description=\"\"\"\n",
       "    The MNIST database of handwritten digits.\n",
       "    \"\"\",\n",
       "    homepage='http://yann.lecun.com/exdb/mnist/',\n",
       "    data_path='/home/vitto/tensorflow_datasets/mnist/3.0.1',\n",
       "    download_size=11.06 MiB,\n",
       "    dataset_size=21.00 MiB,\n",
       "    features=FeaturesDict({\n",
       "        'image': Image(shape=(28, 28, 1), dtype=tf.uint8),\n",
       "        'label': ClassLabel(shape=(), dtype=tf.int64, num_classes=10),\n",
       "    }),\n",
       "    supervised_keys=('image', 'label'),\n",
       "    splits={\n",
       "        'test': <SplitInfo num_examples=10000, num_shards=1>,\n",
       "        'train': <SplitInfo num_examples=60000, num_shards=1>,\n",
       "    },\n",
       "    citation=\"\"\"@article{lecun2010mnist,\n",
       "      title={MNIST handwritten digit database},\n",
       "      author={LeCun, Yann and Cortes, Corinna and Burges, CJ},\n",
       "      journal={ATT Labs [Online]. Available: http://yann.lecun.com/exdb/mnist},\n",
       "      volume={2},\n",
       "      year={2010}\n",
       "    }\"\"\",\n",
       ")"
      ]
     },
     "execution_count": 7,
     "metadata": {},
     "output_type": "execute_result"
    }
   ],
   "source": [
    "ds_info"
   ]
  },
  {
   "cell_type": "code",
   "execution_count": 8,
   "id": "affecting-centre",
   "metadata": {
    "ExecuteTime": {
     "end_time": "2022-01-08T23:38:28.617204Z",
     "start_time": "2022-01-08T23:38:28.600835Z"
    }
   },
   "outputs": [
    {
     "name": "stdout",
     "output_type": "stream",
     "text": [
      "['0', '1', '2', '3', '4', '5', '6', '7', '8', '9']\n"
     ]
    }
   ],
   "source": [
    "label_names = ds_info.features['label'].names\n",
    "print(label_names)"
   ]
  },
  {
   "cell_type": "code",
   "execution_count": 9,
   "id": "parental-terminal",
   "metadata": {
    "ExecuteTime": {
     "end_time": "2022-01-08T23:38:28.634640Z",
     "start_time": "2022-01-08T23:38:28.618156Z"
    }
   },
   "outputs": [
    {
     "name": "stdout",
     "output_type": "stream",
     "text": [
      "Number of train images: 60000\n",
      "Number of test images: 10000\n"
     ]
    }
   ],
   "source": [
    "n_images_train = ds_info.splits['train'].num_examples\n",
    "n_images_test = ds_info.splits['test'].num_examples\n",
    "\n",
    "print(f\"Number of train images: {n_images_train}\")\n",
    "print(f\"Number of test images: {n_images_test}\")"
   ]
  },
  {
   "cell_type": "markdown",
   "id": "endangered-receiver",
   "metadata": {},
   "source": [
    "# 2.0 Prepare the Dataset"
   ]
  },
  {
   "cell_type": "code",
   "execution_count": 10,
   "id": "ideal-coating",
   "metadata": {
    "ExecuteTime": {
     "end_time": "2022-01-08T23:38:28.671370Z",
     "start_time": "2022-01-08T23:38:28.635474Z"
    }
   },
   "outputs": [],
   "source": [
    "def normalize_img(image, label):\n",
    "    return tf.cast(image, tf.float32) / 255., label\n",
    "\n",
    "ds_train = ds['train']\n",
    "ds_train = ds_train.map(normalize_img, num_parallel_calls=tf.data.AUTOTUNE)\n",
    "ds_train = ds_train.cache()\n",
    "ds_train = ds_train.shuffle(ds_info.splits['train'].num_examples)\n",
    "ds_train = ds_train.batch(BATCH_SIZE)\n",
    "ds_train = ds_train.prefetch(tf.data.AUTOTUNE)"
   ]
  },
  {
   "cell_type": "code",
   "execution_count": 11,
   "id": "controversial-seeking",
   "metadata": {
    "ExecuteTime": {
     "end_time": "2022-01-08T23:38:28.692781Z",
     "start_time": "2022-01-08T23:38:28.672361Z"
    }
   },
   "outputs": [],
   "source": [
    "ds_test = ds['test']\n",
    "ds_test = ds_test.map(\n",
    "    normalize_img, num_parallel_calls=tf.data.AUTOTUNE)\n",
    "ds_test = ds_test.batch(128)\n",
    "ds_test = ds_test.cache()\n",
    "ds_test = ds_test.prefetch(tf.data.AUTOTUNE)"
   ]
  },
  {
   "cell_type": "markdown",
   "id": "premium-companion",
   "metadata": {},
   "source": [
    "## 2.1 Visualize the dataset"
   ]
  },
  {
   "cell_type": "code",
   "execution_count": 12,
   "id": "marine-gates",
   "metadata": {
    "ExecuteTime": {
     "end_time": "2022-01-08T23:38:30.342536Z",
     "start_time": "2022-01-08T23:38:28.693601Z"
    }
   },
   "outputs": [
    {
     "data": {
      "image/png": "[encoded data removed]",
      "text/plain": [
       "<Figure size 1080x1080 with 15 Axes>"
      ]
     },
     "metadata": {
      "needs_background": "light"
     },
     "output_type": "display_data"
    }
   ],
   "source": [
    "n_images = 12 # n of images to plot\n",
    "\n",
    "plotImages(iter(ds_train).next(), n_images, label_names)"
   ]
  },
  {
   "cell_type": "markdown",
   "id": "eligible-writing",
   "metadata": {},
   "source": [
    "# 3.0 Train a Small Model"
   ]
  },
  {
   "cell_type": "markdown",
   "id": "persistent-individual",
   "metadata": {},
   "source": [
    "## 3.1 Build the model"
   ]
  },
  {
   "cell_type": "code",
   "execution_count": 13,
   "id": "surgical-eating",
   "metadata": {
    "ExecuteTime": {
     "end_time": "2022-01-08T23:38:30.389653Z",
     "start_time": "2022-01-08T23:38:30.343518Z"
    }
   },
   "outputs": [],
   "source": [
    "small_model = tf.keras.models.Sequential([\n",
    "    tf.keras.layers.Conv2D(32, 3, input_shape=ds_info.features['image'].shape, activation='elu', padding='same'),   \n",
    "    tf.keras.layers.MaxPooling2D(pool_size=(2, 2)),\n",
    "    tf.keras.layers.Conv2D(64, 3, padding='same', activation='elu'),\n",
    "    tf.keras.layers.GlobalAveragePooling2D(),\n",
    "    tf.keras.layers.Dense(ds_info.features['label'].num_classes)\n",
    "])"
   ]
  },
  {
   "cell_type": "code",
   "execution_count": 14,
   "id": "combined-bridge",
   "metadata": {
    "ExecuteTime": {
     "end_time": "2022-01-08T23:38:30.409103Z",
     "start_time": "2022-01-08T23:38:30.390657Z"
    }
   },
   "outputs": [
    {
     "name": "stdout",
     "output_type": "stream",
     "text": [
      "Model: \"sequential\"\n",
      "_________________________________________________________________\n",
      "Layer (type)                 Output Shape              Param #   \n",
      "=================================================================\n",
      "conv2d (Conv2D)              (None, 28, 28, 32)        320       \n",
      "_________________________________________________________________\n",
      "max_pooling2d (MaxPooling2D) (None, 14, 14, 32)        0         \n",
      "_________________________________________________________________\n",
      "conv2d_1 (Conv2D)            (None, 14, 14, 64)        18496     \n",
      "_________________________________________________________________\n",
      "global_average_pooling2d (Gl (None, 64)                0         \n",
      "_________________________________________________________________\n",
      "dense (Dense)                (None, 10)                650       \n",
      "=================================================================\n",
      "Total params: 19,466\n",
      "Trainable params: 19,466\n",
      "Non-trainable params: 0\n",
      "_________________________________________________________________\n"
     ]
    }
   ],
   "source": [
    "small_model.summary()"
   ]
  },
  {
   "cell_type": "markdown",
   "id": "worth-preparation",
   "metadata": {},
   "source": [
    "## 3.2 Compile the model"
   ]
  },
  {
   "cell_type": "code",
   "execution_count": 15,
   "id": "indian-advertising",
   "metadata": {
    "ExecuteTime": {
     "end_time": "2022-01-08T23:38:30.441783Z",
     "start_time": "2022-01-08T23:38:30.409972Z"
    }
   },
   "outputs": [],
   "source": [
    "small_model.compile(\n",
    "    optimizer=tf.keras.optimizers.Adam(LR_ADAM),\n",
    "    loss=tf.keras.losses.SparseCategoricalCrossentropy(from_logits=True),\n",
    "    metrics=[tf.keras.metrics.SparseCategoricalAccuracy()],\n",
    ")"
   ]
  },
  {
   "cell_type": "markdown",
   "id": "ranging-winter",
   "metadata": {},
   "source": [
    "## 3.3 Train the network"
   ]
  },
  {
   "cell_type": "code",
   "execution_count": 16,
   "id": "developmental-bangladesh",
   "metadata": {
    "ExecuteTime": {
     "end_time": "2022-01-08T23:47:29.564737Z",
     "start_time": "2022-01-08T23:38:30.442687Z"
    },
    "scrolled": true
   },
   "outputs": [
    {
     "name": "stdout",
     "output_type": "stream",
     "text": [
      "Epoch 1/250\n",
      "469/469 [==============================] - 21s 26ms/step - loss: 1.9992 - sparse_categorical_accuracy: 0.2672 - val_loss: 1.3378 - val_sparse_categorical_accuracy: 0.5639\n",
      "Epoch 2/250\n",
      "469/469 [==============================] - 2s 4ms/step - loss: 1.2522 - sparse_categorical_accuracy: 0.5919 - val_loss: 0.9335 - val_sparse_categorical_accuracy: 0.7269\n",
      "Epoch 3/250\n",
      "469/469 [==============================] - 2s 4ms/step - loss: 0.9013 - sparse_categorical_accuracy: 0.7304 - val_loss: 0.6941 - val_sparse_categorical_accuracy: 0.8017\n",
      "Epoch 4/250\n",
      "469/469 [==============================] - 2s 5ms/step - loss: 0.6890 - sparse_categorical_accuracy: 0.8013 - val_loss: 0.5549 - val_sparse_categorical_accuracy: 0.8440\n",
      "Epoch 5/250\n",
      "469/469 [==============================] - 2s 4ms/step - loss: 0.5552 - sparse_categorical_accuracy: 0.8411 - val_loss: 0.4611 - val_sparse_categorical_accuracy: 0.8746\n",
      "Epoch 6/250\n",
      "469/469 [==============================] - 2s 5ms/step - loss: 0.4638 - sparse_categorical_accuracy: 0.8685 - val_loss: 0.3875 - val_sparse_categorical_accuracy: 0.8926\n",
      "Epoch 7/250\n",
      "469/469 [==============================] - 2s 4ms/step - loss: 0.3935 - sparse_categorical_accuracy: 0.8896 - val_loss: 0.3244 - val_sparse_categorical_accuracy: 0.9109\n",
      "Epoch 8/250\n",
      "469/469 [==============================] - 2s 4ms/step - loss: 0.3427 - sparse_categorical_accuracy: 0.9047 - val_loss: 0.2952 - val_sparse_categorical_accuracy: 0.9171\n",
      "Epoch 9/250\n",
      "469/469 [==============================] - 2s 5ms/step - loss: 0.3096 - sparse_categorical_accuracy: 0.9117 - val_loss: 0.2656 - val_sparse_categorical_accuracy: 0.9264\n",
      "Epoch 10/250\n",
      "469/469 [==============================] - 2s 4ms/step - loss: 0.2866 - sparse_categorical_accuracy: 0.9188 - val_loss: 0.2416 - val_sparse_categorical_accuracy: 0.9316\n",
      "Epoch 11/250\n",
      "469/469 [==============================] - 2s 4ms/step - loss: 0.2489 - sparse_categorical_accuracy: 0.9295 - val_loss: 0.2283 - val_sparse_categorical_accuracy: 0.9327\n",
      "Epoch 12/250\n",
      "469/469 [==============================] - 2s 4ms/step - loss: 0.2406 - sparse_categorical_accuracy: 0.9311 - val_loss: 0.2175 - val_sparse_categorical_accuracy: 0.9378\n",
      "Epoch 13/250\n",
      "469/469 [==============================] - 2s 5ms/step - loss: 0.2271 - sparse_categorical_accuracy: 0.9340 - val_loss: 0.1971 - val_sparse_categorical_accuracy: 0.9428\n",
      "Epoch 14/250\n",
      "469/469 [==============================] - 2s 4ms/step - loss: 0.2186 - sparse_categorical_accuracy: 0.9377 - val_loss: 0.1952 - val_sparse_categorical_accuracy: 0.9420\n",
      "Epoch 15/250\n",
      "469/469 [==============================] - 2s 4ms/step - loss: 0.2053 - sparse_categorical_accuracy: 0.9405 - val_loss: 0.1759 - val_sparse_categorical_accuracy: 0.9485\n",
      "Epoch 16/250\n",
      "469/469 [==============================] - 2s 4ms/step - loss: 0.1872 - sparse_categorical_accuracy: 0.9469 - val_loss: 0.1757 - val_sparse_categorical_accuracy: 0.9486\n",
      "Epoch 17/250\n",
      "469/469 [==============================] - 2s 4ms/step - loss: 0.1851 - sparse_categorical_accuracy: 0.9476 - val_loss: 0.1598 - val_sparse_categorical_accuracy: 0.9519\n",
      "Epoch 18/250\n",
      "469/469 [==============================] - 2s 5ms/step - loss: 0.1823 - sparse_categorical_accuracy: 0.9472 - val_loss: 0.1797 - val_sparse_categorical_accuracy: 0.9454\n",
      "Epoch 19/250\n",
      "469/469 [==============================] - 2s 4ms/step - loss: 0.1809 - sparse_categorical_accuracy: 0.9470 - val_loss: 0.1498 - val_sparse_categorical_accuracy: 0.9536\n",
      "Epoch 20/250\n",
      "469/469 [==============================] - 2s 4ms/step - loss: 0.1654 - sparse_categorical_accuracy: 0.9520 - val_loss: 0.1462 - val_sparse_categorical_accuracy: 0.9544\n",
      "Epoch 21/250\n",
      "469/469 [==============================] - 2s 4ms/step - loss: 0.1618 - sparse_categorical_accuracy: 0.9516 - val_loss: 0.1477 - val_sparse_categorical_accuracy: 0.9550\n",
      "Epoch 22/250\n",
      "469/469 [==============================] - 2s 5ms/step - loss: 0.1561 - sparse_categorical_accuracy: 0.9542 - val_loss: 0.1389 - val_sparse_categorical_accuracy: 0.9569\n",
      "Epoch 23/250\n",
      "469/469 [==============================] - 2s 5ms/step - loss: 0.1544 - sparse_categorical_accuracy: 0.9552 - val_loss: 0.1312 - val_sparse_categorical_accuracy: 0.9591\n",
      "Epoch 24/250\n",
      "469/469 [==============================] - 2s 4ms/step - loss: 0.1475 - sparse_categorical_accuracy: 0.9568 - val_loss: 0.1339 - val_sparse_categorical_accuracy: 0.9599\n",
      "Epoch 25/250\n",
      "469/469 [==============================] - 2s 4ms/step - loss: 0.1428 - sparse_categorical_accuracy: 0.9569 - val_loss: 0.1398 - val_sparse_categorical_accuracy: 0.9592\n",
      "Epoch 26/250\n",
      "469/469 [==============================] - 2s 5ms/step - loss: 0.1388 - sparse_categorical_accuracy: 0.9593 - val_loss: 0.1228 - val_sparse_categorical_accuracy: 0.9619\n",
      "Epoch 27/250\n",
      "469/469 [==============================] - 2s 5ms/step - loss: 0.1376 - sparse_categorical_accuracy: 0.9590 - val_loss: 0.1228 - val_sparse_categorical_accuracy: 0.9613\n",
      "Epoch 28/250\n",
      "469/469 [==============================] - 2s 4ms/step - loss: 0.1350 - sparse_categorical_accuracy: 0.9602 - val_loss: 0.1242 - val_sparse_categorical_accuracy: 0.9609\n",
      "Epoch 29/250\n",
      "469/469 [==============================] - 2s 4ms/step - loss: 0.1315 - sparse_categorical_accuracy: 0.9609 - val_loss: 0.1144 - val_sparse_categorical_accuracy: 0.9652\n",
      "Epoch 30/250\n",
      "469/469 [==============================] - 2s 4ms/step - loss: 0.1255 - sparse_categorical_accuracy: 0.9632 - val_loss: 0.1212 - val_sparse_categorical_accuracy: 0.9597\n",
      "Epoch 31/250\n",
      "469/469 [==============================] - 2s 5ms/step - loss: 0.1303 - sparse_categorical_accuracy: 0.9612 - val_loss: 0.1095 - val_sparse_categorical_accuracy: 0.9650\n",
      "Epoch 32/250\n",
      "469/469 [==============================] - 2s 4ms/step - loss: 0.1208 - sparse_categorical_accuracy: 0.9642 - val_loss: 0.1122 - val_sparse_categorical_accuracy: 0.9654\n",
      "Epoch 33/250\n",
      "469/469 [==============================] - 2s 4ms/step - loss: 0.1258 - sparse_categorical_accuracy: 0.9625 - val_loss: 0.1151 - val_sparse_categorical_accuracy: 0.9646\n",
      "Epoch 34/250\n",
      "469/469 [==============================] - 2s 4ms/step - loss: 0.1208 - sparse_categorical_accuracy: 0.9648 - val_loss: 0.1218 - val_sparse_categorical_accuracy: 0.9598\n",
      "Epoch 35/250\n",
      "469/469 [==============================] - 2s 5ms/step - loss: 0.1238 - sparse_categorical_accuracy: 0.9630 - val_loss: 0.1100 - val_sparse_categorical_accuracy: 0.9648\n",
      "Epoch 36/250\n",
      "469/469 [==============================] - 2s 4ms/step - loss: 0.1102 - sparse_categorical_accuracy: 0.9673 - val_loss: 0.1061 - val_sparse_categorical_accuracy: 0.9667\n",
      "Epoch 37/250\n",
      "469/469 [==============================] - 2s 4ms/step - loss: 0.1155 - sparse_categorical_accuracy: 0.9654 - val_loss: 0.1053 - val_sparse_categorical_accuracy: 0.9667\n",
      "Epoch 38/250\n",
      "469/469 [==============================] - 2s 4ms/step - loss: 0.1120 - sparse_categorical_accuracy: 0.9672 - val_loss: 0.1034 - val_sparse_categorical_accuracy: 0.9676\n",
      "Epoch 39/250\n",
      "469/469 [==============================] - 2s 4ms/step - loss: 0.1101 - sparse_categorical_accuracy: 0.9670 - val_loss: 0.1069 - val_sparse_categorical_accuracy: 0.9671\n",
      "Epoch 40/250\n",
      "469/469 [==============================] - 2s 5ms/step - loss: 0.1081 - sparse_categorical_accuracy: 0.9673 - val_loss: 0.0981 - val_sparse_categorical_accuracy: 0.9685\n",
      "Epoch 41/250\n",
      "469/469 [==============================] - 2s 4ms/step - loss: 0.1095 - sparse_categorical_accuracy: 0.9676 - val_loss: 0.0957 - val_sparse_categorical_accuracy: 0.9702\n",
      "Epoch 42/250\n",
      "469/469 [==============================] - 2s 4ms/step - loss: 0.1043 - sparse_categorical_accuracy: 0.9690 - val_loss: 0.1005 - val_sparse_categorical_accuracy: 0.9683\n",
      "Epoch 43/250\n",
      "469/469 [==============================] - 2s 4ms/step - loss: 0.1044 - sparse_categorical_accuracy: 0.9680 - val_loss: 0.0941 - val_sparse_categorical_accuracy: 0.9698\n",
      "Epoch 44/250\n",
      "469/469 [==============================] - 2s 5ms/step - loss: 0.1036 - sparse_categorical_accuracy: 0.9689 - val_loss: 0.0971 - val_sparse_categorical_accuracy: 0.9696\n",
      "Epoch 45/250\n",
      "469/469 [==============================] - 2s 4ms/step - loss: 0.1037 - sparse_categorical_accuracy: 0.9683 - val_loss: 0.0992 - val_sparse_categorical_accuracy: 0.9691\n",
      "Epoch 46/250\n"
     ]
    },
    {
     "name": "stdout",
     "output_type": "stream",
     "text": [
      "469/469 [==============================] - 2s 4ms/step - loss: 0.0980 - sparse_categorical_accuracy: 0.9714 - val_loss: 0.1007 - val_sparse_categorical_accuracy: 0.9678\n",
      "Epoch 47/250\n",
      "469/469 [==============================] - 2s 4ms/step - loss: 0.0999 - sparse_categorical_accuracy: 0.9701 - val_loss: 0.0948 - val_sparse_categorical_accuracy: 0.9705\n",
      "Epoch 48/250\n",
      "469/469 [==============================] - 2s 5ms/step - loss: 0.0996 - sparse_categorical_accuracy: 0.9705 - val_loss: 0.0921 - val_sparse_categorical_accuracy: 0.9709\n",
      "Epoch 49/250\n",
      "469/469 [==============================] - 2s 4ms/step - loss: 0.0961 - sparse_categorical_accuracy: 0.9715 - val_loss: 0.0923 - val_sparse_categorical_accuracy: 0.9719\n",
      "Epoch 50/250\n",
      "469/469 [==============================] - 2s 4ms/step - loss: 0.0941 - sparse_categorical_accuracy: 0.9717 - val_loss: 0.0929 - val_sparse_categorical_accuracy: 0.9703\n",
      "Epoch 51/250\n",
      "469/469 [==============================] - 2s 5ms/step - loss: 0.0963 - sparse_categorical_accuracy: 0.9704 - val_loss: 0.0918 - val_sparse_categorical_accuracy: 0.9706\n",
      "Epoch 52/250\n",
      "469/469 [==============================] - 2s 4ms/step - loss: 0.0953 - sparse_categorical_accuracy: 0.9722 - val_loss: 0.0900 - val_sparse_categorical_accuracy: 0.9701\n",
      "Epoch 53/250\n",
      "469/469 [==============================] - 2s 4ms/step - loss: 0.0953 - sparse_categorical_accuracy: 0.9718 - val_loss: 0.0956 - val_sparse_categorical_accuracy: 0.9686\n",
      "Epoch 54/250\n",
      "469/469 [==============================] - 2s 4ms/step - loss: 0.0897 - sparse_categorical_accuracy: 0.9732 - val_loss: 0.0853 - val_sparse_categorical_accuracy: 0.9744\n",
      "Epoch 55/250\n",
      "469/469 [==============================] - 2s 5ms/step - loss: 0.0893 - sparse_categorical_accuracy: 0.9735 - val_loss: 0.0876 - val_sparse_categorical_accuracy: 0.9716\n",
      "Epoch 56/250\n",
      "469/469 [==============================] - 2s 4ms/step - loss: 0.0894 - sparse_categorical_accuracy: 0.9742 - val_loss: 0.0925 - val_sparse_categorical_accuracy: 0.9707\n",
      "Epoch 57/250\n",
      "469/469 [==============================] - 2s 4ms/step - loss: 0.0843 - sparse_categorical_accuracy: 0.9745 - val_loss: 0.0880 - val_sparse_categorical_accuracy: 0.9715\n",
      "Epoch 58/250\n",
      "469/469 [==============================] - 2s 4ms/step - loss: 0.0866 - sparse_categorical_accuracy: 0.9736 - val_loss: 0.0863 - val_sparse_categorical_accuracy: 0.9734\n",
      "Epoch 59/250\n",
      "469/469 [==============================] - 2s 5ms/step - loss: 0.0870 - sparse_categorical_accuracy: 0.9735 - val_loss: 0.0988 - val_sparse_categorical_accuracy: 0.9684\n",
      "Epoch 60/250\n",
      "469/469 [==============================] - 2s 5ms/step - loss: 0.0921 - sparse_categorical_accuracy: 0.9717 - val_loss: 0.0825 - val_sparse_categorical_accuracy: 0.9733\n",
      "Epoch 61/250\n",
      "469/469 [==============================] - 2s 4ms/step - loss: 0.0817 - sparse_categorical_accuracy: 0.9756 - val_loss: 0.0776 - val_sparse_categorical_accuracy: 0.9732\n",
      "Epoch 62/250\n",
      "469/469 [==============================] - 2s 5ms/step - loss: 0.0838 - sparse_categorical_accuracy: 0.9753 - val_loss: 0.0957 - val_sparse_categorical_accuracy: 0.9699\n",
      "Epoch 63/250\n",
      "469/469 [==============================] - 2s 4ms/step - loss: 0.0835 - sparse_categorical_accuracy: 0.9749 - val_loss: 0.0913 - val_sparse_categorical_accuracy: 0.9703\n",
      "Epoch 64/250\n",
      "469/469 [==============================] - 2s 4ms/step - loss: 0.0834 - sparse_categorical_accuracy: 0.9749 - val_loss: 0.0772 - val_sparse_categorical_accuracy: 0.9748\n",
      "Epoch 65/250\n",
      "469/469 [==============================] - 2s 4ms/step - loss: 0.0786 - sparse_categorical_accuracy: 0.9762 - val_loss: 0.0789 - val_sparse_categorical_accuracy: 0.9745\n",
      "Epoch 66/250\n",
      "469/469 [==============================] - 2s 5ms/step - loss: 0.0808 - sparse_categorical_accuracy: 0.9765 - val_loss: 0.0834 - val_sparse_categorical_accuracy: 0.9719\n",
      "Epoch 67/250\n",
      "469/469 [==============================] - 2s 5ms/step - loss: 0.0789 - sparse_categorical_accuracy: 0.9762 - val_loss: 0.0806 - val_sparse_categorical_accuracy: 0.9746\n",
      "Epoch 68/250\n",
      "469/469 [==============================] - 2s 4ms/step - loss: 0.0767 - sparse_categorical_accuracy: 0.9768 - val_loss: 0.0800 - val_sparse_categorical_accuracy: 0.9744\n",
      "Epoch 69/250\n",
      "469/469 [==============================] - 2s 4ms/step - loss: 0.0779 - sparse_categorical_accuracy: 0.9761 - val_loss: 0.0873 - val_sparse_categorical_accuracy: 0.9729\n",
      "Epoch 70/250\n",
      "469/469 [==============================] - 2s 4ms/step - loss: 0.0793 - sparse_categorical_accuracy: 0.9758 - val_loss: 0.0786 - val_sparse_categorical_accuracy: 0.9744\n",
      "Epoch 71/250\n",
      "469/469 [==============================] - 2s 4ms/step - loss: 0.0781 - sparse_categorical_accuracy: 0.9774 - val_loss: 0.0769 - val_sparse_categorical_accuracy: 0.9751\n",
      "Epoch 72/250\n",
      "469/469 [==============================] - 2s 4ms/step - loss: 0.0718 - sparse_categorical_accuracy: 0.9787 - val_loss: 0.0764 - val_sparse_categorical_accuracy: 0.9752\n",
      "Epoch 73/250\n",
      "469/469 [==============================] - 2s 4ms/step - loss: 0.0771 - sparse_categorical_accuracy: 0.9772 - val_loss: 0.0803 - val_sparse_categorical_accuracy: 0.9736\n",
      "Epoch 74/250\n",
      "469/469 [==============================] - 2s 4ms/step - loss: 0.0761 - sparse_categorical_accuracy: 0.9763 - val_loss: 0.0735 - val_sparse_categorical_accuracy: 0.9752\n",
      "Epoch 75/250\n",
      "469/469 [==============================] - 2s 5ms/step - loss: 0.0787 - sparse_categorical_accuracy: 0.9765 - val_loss: 0.0821 - val_sparse_categorical_accuracy: 0.9734\n",
      "Epoch 76/250\n",
      "469/469 [==============================] - 2s 4ms/step - loss: 0.0740 - sparse_categorical_accuracy: 0.9781 - val_loss: 0.0758 - val_sparse_categorical_accuracy: 0.9759\n",
      "Epoch 77/250\n",
      "469/469 [==============================] - 2s 4ms/step - loss: 0.0724 - sparse_categorical_accuracy: 0.9785 - val_loss: 0.0728 - val_sparse_categorical_accuracy: 0.9770\n",
      "Epoch 78/250\n",
      "469/469 [==============================] - 2s 4ms/step - loss: 0.0743 - sparse_categorical_accuracy: 0.9774 - val_loss: 0.0708 - val_sparse_categorical_accuracy: 0.9767\n",
      "Epoch 79/250\n",
      "469/469 [==============================] - 2s 4ms/step - loss: 0.0686 - sparse_categorical_accuracy: 0.9793 - val_loss: 0.0701 - val_sparse_categorical_accuracy: 0.9769\n",
      "Epoch 80/250\n",
      "469/469 [==============================] - 2s 4ms/step - loss: 0.0728 - sparse_categorical_accuracy: 0.9767 - val_loss: 0.0831 - val_sparse_categorical_accuracy: 0.9736\n",
      "Epoch 81/250\n",
      "469/469 [==============================] - 2s 4ms/step - loss: 0.0706 - sparse_categorical_accuracy: 0.9787 - val_loss: 0.0802 - val_sparse_categorical_accuracy: 0.9743\n",
      "Epoch 82/250\n",
      "469/469 [==============================] - 2s 4ms/step - loss: 0.0722 - sparse_categorical_accuracy: 0.9777 - val_loss: 0.0710 - val_sparse_categorical_accuracy: 0.9770\n",
      "Epoch 83/250\n",
      "469/469 [==============================] - 2s 5ms/step - loss: 0.0691 - sparse_categorical_accuracy: 0.9793 - val_loss: 0.0752 - val_sparse_categorical_accuracy: 0.9753\n",
      "Epoch 84/250\n",
      "469/469 [==============================] - 2s 4ms/step - loss: 0.0651 - sparse_categorical_accuracy: 0.9799 - val_loss: 0.0673 - val_sparse_categorical_accuracy: 0.9778\n",
      "Epoch 85/250\n",
      "469/469 [==============================] - 2s 4ms/step - loss: 0.0716 - sparse_categorical_accuracy: 0.9781 - val_loss: 0.0643 - val_sparse_categorical_accuracy: 0.9782\n",
      "Epoch 86/250\n",
      "469/469 [==============================] - 2s 4ms/step - loss: 0.0663 - sparse_categorical_accuracy: 0.9799 - val_loss: 0.0705 - val_sparse_categorical_accuracy: 0.9770\n",
      "Epoch 87/250\n",
      "469/469 [==============================] - 2s 5ms/step - loss: 0.0711 - sparse_categorical_accuracy: 0.9780 - val_loss: 0.0678 - val_sparse_categorical_accuracy: 0.9778\n",
      "Epoch 88/250\n",
      "469/469 [==============================] - 2s 4ms/step - loss: 0.0655 - sparse_categorical_accuracy: 0.9798 - val_loss: 0.0695 - val_sparse_categorical_accuracy: 0.9762\n",
      "Epoch 89/250\n",
      "469/469 [==============================] - 2s 4ms/step - loss: 0.0662 - sparse_categorical_accuracy: 0.9804 - val_loss: 0.0713 - val_sparse_categorical_accuracy: 0.9757\n",
      "Epoch 90/250\n",
      "469/469 [==============================] - 2s 4ms/step - loss: 0.0681 - sparse_categorical_accuracy: 0.9795 - val_loss: 0.0836 - val_sparse_categorical_accuracy: 0.9737\n",
      "Epoch 91/250\n"
     ]
    },
    {
     "name": "stdout",
     "output_type": "stream",
     "text": [
      "469/469 [==============================] - 2s 4ms/step - loss: 0.0671 - sparse_categorical_accuracy: 0.9794 - val_loss: 0.0645 - val_sparse_categorical_accuracy: 0.9783\n",
      "Epoch 92/250\n",
      "469/469 [==============================] - 2s 5ms/step - loss: 0.0688 - sparse_categorical_accuracy: 0.9789 - val_loss: 0.0734 - val_sparse_categorical_accuracy: 0.9758\n",
      "Epoch 93/250\n",
      "469/469 [==============================] - 2s 4ms/step - loss: 0.0687 - sparse_categorical_accuracy: 0.9791 - val_loss: 0.0859 - val_sparse_categorical_accuracy: 0.9729\n",
      "Epoch 94/250\n",
      "469/469 [==============================] - 2s 4ms/step - loss: 0.0693 - sparse_categorical_accuracy: 0.9788 - val_loss: 0.0654 - val_sparse_categorical_accuracy: 0.9788\n",
      "Epoch 95/250\n",
      "469/469 [==============================] - 2s 4ms/step - loss: 0.0622 - sparse_categorical_accuracy: 0.9810 - val_loss: 0.0612 - val_sparse_categorical_accuracy: 0.9792\n",
      "Epoch 96/250\n",
      "469/469 [==============================] - 2s 5ms/step - loss: 0.0673 - sparse_categorical_accuracy: 0.9801 - val_loss: 0.0664 - val_sparse_categorical_accuracy: 0.9790\n",
      "Epoch 97/250\n",
      "469/469 [==============================] - 2s 5ms/step - loss: 0.0625 - sparse_categorical_accuracy: 0.9812 - val_loss: 0.0678 - val_sparse_categorical_accuracy: 0.9785\n",
      "Epoch 98/250\n",
      "469/469 [==============================] - 2s 4ms/step - loss: 0.0663 - sparse_categorical_accuracy: 0.9801 - val_loss: 0.0673 - val_sparse_categorical_accuracy: 0.9769\n",
      "Epoch 99/250\n",
      "469/469 [==============================] - 2s 5ms/step - loss: 0.0621 - sparse_categorical_accuracy: 0.9807 - val_loss: 0.0675 - val_sparse_categorical_accuracy: 0.9769\n",
      "Epoch 100/250\n",
      "469/469 [==============================] - 2s 4ms/step - loss: 0.0613 - sparse_categorical_accuracy: 0.9816 - val_loss: 0.0671 - val_sparse_categorical_accuracy: 0.9780\n",
      "Epoch 101/250\n",
      "469/469 [==============================] - 2s 4ms/step - loss: 0.0600 - sparse_categorical_accuracy: 0.9821 - val_loss: 0.0652 - val_sparse_categorical_accuracy: 0.9782\n",
      "Epoch 102/250\n",
      "469/469 [==============================] - 2s 4ms/step - loss: 0.0631 - sparse_categorical_accuracy: 0.9809 - val_loss: 0.0661 - val_sparse_categorical_accuracy: 0.9788\n",
      "Epoch 103/250\n",
      "469/469 [==============================] - 2s 4ms/step - loss: 0.0582 - sparse_categorical_accuracy: 0.9823 - val_loss: 0.0646 - val_sparse_categorical_accuracy: 0.9782\n",
      "Epoch 104/250\n",
      "469/469 [==============================] - 2s 5ms/step - loss: 0.0569 - sparse_categorical_accuracy: 0.9831 - val_loss: 0.0624 - val_sparse_categorical_accuracy: 0.9786\n",
      "Epoch 105/250\n",
      "469/469 [==============================] - 2s 4ms/step - loss: 0.0599 - sparse_categorical_accuracy: 0.9815 - val_loss: 0.0608 - val_sparse_categorical_accuracy: 0.9793\n",
      "Epoch 106/250\n",
      "469/469 [==============================] - 2s 4ms/step - loss: 0.0579 - sparse_categorical_accuracy: 0.9825 - val_loss: 0.0649 - val_sparse_categorical_accuracy: 0.9785\n",
      "Epoch 107/250\n",
      "469/469 [==============================] - 2s 4ms/step - loss: 0.0599 - sparse_categorical_accuracy: 0.9817 - val_loss: 0.0616 - val_sparse_categorical_accuracy: 0.9778\n",
      "Epoch 108/250\n",
      "469/469 [==============================] - 2s 4ms/step - loss: 0.0564 - sparse_categorical_accuracy: 0.9824 - val_loss: 0.0667 - val_sparse_categorical_accuracy: 0.9789\n",
      "Epoch 109/250\n",
      "469/469 [==============================] - 2s 5ms/step - loss: 0.0589 - sparse_categorical_accuracy: 0.9814 - val_loss: 0.0574 - val_sparse_categorical_accuracy: 0.9804\n",
      "Epoch 110/250\n",
      "469/469 [==============================] - 2s 4ms/step - loss: 0.0582 - sparse_categorical_accuracy: 0.9820 - val_loss: 0.0610 - val_sparse_categorical_accuracy: 0.9795\n",
      "Epoch 111/250\n",
      "469/469 [==============================] - 2s 4ms/step - loss: 0.0588 - sparse_categorical_accuracy: 0.9820 - val_loss: 0.0692 - val_sparse_categorical_accuracy: 0.9780\n",
      "Epoch 112/250\n",
      "469/469 [==============================] - 2s 4ms/step - loss: 0.0610 - sparse_categorical_accuracy: 0.9810 - val_loss: 0.0617 - val_sparse_categorical_accuracy: 0.9800\n",
      "Epoch 113/250\n",
      "469/469 [==============================] - 2s 4ms/step - loss: 0.0608 - sparse_categorical_accuracy: 0.9820 - val_loss: 0.0627 - val_sparse_categorical_accuracy: 0.9783\n",
      "Epoch 114/250\n",
      "469/469 [==============================] - 2s 4ms/step - loss: 0.0568 - sparse_categorical_accuracy: 0.9829 - val_loss: 0.0604 - val_sparse_categorical_accuracy: 0.9795\n",
      "Epoch 115/250\n",
      "469/469 [==============================] - 2s 4ms/step - loss: 0.0559 - sparse_categorical_accuracy: 0.9821 - val_loss: 0.0642 - val_sparse_categorical_accuracy: 0.9794\n",
      "Epoch 116/250\n",
      "469/469 [==============================] - 2s 4ms/step - loss: 0.0566 - sparse_categorical_accuracy: 0.9820 - val_loss: 0.0614 - val_sparse_categorical_accuracy: 0.9796\n",
      "Epoch 117/250\n",
      "469/469 [==============================] - 2s 4ms/step - loss: 0.0529 - sparse_categorical_accuracy: 0.9836 - val_loss: 0.0648 - val_sparse_categorical_accuracy: 0.9789\n",
      "Epoch 118/250\n",
      "469/469 [==============================] - 2s 5ms/step - loss: 0.0602 - sparse_categorical_accuracy: 0.9814 - val_loss: 0.0592 - val_sparse_categorical_accuracy: 0.9798\n",
      "Epoch 119/250\n",
      "469/469 [==============================] - 2s 4ms/step - loss: 0.0563 - sparse_categorical_accuracy: 0.9824 - val_loss: 0.0558 - val_sparse_categorical_accuracy: 0.9809\n",
      "Epoch 120/250\n",
      "469/469 [==============================] - 2s 4ms/step - loss: 0.0549 - sparse_categorical_accuracy: 0.9833 - val_loss: 0.0596 - val_sparse_categorical_accuracy: 0.9803\n",
      "Epoch 121/250\n",
      "469/469 [==============================] - 2s 4ms/step - loss: 0.0534 - sparse_categorical_accuracy: 0.9832 - val_loss: 0.0657 - val_sparse_categorical_accuracy: 0.9797\n",
      "Epoch 122/250\n",
      "469/469 [==============================] - 2s 4ms/step - loss: 0.0544 - sparse_categorical_accuracy: 0.9830 - val_loss: 0.0607 - val_sparse_categorical_accuracy: 0.9799\n",
      "Epoch 123/250\n",
      "469/469 [==============================] - 2s 4ms/step - loss: 0.0534 - sparse_categorical_accuracy: 0.9836 - val_loss: 0.0555 - val_sparse_categorical_accuracy: 0.9801\n",
      "Epoch 124/250\n",
      "469/469 [==============================] - 2s 4ms/step - loss: 0.0543 - sparse_categorical_accuracy: 0.9832 - val_loss: 0.0552 - val_sparse_categorical_accuracy: 0.9805\n",
      "Epoch 125/250\n",
      "469/469 [==============================] - 2s 4ms/step - loss: 0.0526 - sparse_categorical_accuracy: 0.9842 - val_loss: 0.0634 - val_sparse_categorical_accuracy: 0.9794\n",
      "Epoch 126/250\n",
      "469/469 [==============================] - 2s 5ms/step - loss: 0.0545 - sparse_categorical_accuracy: 0.9831 - val_loss: 0.0562 - val_sparse_categorical_accuracy: 0.9817\n",
      "Epoch 127/250\n",
      "469/469 [==============================] - 2s 4ms/step - loss: 0.0557 - sparse_categorical_accuracy: 0.9830 - val_loss: 0.0570 - val_sparse_categorical_accuracy: 0.9810\n",
      "Epoch 128/250\n",
      "469/469 [==============================] - 2s 4ms/step - loss: 0.0499 - sparse_categorical_accuracy: 0.9848 - val_loss: 0.0568 - val_sparse_categorical_accuracy: 0.9807\n",
      "Epoch 129/250\n",
      "469/469 [==============================] - 2s 4ms/step - loss: 0.0527 - sparse_categorical_accuracy: 0.9841 - val_loss: 0.0599 - val_sparse_categorical_accuracy: 0.9809\n",
      "Epoch 130/250\n",
      "469/469 [==============================] - 2s 4ms/step - loss: 0.0535 - sparse_categorical_accuracy: 0.9841 - val_loss: 0.0555 - val_sparse_categorical_accuracy: 0.9809\n",
      "Epoch 131/250\n",
      "469/469 [==============================] - 2s 4ms/step - loss: 0.0475 - sparse_categorical_accuracy: 0.9855 - val_loss: 0.0566 - val_sparse_categorical_accuracy: 0.9809\n",
      "Epoch 132/250\n",
      "469/469 [==============================] - 2s 4ms/step - loss: 0.0513 - sparse_categorical_accuracy: 0.9842 - val_loss: 0.0700 - val_sparse_categorical_accuracy: 0.9760\n",
      "Epoch 133/250\n",
      "469/469 [==============================] - 2s 4ms/step - loss: 0.0487 - sparse_categorical_accuracy: 0.9849 - val_loss: 0.0547 - val_sparse_categorical_accuracy: 0.9818\n",
      "Epoch 134/250\n",
      "469/469 [==============================] - 2s 4ms/step - loss: 0.0495 - sparse_categorical_accuracy: 0.9841 - val_loss: 0.0684 - val_sparse_categorical_accuracy: 0.9766\n",
      "Epoch 135/250\n",
      "469/469 [==============================] - 2s 4ms/step - loss: 0.0521 - sparse_categorical_accuracy: 0.9842 - val_loss: 0.0545 - val_sparse_categorical_accuracy: 0.9812\n"
     ]
    },
    {
     "name": "stdout",
     "output_type": "stream",
     "text": [
      "Epoch 136/250\n",
      "469/469 [==============================] - 2s 4ms/step - loss: 0.0489 - sparse_categorical_accuracy: 0.9846 - val_loss: 0.0537 - val_sparse_categorical_accuracy: 0.9821\n",
      "Epoch 137/250\n",
      "469/469 [==============================] - 2s 4ms/step - loss: 0.0486 - sparse_categorical_accuracy: 0.9851 - val_loss: 0.0592 - val_sparse_categorical_accuracy: 0.9806\n",
      "Epoch 138/250\n",
      "469/469 [==============================] - 2s 4ms/step - loss: 0.0462 - sparse_categorical_accuracy: 0.9852 - val_loss: 0.0556 - val_sparse_categorical_accuracy: 0.9811\n",
      "Epoch 139/250\n",
      "469/469 [==============================] - 2s 5ms/step - loss: 0.0512 - sparse_categorical_accuracy: 0.9833 - val_loss: 0.0553 - val_sparse_categorical_accuracy: 0.9811\n",
      "Epoch 140/250\n",
      "469/469 [==============================] - 2s 4ms/step - loss: 0.0491 - sparse_categorical_accuracy: 0.9845 - val_loss: 0.0508 - val_sparse_categorical_accuracy: 0.9828\n",
      "Epoch 141/250\n",
      "469/469 [==============================] - 2s 4ms/step - loss: 0.0492 - sparse_categorical_accuracy: 0.9845 - val_loss: 0.0568 - val_sparse_categorical_accuracy: 0.9815\n",
      "Epoch 142/250\n",
      "469/469 [==============================] - 2s 4ms/step - loss: 0.0474 - sparse_categorical_accuracy: 0.9854 - val_loss: 0.0580 - val_sparse_categorical_accuracy: 0.9799\n",
      "Epoch 143/250\n",
      "469/469 [==============================] - 2s 5ms/step - loss: 0.0465 - sparse_categorical_accuracy: 0.9856 - val_loss: 0.0555 - val_sparse_categorical_accuracy: 0.9819\n",
      "Epoch 144/250\n",
      "469/469 [==============================] - 2s 4ms/step - loss: 0.0462 - sparse_categorical_accuracy: 0.9851 - val_loss: 0.0563 - val_sparse_categorical_accuracy: 0.9808\n",
      "Epoch 145/250\n",
      "469/469 [==============================] - 2s 4ms/step - loss: 0.0464 - sparse_categorical_accuracy: 0.9859 - val_loss: 0.0511 - val_sparse_categorical_accuracy: 0.9824\n",
      "Epoch 146/250\n",
      "469/469 [==============================] - 2s 4ms/step - loss: 0.0466 - sparse_categorical_accuracy: 0.9862 - val_loss: 0.0556 - val_sparse_categorical_accuracy: 0.9811\n",
      "Epoch 147/250\n",
      "469/469 [==============================] - 2s 4ms/step - loss: 0.0449 - sparse_categorical_accuracy: 0.9864 - val_loss: 0.0560 - val_sparse_categorical_accuracy: 0.9810\n",
      "Epoch 148/250\n",
      "469/469 [==============================] - 2s 4ms/step - loss: 0.0464 - sparse_categorical_accuracy: 0.9857 - val_loss: 0.0544 - val_sparse_categorical_accuracy: 0.9821\n",
      "Epoch 149/250\n",
      "469/469 [==============================] - 2s 5ms/step - loss: 0.0430 - sparse_categorical_accuracy: 0.9865 - val_loss: 0.0564 - val_sparse_categorical_accuracy: 0.9810\n",
      "Epoch 150/250\n",
      "469/469 [==============================] - 2s 5ms/step - loss: 0.0480 - sparse_categorical_accuracy: 0.9847 - val_loss: 0.0596 - val_sparse_categorical_accuracy: 0.9804\n",
      "Epoch 151/250\n",
      "469/469 [==============================] - 2s 4ms/step - loss: 0.0451 - sparse_categorical_accuracy: 0.9859 - val_loss: 0.0574 - val_sparse_categorical_accuracy: 0.9812\n",
      "Epoch 152/250\n",
      "469/469 [==============================] - 2s 4ms/step - loss: 0.0446 - sparse_categorical_accuracy: 0.9861 - val_loss: 0.0545 - val_sparse_categorical_accuracy: 0.9831\n",
      "Epoch 153/250\n",
      "469/469 [==============================] - 2s 4ms/step - loss: 0.0478 - sparse_categorical_accuracy: 0.9851 - val_loss: 0.0495 - val_sparse_categorical_accuracy: 0.9826\n",
      "Epoch 154/250\n",
      "469/469 [==============================] - 2s 4ms/step - loss: 0.0448 - sparse_categorical_accuracy: 0.9865 - val_loss: 0.0554 - val_sparse_categorical_accuracy: 0.9818\n",
      "Epoch 155/250\n",
      "469/469 [==============================] - 2s 4ms/step - loss: 0.0460 - sparse_categorical_accuracy: 0.9850 - val_loss: 0.0562 - val_sparse_categorical_accuracy: 0.9802\n",
      "Epoch 156/250\n",
      "469/469 [==============================] - 2s 5ms/step - loss: 0.0453 - sparse_categorical_accuracy: 0.9856 - val_loss: 0.0489 - val_sparse_categorical_accuracy: 0.9833\n",
      "Epoch 157/250\n",
      "469/469 [==============================] - 2s 5ms/step - loss: 0.0425 - sparse_categorical_accuracy: 0.9859 - val_loss: 0.0559 - val_sparse_categorical_accuracy: 0.9804\n",
      "Epoch 158/250\n",
      "469/469 [==============================] - 2s 4ms/step - loss: 0.0464 - sparse_categorical_accuracy: 0.9856 - val_loss: 0.0571 - val_sparse_categorical_accuracy: 0.9812\n",
      "Epoch 159/250\n",
      "469/469 [==============================] - 2s 4ms/step - loss: 0.0445 - sparse_categorical_accuracy: 0.9865 - val_loss: 0.0513 - val_sparse_categorical_accuracy: 0.9827\n",
      "Epoch 160/250\n",
      "469/469 [==============================] - 2s 5ms/step - loss: 0.0403 - sparse_categorical_accuracy: 0.9874 - val_loss: 0.0531 - val_sparse_categorical_accuracy: 0.9825\n",
      "Epoch 161/250\n",
      "469/469 [==============================] - 2s 4ms/step - loss: 0.0452 - sparse_categorical_accuracy: 0.9862 - val_loss: 0.0552 - val_sparse_categorical_accuracy: 0.9818\n",
      "Epoch 162/250\n",
      "469/469 [==============================] - 2s 4ms/step - loss: 0.0438 - sparse_categorical_accuracy: 0.9866 - val_loss: 0.0520 - val_sparse_categorical_accuracy: 0.9820\n",
      "Epoch 163/250\n",
      "469/469 [==============================] - 2s 4ms/step - loss: 0.0436 - sparse_categorical_accuracy: 0.9873 - val_loss: 0.0550 - val_sparse_categorical_accuracy: 0.9814\n",
      "Epoch 164/250\n",
      "469/469 [==============================] - 2s 5ms/step - loss: 0.0443 - sparse_categorical_accuracy: 0.9858 - val_loss: 0.0529 - val_sparse_categorical_accuracy: 0.9828\n",
      "Epoch 165/250\n",
      "469/469 [==============================] - 2s 4ms/step - loss: 0.0431 - sparse_categorical_accuracy: 0.9866 - val_loss: 0.0558 - val_sparse_categorical_accuracy: 0.9826\n",
      "Epoch 166/250\n",
      "469/469 [==============================] - 2s 4ms/step - loss: 0.0428 - sparse_categorical_accuracy: 0.9867 - val_loss: 0.0537 - val_sparse_categorical_accuracy: 0.9824\n",
      "Epoch 167/250\n",
      "469/469 [==============================] - 2s 4ms/step - loss: 0.0420 - sparse_categorical_accuracy: 0.9877 - val_loss: 0.0536 - val_sparse_categorical_accuracy: 0.9818\n",
      "Epoch 168/250\n",
      "469/469 [==============================] - 2s 4ms/step - loss: 0.0408 - sparse_categorical_accuracy: 0.9868 - val_loss: 0.0500 - val_sparse_categorical_accuracy: 0.9834\n",
      "Epoch 169/250\n",
      "469/469 [==============================] - 2s 4ms/step - loss: 0.0406 - sparse_categorical_accuracy: 0.9875 - val_loss: 0.0611 - val_sparse_categorical_accuracy: 0.9808\n",
      "Epoch 170/250\n",
      "469/469 [==============================] - 2s 5ms/step - loss: 0.0457 - sparse_categorical_accuracy: 0.9855 - val_loss: 0.0576 - val_sparse_categorical_accuracy: 0.9808\n",
      "Epoch 171/250\n",
      "469/469 [==============================] - 2s 4ms/step - loss: 0.0414 - sparse_categorical_accuracy: 0.9864 - val_loss: 0.0545 - val_sparse_categorical_accuracy: 0.9827\n",
      "Epoch 172/250\n",
      "469/469 [==============================] - 2s 4ms/step - loss: 0.0435 - sparse_categorical_accuracy: 0.9863 - val_loss: 0.0513 - val_sparse_categorical_accuracy: 0.9833\n",
      "Epoch 173/250\n",
      "469/469 [==============================] - 2s 4ms/step - loss: 0.0424 - sparse_categorical_accuracy: 0.9866 - val_loss: 0.0531 - val_sparse_categorical_accuracy: 0.9834\n",
      "Epoch 174/250\n",
      "469/469 [==============================] - 2s 4ms/step - loss: 0.0411 - sparse_categorical_accuracy: 0.9866 - val_loss: 0.0527 - val_sparse_categorical_accuracy: 0.9826\n",
      "Epoch 175/250\n",
      "469/469 [==============================] - 2s 4ms/step - loss: 0.0406 - sparse_categorical_accuracy: 0.9874 - val_loss: 0.0490 - val_sparse_categorical_accuracy: 0.9842\n",
      "Epoch 176/250\n",
      "469/469 [==============================] - 2s 4ms/step - loss: 0.0413 - sparse_categorical_accuracy: 0.9872 - val_loss: 0.0557 - val_sparse_categorical_accuracy: 0.9827\n",
      "Epoch 177/250\n",
      "469/469 [==============================] - 2s 4ms/step - loss: 0.0407 - sparse_categorical_accuracy: 0.9876 - val_loss: 0.0497 - val_sparse_categorical_accuracy: 0.9825\n",
      "Epoch 178/250\n",
      "469/469 [==============================] - 2s 4ms/step - loss: 0.0421 - sparse_categorical_accuracy: 0.9868 - val_loss: 0.0498 - val_sparse_categorical_accuracy: 0.9826\n",
      "Epoch 179/250\n",
      "469/469 [==============================] - 2s 5ms/step - loss: 0.0399 - sparse_categorical_accuracy: 0.9869 - val_loss: 0.0441 - val_sparse_categorical_accuracy: 0.9847\n",
      "Epoch 180/250\n",
      "469/469 [==============================] - 2s 4ms/step - loss: 0.0400 - sparse_categorical_accuracy: 0.9874 - val_loss: 0.0519 - val_sparse_categorical_accuracy: 0.9814\n"
     ]
    },
    {
     "name": "stdout",
     "output_type": "stream",
     "text": [
      "Epoch 181/250\n",
      "469/469 [==============================] - 2s 4ms/step - loss: 0.0422 - sparse_categorical_accuracy: 0.9869 - val_loss: 0.0467 - val_sparse_categorical_accuracy: 0.9848\n",
      "Epoch 182/250\n",
      "469/469 [==============================] - 2s 4ms/step - loss: 0.0352 - sparse_categorical_accuracy: 0.9885 - val_loss: 0.0537 - val_sparse_categorical_accuracy: 0.9818\n",
      "Epoch 183/250\n",
      "469/469 [==============================] - 2s 4ms/step - loss: 0.0395 - sparse_categorical_accuracy: 0.9879 - val_loss: 0.0510 - val_sparse_categorical_accuracy: 0.9838\n",
      "Epoch 184/250\n",
      "469/469 [==============================] - 2s 5ms/step - loss: 0.0367 - sparse_categorical_accuracy: 0.9890 - val_loss: 0.0533 - val_sparse_categorical_accuracy: 0.9824\n",
      "Epoch 185/250\n",
      "469/469 [==============================] - 2s 4ms/step - loss: 0.0380 - sparse_categorical_accuracy: 0.9878 - val_loss: 0.0472 - val_sparse_categorical_accuracy: 0.9833\n",
      "Epoch 186/250\n",
      "469/469 [==============================] - 2s 4ms/step - loss: 0.0370 - sparse_categorical_accuracy: 0.9886 - val_loss: 0.0475 - val_sparse_categorical_accuracy: 0.9844\n",
      "Epoch 187/250\n",
      "469/469 [==============================] - 2s 4ms/step - loss: 0.0371 - sparse_categorical_accuracy: 0.9883 - val_loss: 0.0450 - val_sparse_categorical_accuracy: 0.9837\n",
      "Epoch 188/250\n",
      "469/469 [==============================] - 2s 5ms/step - loss: 0.0383 - sparse_categorical_accuracy: 0.9879 - val_loss: 0.0545 - val_sparse_categorical_accuracy: 0.9825\n",
      "Epoch 189/250\n",
      "469/469 [==============================] - 2s 5ms/step - loss: 0.0377 - sparse_categorical_accuracy: 0.9891 - val_loss: 0.0482 - val_sparse_categorical_accuracy: 0.9840\n",
      "Epoch 190/250\n",
      "469/469 [==============================] - 2s 4ms/step - loss: 0.0370 - sparse_categorical_accuracy: 0.9885 - val_loss: 0.0511 - val_sparse_categorical_accuracy: 0.9842\n",
      "Epoch 191/250\n",
      "469/469 [==============================] - 2s 4ms/step - loss: 0.0351 - sparse_categorical_accuracy: 0.9891 - val_loss: 0.0485 - val_sparse_categorical_accuracy: 0.9842\n",
      "Epoch 192/250\n",
      "469/469 [==============================] - 2s 4ms/step - loss: 0.0376 - sparse_categorical_accuracy: 0.9879 - val_loss: 0.0460 - val_sparse_categorical_accuracy: 0.9835\n",
      "Epoch 193/250\n",
      "469/469 [==============================] - 2s 4ms/step - loss: 0.0381 - sparse_categorical_accuracy: 0.9885 - val_loss: 0.0489 - val_sparse_categorical_accuracy: 0.9829\n",
      "Epoch 194/250\n",
      "469/469 [==============================] - 2s 4ms/step - loss: 0.0355 - sparse_categorical_accuracy: 0.9884 - val_loss: 0.0499 - val_sparse_categorical_accuracy: 0.9839\n",
      "Epoch 195/250\n",
      "469/469 [==============================] - 2s 4ms/step - loss: 0.0385 - sparse_categorical_accuracy: 0.9875 - val_loss: 0.0477 - val_sparse_categorical_accuracy: 0.9839\n",
      "Epoch 196/250\n",
      "469/469 [==============================] - 2s 4ms/step - loss: 0.0350 - sparse_categorical_accuracy: 0.9886 - val_loss: 0.0539 - val_sparse_categorical_accuracy: 0.9825\n",
      "Epoch 197/250\n",
      "469/469 [==============================] - 2s 5ms/step - loss: 0.0343 - sparse_categorical_accuracy: 0.9893 - val_loss: 0.0540 - val_sparse_categorical_accuracy: 0.9812\n",
      "Epoch 198/250\n",
      "469/469 [==============================] - 2s 4ms/step - loss: 0.0362 - sparse_categorical_accuracy: 0.9885 - val_loss: 0.0533 - val_sparse_categorical_accuracy: 0.9825\n",
      "Epoch 199/250\n",
      "469/469 [==============================] - 2s 4ms/step - loss: 0.0378 - sparse_categorical_accuracy: 0.9872 - val_loss: 0.0524 - val_sparse_categorical_accuracy: 0.9820\n",
      "Epoch 200/250\n",
      "469/469 [==============================] - 2s 4ms/step - loss: 0.0362 - sparse_categorical_accuracy: 0.9884 - val_loss: 0.0461 - val_sparse_categorical_accuracy: 0.9847\n",
      "Epoch 201/250\n",
      "469/469 [==============================] - 2s 4ms/step - loss: 0.0366 - sparse_categorical_accuracy: 0.9889 - val_loss: 0.0465 - val_sparse_categorical_accuracy: 0.9846\n",
      "Epoch 202/250\n",
      "469/469 [==============================] - 2s 5ms/step - loss: 0.0342 - sparse_categorical_accuracy: 0.9899 - val_loss: 0.0457 - val_sparse_categorical_accuracy: 0.9853\n",
      "Epoch 203/250\n",
      "469/469 [==============================] - 2s 4ms/step - loss: 0.0349 - sparse_categorical_accuracy: 0.9892 - val_loss: 0.0434 - val_sparse_categorical_accuracy: 0.9855\n",
      "Epoch 204/250\n",
      "469/469 [==============================] - 2s 4ms/step - loss: 0.0344 - sparse_categorical_accuracy: 0.9891 - val_loss: 0.0460 - val_sparse_categorical_accuracy: 0.9846\n",
      "Epoch 205/250\n",
      "469/469 [==============================] - 2s 4ms/step - loss: 0.0348 - sparse_categorical_accuracy: 0.9888 - val_loss: 0.0467 - val_sparse_categorical_accuracy: 0.9849\n",
      "Epoch 206/250\n",
      "469/469 [==============================] - 2s 5ms/step - loss: 0.0345 - sparse_categorical_accuracy: 0.9886 - val_loss: 0.0441 - val_sparse_categorical_accuracy: 0.9851\n",
      "Epoch 207/250\n",
      "469/469 [==============================] - 2s 4ms/step - loss: 0.0340 - sparse_categorical_accuracy: 0.9897 - val_loss: 0.0512 - val_sparse_categorical_accuracy: 0.9825\n",
      "Epoch 208/250\n",
      "469/469 [==============================] - 2s 4ms/step - loss: 0.0351 - sparse_categorical_accuracy: 0.9891 - val_loss: 0.0527 - val_sparse_categorical_accuracy: 0.9824\n",
      "Epoch 209/250\n",
      "469/469 [==============================] - 2s 4ms/step - loss: 0.0342 - sparse_categorical_accuracy: 0.9887 - val_loss: 0.0483 - val_sparse_categorical_accuracy: 0.9833\n",
      "Epoch 210/250\n",
      "469/469 [==============================] - 2s 5ms/step - loss: 0.0344 - sparse_categorical_accuracy: 0.9890 - val_loss: 0.0472 - val_sparse_categorical_accuracy: 0.9840\n",
      "Epoch 211/250\n",
      "469/469 [==============================] - 2s 5ms/step - loss: 0.0334 - sparse_categorical_accuracy: 0.9893 - val_loss: 0.0529 - val_sparse_categorical_accuracy: 0.9821\n",
      "Epoch 212/250\n",
      "469/469 [==============================] - 2s 4ms/step - loss: 0.0329 - sparse_categorical_accuracy: 0.9892 - val_loss: 0.0462 - val_sparse_categorical_accuracy: 0.9842\n",
      "Epoch 213/250\n",
      "469/469 [==============================] - 2s 4ms/step - loss: 0.0319 - sparse_categorical_accuracy: 0.9903 - val_loss: 0.0461 - val_sparse_categorical_accuracy: 0.9843\n",
      "Epoch 214/250\n",
      "469/469 [==============================] - 2s 5ms/step - loss: 0.0342 - sparse_categorical_accuracy: 0.9891 - val_loss: 0.0467 - val_sparse_categorical_accuracy: 0.9845\n",
      "Epoch 215/250\n",
      "469/469 [==============================] - 2s 4ms/step - loss: 0.0352 - sparse_categorical_accuracy: 0.9887 - val_loss: 0.0452 - val_sparse_categorical_accuracy: 0.9847\n",
      "Epoch 216/250\n",
      "469/469 [==============================] - 2s 4ms/step - loss: 0.0333 - sparse_categorical_accuracy: 0.9895 - val_loss: 0.0564 - val_sparse_categorical_accuracy: 0.9814\n",
      "Epoch 217/250\n",
      "469/469 [==============================] - 2s 4ms/step - loss: 0.0333 - sparse_categorical_accuracy: 0.9896 - val_loss: 0.0495 - val_sparse_categorical_accuracy: 0.9844\n",
      "Epoch 218/250\n",
      "469/469 [==============================] - 2s 4ms/step - loss: 0.0338 - sparse_categorical_accuracy: 0.9890 - val_loss: 0.0462 - val_sparse_categorical_accuracy: 0.9842\n",
      "Epoch 219/250\n",
      "469/469 [==============================] - 2s 4ms/step - loss: 0.0323 - sparse_categorical_accuracy: 0.9900 - val_loss: 0.0430 - val_sparse_categorical_accuracy: 0.9863\n",
      "Epoch 220/250\n",
      "469/469 [==============================] - 2s 4ms/step - loss: 0.0330 - sparse_categorical_accuracy: 0.9899 - val_loss: 0.0500 - val_sparse_categorical_accuracy: 0.9836\n",
      "Epoch 221/250\n",
      "469/469 [==============================] - 2s 4ms/step - loss: 0.0288 - sparse_categorical_accuracy: 0.9912 - val_loss: 0.0496 - val_sparse_categorical_accuracy: 0.9835\n",
      "Epoch 222/250\n",
      "469/469 [==============================] - 2s 5ms/step - loss: 0.0343 - sparse_categorical_accuracy: 0.9901 - val_loss: 0.0462 - val_sparse_categorical_accuracy: 0.9831\n",
      "Epoch 223/250\n",
      "469/469 [==============================] - 2s 4ms/step - loss: 0.0305 - sparse_categorical_accuracy: 0.9905 - val_loss: 0.0504 - val_sparse_categorical_accuracy: 0.9831\n",
      "Epoch 224/250\n",
      "469/469 [==============================] - 2s 4ms/step - loss: 0.0334 - sparse_categorical_accuracy: 0.9895 - val_loss: 0.0483 - val_sparse_categorical_accuracy: 0.9834\n",
      "Epoch 225/250\n",
      "469/469 [==============================] - 2s 4ms/step - loss: 0.0316 - sparse_categorical_accuracy: 0.9899 - val_loss: 0.0455 - val_sparse_categorical_accuracy: 0.9848\n"
     ]
    },
    {
     "name": "stdout",
     "output_type": "stream",
     "text": [
      "Epoch 226/250\n",
      "469/469 [==============================] - 2s 5ms/step - loss: 0.0306 - sparse_categorical_accuracy: 0.9905 - val_loss: 0.0517 - val_sparse_categorical_accuracy: 0.9835\n",
      "Epoch 227/250\n",
      "469/469 [==============================] - 2s 4ms/step - loss: 0.0334 - sparse_categorical_accuracy: 0.9892 - val_loss: 0.0443 - val_sparse_categorical_accuracy: 0.9852\n",
      "Epoch 228/250\n",
      "469/469 [==============================] - 2s 4ms/step - loss: 0.0310 - sparse_categorical_accuracy: 0.9901 - val_loss: 0.0445 - val_sparse_categorical_accuracy: 0.9840\n",
      "Epoch 229/250\n",
      "469/469 [==============================] - 2s 4ms/step - loss: 0.0304 - sparse_categorical_accuracy: 0.9905 - val_loss: 0.0454 - val_sparse_categorical_accuracy: 0.9859\n",
      "Epoch 230/250\n",
      "469/469 [==============================] - 2s 5ms/step - loss: 0.0296 - sparse_categorical_accuracy: 0.9912 - val_loss: 0.0421 - val_sparse_categorical_accuracy: 0.9858\n",
      "Epoch 231/250\n",
      "469/469 [==============================] - 2s 5ms/step - loss: 0.0325 - sparse_categorical_accuracy: 0.9895 - val_loss: 0.0585 - val_sparse_categorical_accuracy: 0.9811\n",
      "Epoch 232/250\n",
      "469/469 [==============================] - 2s 4ms/step - loss: 0.0307 - sparse_categorical_accuracy: 0.9903 - val_loss: 0.0418 - val_sparse_categorical_accuracy: 0.9862\n",
      "Epoch 233/250\n",
      "469/469 [==============================] - 2s 4ms/step - loss: 0.0302 - sparse_categorical_accuracy: 0.9909 - val_loss: 0.0433 - val_sparse_categorical_accuracy: 0.9857\n",
      "Epoch 234/250\n",
      "469/469 [==============================] - 2s 5ms/step - loss: 0.0332 - sparse_categorical_accuracy: 0.9895 - val_loss: 0.0441 - val_sparse_categorical_accuracy: 0.9856\n",
      "Epoch 235/250\n",
      "469/469 [==============================] - 2s 4ms/step - loss: 0.0317 - sparse_categorical_accuracy: 0.9902 - val_loss: 0.0467 - val_sparse_categorical_accuracy: 0.9841\n",
      "Epoch 236/250\n",
      "469/469 [==============================] - 2s 4ms/step - loss: 0.0288 - sparse_categorical_accuracy: 0.9910 - val_loss: 0.0474 - val_sparse_categorical_accuracy: 0.9845\n",
      "Epoch 237/250\n",
      "469/469 [==============================] - 2s 4ms/step - loss: 0.0302 - sparse_categorical_accuracy: 0.9905 - val_loss: 0.0451 - val_sparse_categorical_accuracy: 0.9854\n",
      "Epoch 238/250\n",
      "469/469 [==============================] - 2s 4ms/step - loss: 0.0301 - sparse_categorical_accuracy: 0.9906 - val_loss: 0.0453 - val_sparse_categorical_accuracy: 0.9855\n",
      "Epoch 239/250\n",
      "469/469 [==============================] - 2s 4ms/step - loss: 0.0304 - sparse_categorical_accuracy: 0.9899 - val_loss: 0.0471 - val_sparse_categorical_accuracy: 0.9844\n",
      "Epoch 240/250\n",
      "469/469 [==============================] - 2s 4ms/step - loss: 0.0311 - sparse_categorical_accuracy: 0.9902 - val_loss: 0.0468 - val_sparse_categorical_accuracy: 0.9860\n",
      "Epoch 241/250\n",
      "469/469 [==============================] - 2s 5ms/step - loss: 0.0293 - sparse_categorical_accuracy: 0.9911 - val_loss: 0.0510 - val_sparse_categorical_accuracy: 0.9831\n",
      "Epoch 242/250\n",
      "469/469 [==============================] - 2s 4ms/step - loss: 0.0314 - sparse_categorical_accuracy: 0.9900 - val_loss: 0.0454 - val_sparse_categorical_accuracy: 0.9844\n",
      "Epoch 243/250\n",
      "469/469 [==============================] - 2s 5ms/step - loss: 0.0297 - sparse_categorical_accuracy: 0.9907 - val_loss: 0.0487 - val_sparse_categorical_accuracy: 0.9831\n",
      "Epoch 244/250\n",
      "469/469 [==============================] - 2s 4ms/step - loss: 0.0290 - sparse_categorical_accuracy: 0.9910 - val_loss: 0.0472 - val_sparse_categorical_accuracy: 0.9851\n",
      "Epoch 245/250\n",
      "469/469 [==============================] - 2s 4ms/step - loss: 0.0292 - sparse_categorical_accuracy: 0.9912 - val_loss: 0.0491 - val_sparse_categorical_accuracy: 0.9831\n",
      "Epoch 246/250\n",
      "469/469 [==============================] - 2s 4ms/step - loss: 0.0310 - sparse_categorical_accuracy: 0.9897 - val_loss: 0.0515 - val_sparse_categorical_accuracy: 0.9832\n",
      "Epoch 247/250\n",
      "469/469 [==============================] - 2s 4ms/step - loss: 0.0303 - sparse_categorical_accuracy: 0.9906 - val_loss: 0.0447 - val_sparse_categorical_accuracy: 0.9858\n",
      "Epoch 248/250\n",
      "469/469 [==============================] - 2s 4ms/step - loss: 0.0272 - sparse_categorical_accuracy: 0.9910 - val_loss: 0.0477 - val_sparse_categorical_accuracy: 0.9851\n",
      "Epoch 249/250\n",
      "469/469 [==============================] - 2s 4ms/step - loss: 0.0274 - sparse_categorical_accuracy: 0.9912 - val_loss: 0.0466 - val_sparse_categorical_accuracy: 0.9843\n",
      "Epoch 250/250\n",
      "469/469 [==============================] - 2s 4ms/step - loss: 0.0298 - sparse_categorical_accuracy: 0.9908 - val_loss: 0.0505 - val_sparse_categorical_accuracy: 0.9836\n"
     ]
    }
   ],
   "source": [
    "history = small_model.fit(\n",
    "    ds_train,\n",
    "    epochs=250,\n",
    "    validation_data=ds_test,\n",
    ")"
   ]
  },
  {
   "cell_type": "markdown",
   "id": "standing-commons",
   "metadata": {},
   "source": [
    "## 3.4 Evaluate the model"
   ]
  },
  {
   "cell_type": "code",
   "execution_count": 17,
   "id": "latin-estimate",
   "metadata": {
    "ExecuteTime": {
     "end_time": "2022-01-08T23:47:29.722072Z",
     "start_time": "2022-01-08T23:47:29.566135Z"
    }
   },
   "outputs": [
    {
     "name": "stdout",
     "output_type": "stream",
     "text": [
      "79/79 [==============================] - 0s 1ms/step - loss: 0.0505 - sparse_categorical_accuracy: 0.9836\n"
     ]
    },
    {
     "data": {
      "text/plain": [
       "[0.050451088696718216, 0.9836000204086304]"
      ]
     },
     "execution_count": 17,
     "metadata": {},
     "output_type": "execute_result"
    }
   ],
   "source": [
    "small_model.evaluate(ds_test)"
   ]
  },
  {
   "cell_type": "code",
   "execution_count": 18,
   "id": "directed-sally",
   "metadata": {
    "ExecuteTime": {
     "end_time": "2022-01-08T23:47:29.867152Z",
     "start_time": "2022-01-08T23:47:29.723114Z"
    }
   },
   "outputs": [
    {
     "data": {
      "image/png": "[encoded data removed]",
      "text/plain": [
       "<Figure size 576x360 with 1 Axes>"
      ]
     },
     "metadata": {
      "needs_background": "light"
     },
     "output_type": "display_data"
    }
   ],
   "source": [
    "plotHistory(history, set_y_max=1.0)"
   ]
  },
  {
   "cell_type": "markdown",
   "id": "racial-thermal",
   "metadata": {},
   "source": [
    "# 4.0 Train a Cumbersome Model"
   ]
  },
  {
   "cell_type": "markdown",
   "id": "relevant-wheel",
   "metadata": {},
   "source": [
    "## 4.1 Build the model"
   ]
  },
  {
   "cell_type": "code",
   "execution_count": 19,
   "id": "accessory-sense",
   "metadata": {
    "ExecuteTime": {
     "end_time": "2022-01-08T23:47:29.948188Z",
     "start_time": "2022-01-08T23:47:29.867959Z"
    }
   },
   "outputs": [],
   "source": [
    "cnn_model = tf.keras.models.Sequential([\n",
    "    tf.keras.layers.Conv2D(32, 3, input_shape=ds_info.features['image'].shape, activation='elu', padding='same'),   \n",
    "    tf.keras.layers.BatchNormalization(),\n",
    "    tf.keras.layers.Conv2D(32, 3, padding='same', activation='elu'),\n",
    "    tf.keras.layers.MaxPooling2D(pool_size=(2, 2)),\n",
    "    tf.keras.layers.Conv2D(64, 3, padding='same', activation='elu'),\n",
    "    tf.keras.layers.BatchNormalization(),\n",
    "    tf.keras.layers.Conv2D(64, 3, padding='same', activation='elu'),\n",
    "    tf.keras.layers.BatchNormalization(),\n",
    "    tf.keras.layers.MaxPooling2D(pool_size=(2, 2)),\n",
    "    tf.keras.layers.Conv2D(128, 3, padding='same', activation='elu'),\n",
    "    tf.keras.layers.BatchNormalization(),\n",
    "    tf.keras.layers.Conv2D(128, 3, padding='same', activation='elu'),\n",
    "    tf.keras.layers.GlobalAveragePooling2D(),\n",
    "    tf.keras.layers.Dense(ds_info.features['label'].num_classes)\n",
    "])"
   ]
  },
  {
   "cell_type": "code",
   "execution_count": 20,
   "id": "sized-design",
   "metadata": {
    "ExecuteTime": {
     "end_time": "2022-01-08T23:47:29.968755Z",
     "start_time": "2022-01-08T23:47:29.949185Z"
    }
   },
   "outputs": [
    {
     "name": "stdout",
     "output_type": "stream",
     "text": [
      "Model: \"sequential_1\"\n",
      "_________________________________________________________________\n",
      "Layer (type)                 Output Shape              Param #   \n",
      "=================================================================\n",
      "conv2d_2 (Conv2D)            (None, 28, 28, 32)        320       \n",
      "_________________________________________________________________\n",
      "batch_normalization (BatchNo (None, 28, 28, 32)        128       \n",
      "_________________________________________________________________\n",
      "conv2d_3 (Conv2D)            (None, 28, 28, 32)        9248      \n",
      "_________________________________________________________________\n",
      "max_pooling2d_1 (MaxPooling2 (None, 14, 14, 32)        0         \n",
      "_________________________________________________________________\n",
      "conv2d_4 (Conv2D)            (None, 14, 14, 64)        18496     \n",
      "_________________________________________________________________\n",
      "batch_normalization_1 (Batch (None, 14, 14, 64)        256       \n",
      "_________________________________________________________________\n",
      "conv2d_5 (Conv2D)            (None, 14, 14, 64)        36928     \n",
      "_________________________________________________________________\n",
      "batch_normalization_2 (Batch (None, 14, 14, 64)        256       \n",
      "_________________________________________________________________\n",
      "max_pooling2d_2 (MaxPooling2 (None, 7, 7, 64)          0         \n",
      "_________________________________________________________________\n",
      "conv2d_6 (Conv2D)            (None, 7, 7, 128)         73856     \n",
      "_________________________________________________________________\n",
      "batch_normalization_3 (Batch (None, 7, 7, 128)         512       \n",
      "_________________________________________________________________\n",
      "conv2d_7 (Conv2D)            (None, 7, 7, 128)         147584    \n",
      "_________________________________________________________________\n",
      "global_average_pooling2d_1 ( (None, 128)               0         \n",
      "_________________________________________________________________\n",
      "dense_1 (Dense)              (None, 10)                1290      \n",
      "=================================================================\n",
      "Total params: 288,874\n",
      "Trainable params: 288,298\n",
      "Non-trainable params: 576\n",
      "_________________________________________________________________\n"
     ]
    }
   ],
   "source": [
    "cnn_model.summary()"
   ]
  },
  {
   "cell_type": "markdown",
   "id": "nutritional-contractor",
   "metadata": {},
   "source": [
    "## 4.2 Compile the model"
   ]
  },
  {
   "cell_type": "code",
   "execution_count": 21,
   "id": "adaptive-novelty",
   "metadata": {
    "ExecuteTime": {
     "end_time": "2022-01-08T23:47:29.993497Z",
     "start_time": "2022-01-08T23:47:29.969515Z"
    }
   },
   "outputs": [],
   "source": [
    "cnn_model.compile(\n",
    "    optimizer=tf.keras.optimizers.Adam(LR_ADAM),\n",
    "    loss=tf.keras.losses.SparseCategoricalCrossentropy(from_logits=True),\n",
    "    metrics=[tf.keras.metrics.SparseCategoricalAccuracy()],\n",
    ")"
   ]
  },
  {
   "cell_type": "markdown",
   "id": "legitimate-pressure",
   "metadata": {},
   "source": [
    "## 4.3 Train the network"
   ]
  },
  {
   "cell_type": "code",
   "execution_count": 22,
   "id": "steady-coordinator",
   "metadata": {
    "ExecuteTime": {
     "end_time": "2022-01-08T23:49:10.564578Z",
     "start_time": "2022-01-08T23:47:29.994437Z"
    }
   },
   "outputs": [
    {
     "name": "stdout",
     "output_type": "stream",
     "text": [
      "Epoch 1/15\n",
      "469/469 [==============================] - 44s 58ms/step - loss: 0.3305 - sparse_categorical_accuracy: 0.8985 - val_loss: 0.4044 - val_sparse_categorical_accuracy: 0.8719\n",
      "Epoch 2/15\n",
      "469/469 [==============================] - 4s 9ms/step - loss: 0.0383 - sparse_categorical_accuracy: 0.9882 - val_loss: 0.0426 - val_sparse_categorical_accuracy: 0.9859\n",
      "Epoch 3/15\n",
      "469/469 [==============================] - 4s 8ms/step - loss: 0.0275 - sparse_categorical_accuracy: 0.9913 - val_loss: 0.0420 - val_sparse_categorical_accuracy: 0.9865\n",
      "Epoch 4/15\n",
      "469/469 [==============================] - 4s 8ms/step - loss: 0.0219 - sparse_categorical_accuracy: 0.9924 - val_loss: 0.0233 - val_sparse_categorical_accuracy: 0.9915\n",
      "Epoch 5/15\n",
      "469/469 [==============================] - 4s 9ms/step - loss: 0.0151 - sparse_categorical_accuracy: 0.9951 - val_loss: 0.0373 - val_sparse_categorical_accuracy: 0.9880\n",
      "Epoch 6/15\n",
      "469/469 [==============================] - 4s 8ms/step - loss: 0.0115 - sparse_categorical_accuracy: 0.9964 - val_loss: 0.0432 - val_sparse_categorical_accuracy: 0.9877\n",
      "Epoch 7/15\n",
      "469/469 [==============================] - 4s 8ms/step - loss: 0.0117 - sparse_categorical_accuracy: 0.9959 - val_loss: 0.0249 - val_sparse_categorical_accuracy: 0.9918\n",
      "Epoch 8/15\n",
      "469/469 [==============================] - 4s 8ms/step - loss: 0.0097 - sparse_categorical_accuracy: 0.9968 - val_loss: 0.0274 - val_sparse_categorical_accuracy: 0.9911\n",
      "Epoch 9/15\n",
      "469/469 [==============================] - 4s 9ms/step - loss: 0.0085 - sparse_categorical_accuracy: 0.9969 - val_loss: 0.0381 - val_sparse_categorical_accuracy: 0.9882\n",
      "Epoch 10/15\n",
      "469/469 [==============================] - 4s 9ms/step - loss: 0.0072 - sparse_categorical_accuracy: 0.9975 - val_loss: 0.0251 - val_sparse_categorical_accuracy: 0.9915\n",
      "Epoch 11/15\n",
      "469/469 [==============================] - 4s 8ms/step - loss: 0.0090 - sparse_categorical_accuracy: 0.9967 - val_loss: 0.0486 - val_sparse_categorical_accuracy: 0.9878\n",
      "Epoch 12/15\n",
      "469/469 [==============================] - 4s 8ms/step - loss: 0.0049 - sparse_categorical_accuracy: 0.9983 - val_loss: 0.0328 - val_sparse_categorical_accuracy: 0.9919\n",
      "Epoch 13/15\n",
      "469/469 [==============================] - 4s 9ms/step - loss: 0.0049 - sparse_categorical_accuracy: 0.9983 - val_loss: 0.0625 - val_sparse_categorical_accuracy: 0.9847\n",
      "Epoch 14/15\n",
      "469/469 [==============================] - 4s 9ms/step - loss: 0.0068 - sparse_categorical_accuracy: 0.9976 - val_loss: 0.0690 - val_sparse_categorical_accuracy: 0.9831\n",
      "Epoch 15/15\n",
      "469/469 [==============================] - 4s 8ms/step - loss: 0.0056 - sparse_categorical_accuracy: 0.9981 - val_loss: 0.0333 - val_sparse_categorical_accuracy: 0.9903\n"
     ]
    }
   ],
   "source": [
    "history = cnn_model.fit(\n",
    "    ds_train,\n",
    "    epochs=15,\n",
    "    validation_data=ds_test,\n",
    ")"
   ]
  },
  {
   "cell_type": "markdown",
   "id": "treated-registrar",
   "metadata": {},
   "source": [
    "## 4.4 Evaluate the model"
   ]
  },
  {
   "cell_type": "code",
   "execution_count": 23,
   "id": "environmental-costa",
   "metadata": {
    "ExecuteTime": {
     "end_time": "2022-01-08T23:49:10.854006Z",
     "start_time": "2022-01-08T23:49:10.573457Z"
    }
   },
   "outputs": [
    {
     "name": "stdout",
     "output_type": "stream",
     "text": [
      "79/79 [==============================] - 0s 3ms/step - loss: 0.0333 - sparse_categorical_accuracy: 0.9903\n"
     ]
    },
    {
     "data": {
      "text/plain": [
       "[0.03334885835647583, 0.9902999997138977]"
      ]
     },
     "execution_count": 23,
     "metadata": {},
     "output_type": "execute_result"
    }
   ],
   "source": [
    "cnn_model.evaluate(ds_test)"
   ]
  },
  {
   "cell_type": "code",
   "execution_count": 24,
   "id": "russian-spank",
   "metadata": {
    "ExecuteTime": {
     "end_time": "2022-01-08T23:49:10.979401Z",
     "start_time": "2022-01-08T23:49:10.855353Z"
    }
   },
   "outputs": [
    {
     "data": {
      "image/png": "[encoded data removed]",
      "text/plain": [
       "<Figure size 576x360 with 1 Axes>"
      ]
     },
     "metadata": {
      "needs_background": "light"
     },
     "output_type": "display_data"
    }
   ],
   "source": [
    "plotHistory(history, set_y_max=1.0)"
   ]
  },
  {
   "cell_type": "markdown",
   "id": "human-mandate",
   "metadata": {},
   "source": [
    "# 5.0 Train the Small Model with Knowledge Distillation"
   ]
  },
  {
   "cell_type": "code",
   "execution_count": 25,
   "id": "crucial-weekly",
   "metadata": {
    "ExecuteTime": {
     "end_time": "2022-01-08T23:49:10.997471Z",
     "start_time": "2022-01-08T23:49:10.980392Z"
    }
   },
   "outputs": [],
   "source": [
    "EPOCHS = 250\n",
    "LR_ADAM = 0.001\n",
    "T = 50\n",
    "LAMBDA = 0.2\n",
    "SOFT_DISTIL = False # train with soft or hard distillation"
   ]
  },
  {
   "cell_type": "markdown",
   "id": "authorized-carpet",
   "metadata": {},
   "source": [
    "## 5.1 Build the model"
   ]
  },
  {
   "cell_type": "code",
   "execution_count": 26,
   "id": "automatic-illustration",
   "metadata": {
    "ExecuteTime": {
     "end_time": "2022-01-08T23:49:11.033984Z",
     "start_time": "2022-01-08T23:49:10.998424Z"
    }
   },
   "outputs": [],
   "source": [
    "small_model_w_kd = tf.keras.models.Sequential([\n",
    "    tf.keras.layers.Conv2D(32, 3, input_shape=ds_info.features['image'].shape, activation='elu', padding='same'),   \n",
    "    tf.keras.layers.MaxPooling2D(pool_size=(2, 2)),\n",
    "    tf.keras.layers.Conv2D(64, 3, padding='same', activation='elu'),\n",
    "    tf.keras.layers.GlobalAveragePooling2D(),\n",
    "    tf.keras.layers.Dense(ds_info.features['label'].num_classes)\n",
    "])"
   ]
  },
  {
   "cell_type": "markdown",
   "id": "mysterious-portable",
   "metadata": {},
   "source": [
    "## 5.2 Compile the model"
   ]
  },
  {
   "cell_type": "code",
   "execution_count": 27,
   "id": "clinical-blood",
   "metadata": {
    "ExecuteTime": {
     "end_time": "2022-01-08T23:49:11.051876Z",
     "start_time": "2022-01-08T23:49:11.034878Z"
    }
   },
   "outputs": [],
   "source": [
    "distillation_trainer = DistillationClassificationTrainer(small_model_w_kd, cnn_model, T, LAMBDA, \n",
    "                                            soft_distillation=SOFT_DISTIL)"
   ]
  },
  {
   "cell_type": "code",
   "execution_count": 28,
   "id": "extreme-wilderness",
   "metadata": {
    "ExecuteTime": {
     "end_time": "2022-01-08T23:49:11.085368Z",
     "start_time": "2022-01-08T23:49:11.052707Z"
    }
   },
   "outputs": [],
   "source": [
    "optimizer = tf.keras.optimizers.Adam(LR_ADAM)\n",
    "distillation_trainer.compile(\n",
    "    loss=tf.keras.losses.SparseCategoricalCrossentropy(from_logits=True),\n",
    "    metric=tf.keras.metrics.SparseCategoricalAccuracy(),\n",
    "    optimizer=optimizer)"
   ]
  },
  {
   "cell_type": "markdown",
   "id": "minus-natural",
   "metadata": {},
   "source": [
    "## 5.3 Train the network"
   ]
  },
  {
   "cell_type": "code",
   "execution_count": 29,
   "id": "understood-boston",
   "metadata": {
    "ExecuteTime": {
     "end_time": "2022-01-08T23:59:29.182996Z",
     "start_time": "2022-01-08T23:49:11.086259Z"
    }
   },
   "outputs": [
    {
     "name": "stdout",
     "output_type": "stream",
     "text": [
      "Validating validation dataset every 469 steps.\n",
      "\n",
      "Epoch 1/250\n",
      "469/469 [==============================] - 3s 6ms/step - Loss: 1.8462 - Accuracy: 0.3649 - Val Loss: 2.1102 - Val Accuracy: 0.5520\n",
      "\n",
      "Epoch 2/250\n",
      "469/469 [==============================] - 2s 5ms/step - Loss: 1.3378 - Accuracy: 0.6437 - Val Loss: 1.9572 - Val Accuracy: 0.7516\n",
      "\n",
      "Epoch 3/250\n",
      "469/469 [==============================] - 2s 5ms/step - Loss: 1.0241 - Accuracy: 0.7704 - Val Loss: 1.8514 - Val Accuracy: 0.8111\n",
      "\n",
      "Epoch 4/250\n",
      "469/469 [==============================] - 2s 5ms/step - Loss: 0.8632 - Accuracy: 0.8267 - Val Loss: 1.7835 - Val Accuracy: 0.8634\n",
      "\n",
      "Epoch 5/250\n",
      "469/469 [==============================] - 2s 5ms/step - Loss: 0.7635 - Accuracy: 0.8613 - Val Loss: 1.7377 - Val Accuracy: 0.8857\n",
      "\n",
      "Epoch 6/250\n",
      "469/469 [==============================] - 2s 5ms/step - Loss: 0.6949 - Accuracy: 0.8838 - Val Loss: 1.7107 - Val Accuracy: 0.8994\n",
      "\n",
      "Epoch 7/250\n",
      "469/469 [==============================] - 2s 5ms/step - Loss: 0.6498 - Accuracy: 0.8981 - Val Loss: 1.6803 - Val Accuracy: 0.9130\n",
      "\n",
      "Epoch 8/250\n",
      "469/469 [==============================] - 2s 5ms/step - Loss: 0.6185 - Accuracy: 0.9086 - Val Loss: 1.6675 - Val Accuracy: 0.9159\n",
      "\n",
      "Epoch 9/250\n",
      "469/469 [==============================] - 2s 5ms/step - Loss: 0.5943 - Accuracy: 0.9176 - Val Loss: 1.6545 - Val Accuracy: 0.9242\n",
      "\n",
      "Epoch 10/250\n",
      "469/469 [==============================] - 2s 5ms/step - Loss: 0.5763 - Accuracy: 0.9233 - Val Loss: 1.6538 - Val Accuracy: 0.9251\n",
      "\n",
      "Epoch 11/250\n",
      "469/469 [==============================] - 2s 5ms/step - Loss: 0.5623 - Accuracy: 0.9292 - Val Loss: 1.6386 - Val Accuracy: 0.9297\n",
      "\n",
      "Epoch 12/250\n",
      "469/469 [==============================] - 3s 6ms/step - Loss: 0.5504 - Accuracy: 0.9332 - Val Loss: 1.6303 - Val Accuracy: 0.9374\n",
      "\n",
      "Epoch 13/250\n",
      "469/469 [==============================] - 3s 6ms/step - Loss: 0.5403 - Accuracy: 0.9366 - Val Loss: 1.6293 - Val Accuracy: 0.9405\n",
      "\n",
      "Epoch 14/250\n",
      "469/469 [==============================] - 3s 5ms/step - Loss: 0.5313 - Accuracy: 0.9396 - Val Loss: 1.6157 - Val Accuracy: 0.9458\n",
      "\n",
      "Epoch 15/250\n",
      "469/469 [==============================] - 3s 6ms/step - Loss: 0.5229 - Accuracy: 0.9431 - Val Loss: 1.6100 - Val Accuracy: 0.9483\n",
      "\n",
      "Epoch 16/250\n",
      "469/469 [==============================] - 2s 5ms/step - Loss: 0.5165 - Accuracy: 0.9448 - Val Loss: 1.6085 - Val Accuracy: 0.9489\n",
      "\n",
      "Epoch 17/250\n",
      "469/469 [==============================] - 2s 5ms/step - Loss: 0.5108 - Accuracy: 0.9470 - Val Loss: 1.6067 - Val Accuracy: 0.9493\n",
      "\n",
      "Epoch 18/250\n",
      "469/469 [==============================] - 3s 5ms/step - Loss: 0.5053 - Accuracy: 0.9483 - Val Loss: 1.6036 - Val Accuracy: 0.9509\n",
      "\n",
      "Epoch 19/250\n",
      "469/469 [==============================] - 2s 5ms/step - Loss: 0.4992 - Accuracy: 0.9506 - Val Loss: 1.6007 - Val Accuracy: 0.9532\n",
      "\n",
      "Epoch 20/250\n",
      "469/469 [==============================] - 2s 5ms/step - Loss: 0.4951 - Accuracy: 0.9523 - Val Loss: 1.5962 - Val Accuracy: 0.9553\n",
      "\n",
      "Epoch 21/250\n",
      "469/469 [==============================] - 2s 5ms/step - Loss: 0.4900 - Accuracy: 0.9536 - Val Loss: 1.5951 - Val Accuracy: 0.9573\n",
      "\n",
      "Epoch 22/250\n",
      "469/469 [==============================] - 2s 5ms/step - Loss: 0.4858 - Accuracy: 0.9551 - Val Loss: 1.5929 - Val Accuracy: 0.9566\n",
      "\n",
      "Epoch 23/250\n",
      "469/469 [==============================] - 2s 5ms/step - Loss: 0.4816 - Accuracy: 0.9559 - Val Loss: 1.5911 - Val Accuracy: 0.9593\n",
      "\n",
      "Epoch 24/250\n",
      "469/469 [==============================] - 2s 5ms/step - Loss: 0.4780 - Accuracy: 0.9564 - Val Loss: 1.5875 - Val Accuracy: 0.9605\n",
      "\n",
      "Epoch 25/250\n",
      "469/469 [==============================] - 3s 5ms/step - Loss: 0.4739 - Accuracy: 0.9584 - Val Loss: 1.5854 - Val Accuracy: 0.9608\n",
      "\n",
      "Epoch 26/250\n",
      "469/469 [==============================] - 2s 5ms/step - Loss: 0.4711 - Accuracy: 0.9593 - Val Loss: 1.5888 - Val Accuracy: 0.9593\n",
      "\n",
      "Epoch 27/250\n",
      "469/469 [==============================] - 3s 6ms/step - Loss: 0.4671 - Accuracy: 0.9608 - Val Loss: 1.5836 - Val Accuracy: 0.9621\n",
      "\n",
      "Epoch 28/250\n",
      "469/469 [==============================] - 3s 6ms/step - Loss: 0.4669 - Accuracy: 0.9604 - Val Loss: 1.5828 - Val Accuracy: 0.9608\n",
      "\n",
      "Epoch 29/250\n",
      "469/469 [==============================] - 3s 5ms/step - Loss: 0.4621 - Accuracy: 0.9620 - Val Loss: 1.5824 - Val Accuracy: 0.9622\n",
      "\n",
      "Epoch 30/250\n",
      "469/469 [==============================] - 2s 5ms/step - Loss: 0.4598 - Accuracy: 0.9625 - Val Loss: 1.5810 - Val Accuracy: 0.9654\n",
      "\n",
      "Epoch 31/250\n",
      "469/469 [==============================] - 2s 5ms/step - Loss: 0.4577 - Accuracy: 0.9629 - Val Loss: 1.5826 - Val Accuracy: 0.9624\n",
      "\n",
      "Epoch 32/250\n",
      "469/469 [==============================] - 2s 5ms/step - Loss: 0.4543 - Accuracy: 0.9635 - Val Loss: 1.5782 - Val Accuracy: 0.9646\n",
      "\n",
      "Epoch 33/250\n",
      "469/469 [==============================] - 2s 5ms/step - Loss: 0.4530 - Accuracy: 0.9642 - Val Loss: 1.5750 - Val Accuracy: 0.9662\n",
      "\n",
      "Epoch 34/250\n",
      "469/469 [==============================] - 2s 5ms/step - Loss: 0.4506 - Accuracy: 0.9646 - Val Loss: 1.5775 - Val Accuracy: 0.9643\n",
      "\n",
      "Epoch 35/250\n",
      "469/469 [==============================] - 2s 5ms/step - Loss: 0.4482 - Accuracy: 0.9659 - Val Loss: 1.5750 - Val Accuracy: 0.9674\n",
      "\n",
      "Epoch 36/250\n",
      "469/469 [==============================] - 3s 5ms/step - Loss: 0.4470 - Accuracy: 0.9654 - Val Loss: 1.5727 - Val Accuracy: 0.9672\n",
      "\n",
      "Epoch 37/250\n",
      "469/469 [==============================] - 3s 5ms/step - Loss: 0.4452 - Accuracy: 0.9666 - Val Loss: 1.5742 - Val Accuracy: 0.9680\n",
      "\n",
      "Epoch 38/250\n",
      "469/469 [==============================] - 3s 5ms/step - Loss: 0.4427 - Accuracy: 0.9669 - Val Loss: 1.5738 - Val Accuracy: 0.9666\n",
      "\n",
      "Epoch 39/250\n",
      "469/469 [==============================] - 2s 5ms/step - Loss: 0.4422 - Accuracy: 0.9675 - Val Loss: 1.5730 - Val Accuracy: 0.9664\n",
      "\n",
      "Epoch 40/250\n",
      "469/469 [==============================] - 2s 5ms/step - Loss: 0.4393 - Accuracy: 0.9680 - Val Loss: 1.5722 - Val Accuracy: 0.9690\n",
      "\n",
      "Epoch 41/250\n",
      "469/469 [==============================] - 2s 5ms/step - Loss: 0.4387 - Accuracy: 0.9682 - Val Loss: 1.5746 - Val Accuracy: 0.9655\n",
      "\n",
      "Epoch 42/250\n",
      "469/469 [==============================] - 2s 5ms/step - Loss: 0.4361 - Accuracy: 0.9693 - Val Loss: 1.5694 - Val Accuracy: 0.9691\n",
      "\n",
      "Epoch 43/250\n",
      "469/469 [==============================] - 3s 6ms/step - Loss: 0.4351 - Accuracy: 0.9692 - Val Loss: 1.5697 - Val Accuracy: 0.9697\n",
      "\n",
      "Epoch 44/250\n",
      "469/469 [==============================] - 3s 6ms/step - Loss: 0.4328 - Accuracy: 0.9702 - Val Loss: 1.5675 - Val Accuracy: 0.9707\n",
      "\n",
      "Epoch 45/250\n",
      "469/469 [==============================] - 2s 5ms/step - Loss: 0.4327 - Accuracy: 0.9701 - Val Loss: 1.5700 - Val Accuracy: 0.9718\n",
      "\n",
      "Epoch 46/250\n",
      "469/469 [==============================] - 2s 5ms/step - Loss: 0.4309 - Accuracy: 0.9701 - Val Loss: 1.5696 - Val Accuracy: 0.9703\n",
      "\n",
      "Epoch 47/250\n",
      "469/469 [==============================] - 2s 5ms/step - Loss: 0.4294 - Accuracy: 0.9703 - Val Loss: 1.5664 - Val Accuracy: 0.9716\n",
      "\n",
      "Epoch 48/250\n",
      "469/469 [==============================] - 2s 5ms/step - Loss: 0.4279 - Accuracy: 0.9714 - Val Loss: 1.5673 - Val Accuracy: 0.9698\n",
      "\n",
      "Epoch 49/250\n",
      "469/469 [==============================] - 2s 5ms/step - Loss: 0.4273 - Accuracy: 0.9713 - Val Loss: 1.5666 - Val Accuracy: 0.9702\n",
      "\n",
      "Epoch 50/250\n",
      "469/469 [==============================] - 2s 5ms/step - Loss: 0.4261 - Accuracy: 0.9718 - Val Loss: 1.5683 - Val Accuracy: 0.9698\n",
      "\n",
      "Epoch 51/250\n",
      "469/469 [==============================] - 2s 5ms/step - Loss: 0.4244 - Accuracy: 0.9722 - Val Loss: 1.5655 - Val Accuracy: 0.9735\n",
      "\n",
      "Epoch 52/250\n",
      "469/469 [==============================] - 2s 5ms/step - Loss: 0.4234 - Accuracy: 0.9724 - Val Loss: 1.5636 - Val Accuracy: 0.9747\n",
      "\n",
      "Epoch 53/250\n",
      "469/469 [==============================] - 2s 5ms/step - Loss: 0.4225 - Accuracy: 0.9729 - Val Loss: 1.5641 - Val Accuracy: 0.9722\n",
      "\n",
      "Epoch 54/250\n",
      "469/469 [==============================] - 2s 5ms/step - Loss: 0.4209 - Accuracy: 0.9726 - Val Loss: 1.5642 - Val Accuracy: 0.9737\n",
      "\n",
      "Epoch 55/250\n",
      "469/469 [==============================] - 3s 6ms/step - Loss: 0.4196 - Accuracy: 0.9735 - Val Loss: 1.5644 - Val Accuracy: 0.9731\n",
      "\n",
      "Epoch 56/250\n",
      "469/469 [==============================] - 2s 5ms/step - Loss: 0.4192 - Accuracy: 0.9733 - Val Loss: 1.5635 - Val Accuracy: 0.9716\n",
      "\n",
      "Epoch 57/250\n"
     ]
    },
    {
     "name": "stdout",
     "output_type": "stream",
     "text": [
      "469/469 [==============================] - 3s 6ms/step - Loss: 0.4172 - Accuracy: 0.9741 - Val Loss: 1.5621 - Val Accuracy: 0.9735\n",
      "\n",
      "Epoch 58/250\n",
      "469/469 [==============================] - 3s 5ms/step - Loss: 0.4169 - Accuracy: 0.9747 - Val Loss: 1.5645 - Val Accuracy: 0.9743\n",
      "\n",
      "Epoch 59/250\n",
      "469/469 [==============================] - 2s 5ms/step - Loss: 0.4166 - Accuracy: 0.9749 - Val Loss: 1.5592 - Val Accuracy: 0.9756\n",
      "\n",
      "Epoch 60/250\n",
      "469/469 [==============================] - 2s 5ms/step - Loss: 0.4154 - Accuracy: 0.9740 - Val Loss: 1.5583 - Val Accuracy: 0.9756\n",
      "\n",
      "Epoch 61/250\n",
      "469/469 [==============================] - 2s 5ms/step - Loss: 0.4141 - Accuracy: 0.9746 - Val Loss: 1.5597 - Val Accuracy: 0.9751\n",
      "\n",
      "Epoch 62/250\n",
      "469/469 [==============================] - 2s 5ms/step - Loss: 0.4131 - Accuracy: 0.9752 - Val Loss: 1.5605 - Val Accuracy: 0.9760\n",
      "\n",
      "Epoch 63/250\n",
      "469/469 [==============================] - 3s 5ms/step - Loss: 0.4125 - Accuracy: 0.9755 - Val Loss: 1.5588 - Val Accuracy: 0.9780\n",
      "\n",
      "Epoch 64/250\n",
      "469/469 [==============================] - ETA: 0s - Loss: 0.4114 - Accuracy: 0.97 - 3s 6ms/step - Loss: 0.4115 - Accuracy: 0.9756 - Val Loss: 1.5589 - Val Accuracy: 0.9768\n",
      "\n",
      "Epoch 65/250\n",
      "469/469 [==============================] - 2s 5ms/step - Loss: 0.4104 - Accuracy: 0.9758 - Val Loss: 1.5581 - Val Accuracy: 0.9774\n",
      "\n",
      "Epoch 66/250\n",
      "469/469 [==============================] - 2s 5ms/step - Loss: 0.4093 - Accuracy: 0.9765 - Val Loss: 1.5610 - Val Accuracy: 0.9730\n",
      "\n",
      "Epoch 67/250\n",
      "469/469 [==============================] - 3s 5ms/step - Loss: 0.4090 - Accuracy: 0.9765 - Val Loss: 1.5564 - Val Accuracy: 0.9767\n",
      "\n",
      "Epoch 68/250\n",
      "469/469 [==============================] - 2s 5ms/step - Loss: 0.4078 - Accuracy: 0.9773 - Val Loss: 1.5563 - Val Accuracy: 0.9767\n",
      "\n",
      "Epoch 69/250\n",
      "469/469 [==============================] - 3s 5ms/step - Loss: 0.4076 - Accuracy: 0.9769 - Val Loss: 1.5564 - Val Accuracy: 0.9777\n",
      "\n",
      "Epoch 70/250\n",
      "469/469 [==============================] - 3s 5ms/step - Loss: 0.4071 - Accuracy: 0.9767 - Val Loss: 1.5563 - Val Accuracy: 0.9747\n",
      "\n",
      "Epoch 71/250\n",
      "469/469 [==============================] - 2s 5ms/step - Loss: 0.4056 - Accuracy: 0.9775 - Val Loss: 1.5551 - Val Accuracy: 0.9782\n",
      "\n",
      "Epoch 72/250\n",
      "469/469 [==============================] - 2s 5ms/step - Loss: 0.4048 - Accuracy: 0.9777 - Val Loss: 1.5581 - Val Accuracy: 0.9772\n",
      "\n",
      "Epoch 73/250\n",
      "469/469 [==============================] - 2s 5ms/step - Loss: 0.4040 - Accuracy: 0.9779 - Val Loss: 1.5570 - Val Accuracy: 0.9772\n",
      "\n",
      "Epoch 74/250\n",
      "469/469 [==============================] - 2s 5ms/step - Loss: 0.4034 - Accuracy: 0.9781 - Val Loss: 1.5530 - Val Accuracy: 0.9794\n",
      "\n",
      "Epoch 75/250\n",
      "469/469 [==============================] - 3s 5ms/step - Loss: 0.4031 - Accuracy: 0.9777 - Val Loss: 1.5541 - Val Accuracy: 0.9777\n",
      "\n",
      "Epoch 76/250\n",
      "469/469 [==============================] - 2s 5ms/step - Loss: 0.4019 - Accuracy: 0.9792 - Val Loss: 1.5539 - Val Accuracy: 0.9787\n",
      "\n",
      "Epoch 77/250\n",
      "469/469 [==============================] - 2s 5ms/step - Loss: 0.4006 - Accuracy: 0.9790 - Val Loss: 1.5568 - Val Accuracy: 0.9771\n",
      "\n",
      "Epoch 78/250\n",
      "469/469 [==============================] - 3s 5ms/step - Loss: 0.4003 - Accuracy: 0.9789 - Val Loss: 1.5576 - Val Accuracy: 0.9768\n",
      "\n",
      "Epoch 79/250\n",
      "469/469 [==============================] - 2s 5ms/step - Loss: 0.4006 - Accuracy: 0.9791 - Val Loss: 1.5531 - Val Accuracy: 0.9785\n",
      "\n",
      "Epoch 80/250\n",
      "469/469 [==============================] - 2s 5ms/step - Loss: 0.3999 - Accuracy: 0.9793 - Val Loss: 1.5514 - Val Accuracy: 0.9789\n",
      "\n",
      "Epoch 81/250\n",
      "469/469 [==============================] - 2s 5ms/step - Loss: 0.3984 - Accuracy: 0.9798 - Val Loss: 1.5547 - Val Accuracy: 0.9798\n",
      "\n",
      "Epoch 82/250\n",
      "469/469 [==============================] - 2s 5ms/step - Loss: 0.3979 - Accuracy: 0.9795 - Val Loss: 1.5515 - Val Accuracy: 0.9800\n",
      "\n",
      "Epoch 83/250\n",
      "469/469 [==============================] - 3s 5ms/step - Loss: 0.3980 - Accuracy: 0.9798 - Val Loss: 1.5516 - Val Accuracy: 0.9771\n",
      "\n",
      "Epoch 84/250\n",
      "469/469 [==============================] - 2s 5ms/step - Loss: 0.3969 - Accuracy: 0.9798 - Val Loss: 1.5547 - Val Accuracy: 0.9779\n",
      "\n",
      "Epoch 85/250\n",
      "469/469 [==============================] - 2s 5ms/step - Loss: 0.3964 - Accuracy: 0.9802 - Val Loss: 1.5510 - Val Accuracy: 0.9799\n",
      "\n",
      "Epoch 86/250\n",
      "469/469 [==============================] - 2s 5ms/step - Loss: 0.3963 - Accuracy: 0.9798 - Val Loss: 1.5517 - Val Accuracy: 0.9793\n",
      "\n",
      "Epoch 87/250\n",
      "469/469 [==============================] - 3s 5ms/step - Loss: 0.3948 - Accuracy: 0.9806 - Val Loss: 1.5518 - Val Accuracy: 0.9788\n",
      "\n",
      "Epoch 88/250\n",
      "469/469 [==============================] - 2s 5ms/step - Loss: 0.3949 - Accuracy: 0.9806 - Val Loss: 1.5511 - Val Accuracy: 0.9806\n",
      "\n",
      "Epoch 89/250\n",
      "469/469 [==============================] - 3s 5ms/step - Loss: 0.3949 - Accuracy: 0.9804 - Val Loss: 1.5526 - Val Accuracy: 0.9788\n",
      "\n",
      "Epoch 90/250\n",
      "469/469 [==============================] - 2s 5ms/step - Loss: 0.3934 - Accuracy: 0.9813 - Val Loss: 1.5512 - Val Accuracy: 0.9795\n",
      "\n",
      "Epoch 91/250\n",
      "469/469 [==============================] - 3s 5ms/step - Loss: 0.3926 - Accuracy: 0.9811 - Val Loss: 1.5515 - Val Accuracy: 0.9796\n",
      "\n",
      "Epoch 92/250\n",
      "469/469 [==============================] - 2s 5ms/step - Loss: 0.3923 - Accuracy: 0.9813 - Val Loss: 1.5499 - Val Accuracy: 0.9799\n",
      "\n",
      "Epoch 93/250\n",
      "469/469 [==============================] - 2s 5ms/step - Loss: 0.3920 - Accuracy: 0.9814 - Val Loss: 1.5499 - Val Accuracy: 0.9800\n",
      "\n",
      "Epoch 94/250\n",
      "469/469 [==============================] - 2s 5ms/step - Loss: 0.3916 - Accuracy: 0.9814 - Val Loss: 1.5505 - Val Accuracy: 0.9799\n",
      "\n",
      "Epoch 95/250\n",
      "469/469 [==============================] - 2s 5ms/step - Loss: 0.3913 - Accuracy: 0.9812 - Val Loss: 1.5514 - Val Accuracy: 0.9801\n",
      "\n",
      "Epoch 96/250\n",
      "469/469 [==============================] - 2s 5ms/step - Loss: 0.3905 - Accuracy: 0.9816 - Val Loss: 1.5485 - Val Accuracy: 0.9805\n",
      "\n",
      "Epoch 97/250\n",
      "469/469 [==============================] - 2s 5ms/step - Loss: 0.3905 - Accuracy: 0.9819 - Val Loss: 1.5501 - Val Accuracy: 0.9807\n",
      "\n",
      "Epoch 98/250\n",
      "469/469 [==============================] - 2s 5ms/step - Loss: 0.3894 - Accuracy: 0.9826 - Val Loss: 1.5489 - Val Accuracy: 0.9794\n",
      "\n",
      "Epoch 99/250\n",
      "469/469 [==============================] - 2s 5ms/step - Loss: 0.3890 - Accuracy: 0.9824 - Val Loss: 1.5503 - Val Accuracy: 0.9801\n",
      "\n",
      "Epoch 100/250\n",
      "469/469 [==============================] - 2s 5ms/step - Loss: 0.3893 - Accuracy: 0.9819 - Val Loss: 1.5479 - Val Accuracy: 0.9810\n",
      "\n",
      "Epoch 101/250\n",
      "469/469 [==============================] - 2s 5ms/step - Loss: 0.3884 - Accuracy: 0.9825 - Val Loss: 1.5487 - Val Accuracy: 0.9803\n",
      "\n",
      "Epoch 102/250\n",
      "469/469 [==============================] - 2s 5ms/step - Loss: 0.3876 - Accuracy: 0.9826 - Val Loss: 1.5483 - Val Accuracy: 0.9814\n",
      "\n",
      "Epoch 103/250\n",
      "469/469 [==============================] - 2s 5ms/step - Loss: 0.3874 - Accuracy: 0.9826 - Val Loss: 1.5462 - Val Accuracy: 0.9815\n",
      "\n",
      "Epoch 104/250\n",
      "469/469 [==============================] - 2s 5ms/step - Loss: 0.3873 - Accuracy: 0.9829 - Val Loss: 1.5485 - Val Accuracy: 0.9801\n",
      "\n",
      "Epoch 105/250\n",
      "469/469 [==============================] - 3s 5ms/step - Loss: 0.3870 - Accuracy: 0.9829 - Val Loss: 1.5494 - Val Accuracy: 0.9800\n",
      "\n",
      "Epoch 106/250\n",
      "469/469 [==============================] - 2s 5ms/step - Loss: 0.3864 - Accuracy: 0.9828 - Val Loss: 1.5484 - Val Accuracy: 0.9796\n",
      "\n",
      "Epoch 107/250\n",
      "469/469 [==============================] - 3s 6ms/step - Loss: 0.3857 - Accuracy: 0.9832 - Val Loss: 1.5486 - Val Accuracy: 0.9797\n",
      "\n",
      "Epoch 108/250\n",
      "469/469 [==============================] - 2s 5ms/step - Loss: 0.3857 - Accuracy: 0.9832 - Val Loss: 1.5453 - Val Accuracy: 0.9814\n",
      "\n",
      "Epoch 109/250\n",
      "469/469 [==============================] - 2s 5ms/step - Loss: 0.3849 - Accuracy: 0.9833 - Val Loss: 1.5466 - Val Accuracy: 0.9804\n",
      "\n",
      "Epoch 110/250\n",
      "469/469 [==============================] - 2s 5ms/step - Loss: 0.3852 - Accuracy: 0.9835 - Val Loss: 1.5479 - Val Accuracy: 0.9811\n",
      "\n",
      "Epoch 111/250\n",
      "469/469 [==============================] - 2s 5ms/step - Loss: 0.3842 - Accuracy: 0.9835 - Val Loss: 1.5478 - Val Accuracy: 0.9810\n",
      "\n",
      "Epoch 112/250\n",
      "469/469 [==============================] - 2s 5ms/step - Loss: 0.3831 - Accuracy: 0.9839 - Val Loss: 1.5475 - Val Accuracy: 0.9802\n",
      "\n",
      "Epoch 113/250\n"
     ]
    },
    {
     "name": "stdout",
     "output_type": "stream",
     "text": [
      "469/469 [==============================] - 2s 5ms/step - Loss: 0.3832 - Accuracy: 0.9840 - Val Loss: 1.5460 - Val Accuracy: 0.9807\n",
      "\n",
      "Epoch 114/250\n",
      "469/469 [==============================] - 2s 5ms/step - Loss: 0.3833 - Accuracy: 0.9836 - Val Loss: 1.5472 - Val Accuracy: 0.9817\n",
      "\n",
      "Epoch 115/250\n",
      "469/469 [==============================] - 3s 6ms/step - Loss: 0.3832 - Accuracy: 0.9838 - Val Loss: 1.5473 - Val Accuracy: 0.9811\n",
      "\n",
      "Epoch 116/250\n",
      "469/469 [==============================] - 3s 6ms/step - Loss: 0.3826 - Accuracy: 0.9840 - Val Loss: 1.5456 - Val Accuracy: 0.9813\n",
      "\n",
      "Epoch 117/250\n",
      "469/469 [==============================] - 3s 6ms/step - Loss: 0.3824 - Accuracy: 0.9839 - Val Loss: 1.5451 - Val Accuracy: 0.9807\n",
      "\n",
      "Epoch 118/250\n",
      "469/469 [==============================] - 2s 5ms/step - Loss: 0.3819 - Accuracy: 0.9844 - Val Loss: 1.5478 - Val Accuracy: 0.9804\n",
      "\n",
      "Epoch 119/250\n",
      "469/469 [==============================] - 3s 6ms/step - Loss: 0.3813 - Accuracy: 0.9846 - Val Loss: 1.5468 - Val Accuracy: 0.9809\n",
      "\n",
      "Epoch 120/250\n",
      "469/469 [==============================] - 2s 5ms/step - Loss: 0.3810 - Accuracy: 0.9847 - Val Loss: 1.5461 - Val Accuracy: 0.9821\n",
      "\n",
      "Epoch 121/250\n",
      "469/469 [==============================] - ETA: 0s - Loss: 0.3808 - Accuracy: 0.98 - 3s 6ms/step - Loss: 0.3807 - Accuracy: 0.9844 - Val Loss: 1.5490 - Val Accuracy: 0.9801\n",
      "\n",
      "Epoch 122/250\n",
      "469/469 [==============================] - 3s 6ms/step - Loss: 0.3804 - Accuracy: 0.9844 - Val Loss: 1.5443 - Val Accuracy: 0.9825\n",
      "\n",
      "Epoch 123/250\n",
      "469/469 [==============================] - 3s 5ms/step - Loss: 0.3801 - Accuracy: 0.9850 - Val Loss: 1.5466 - Val Accuracy: 0.9821\n",
      "\n",
      "Epoch 124/250\n",
      "469/469 [==============================] - 2s 5ms/step - Loss: 0.3796 - Accuracy: 0.9845 - Val Loss: 1.5447 - Val Accuracy: 0.9818\n",
      "\n",
      "Epoch 125/250\n",
      "469/469 [==============================] - 3s 6ms/step - Loss: 0.3797 - Accuracy: 0.9850 - Val Loss: 1.5461 - Val Accuracy: 0.9814\n",
      "\n",
      "Epoch 126/250\n",
      "469/469 [==============================] - 3s 5ms/step - Loss: 0.3794 - Accuracy: 0.9846 - Val Loss: 1.5470 - Val Accuracy: 0.9806\n",
      "\n",
      "Epoch 127/250\n",
      "469/469 [==============================] - 3s 6ms/step - Loss: 0.3798 - Accuracy: 0.9843 - Val Loss: 1.5442 - Val Accuracy: 0.9829\n",
      "\n",
      "Epoch 128/250\n",
      "469/469 [==============================] - 2s 5ms/step - Loss: 0.3783 - Accuracy: 0.9850 - Val Loss: 1.5461 - Val Accuracy: 0.9817\n",
      "\n",
      "Epoch 129/250\n",
      "469/469 [==============================] - 2s 5ms/step - Loss: 0.3787 - Accuracy: 0.9855 - Val Loss: 1.5474 - Val Accuracy: 0.9800\n",
      "\n",
      "Epoch 130/250\n",
      "469/469 [==============================] - 2s 5ms/step - Loss: 0.3781 - Accuracy: 0.9853 - Val Loss: 1.5454 - Val Accuracy: 0.9812\n",
      "\n",
      "Epoch 131/250\n",
      "469/469 [==============================] - 3s 6ms/step - Loss: 0.3779 - Accuracy: 0.9853 - Val Loss: 1.5458 - Val Accuracy: 0.9817\n",
      "\n",
      "Epoch 132/250\n",
      "469/469 [==============================] - 2s 5ms/step - Loss: 0.3770 - Accuracy: 0.9856 - Val Loss: 1.5452 - Val Accuracy: 0.9811\n",
      "\n",
      "Epoch 133/250\n",
      "469/469 [==============================] - 2s 5ms/step - Loss: 0.3773 - Accuracy: 0.9852 - Val Loss: 1.5445 - Val Accuracy: 0.9816\n",
      "\n",
      "Epoch 134/250\n",
      "469/469 [==============================] - 2s 5ms/step - Loss: 0.3771 - Accuracy: 0.9855 - Val Loss: 1.5450 - Val Accuracy: 0.9820\n",
      "\n",
      "Epoch 135/250\n",
      "469/469 [==============================] - 2s 5ms/step - Loss: 0.3765 - Accuracy: 0.9859 - Val Loss: 1.5450 - Val Accuracy: 0.9821\n",
      "\n",
      "Epoch 136/250\n",
      "469/469 [==============================] - 2s 5ms/step - Loss: 0.3768 - Accuracy: 0.9853 - Val Loss: 1.5445 - Val Accuracy: 0.9830\n",
      "\n",
      "Epoch 137/250\n",
      "469/469 [==============================] - 2s 5ms/step - Loss: 0.3759 - Accuracy: 0.9861 - Val Loss: 1.5445 - Val Accuracy: 0.9826\n",
      "\n",
      "Epoch 138/250\n",
      "469/469 [==============================] - 2s 5ms/step - Loss: 0.3759 - Accuracy: 0.9860 - Val Loss: 1.5439 - Val Accuracy: 0.9831\n",
      "\n",
      "Epoch 139/250\n",
      "469/469 [==============================] - 2s 5ms/step - Loss: 0.3758 - Accuracy: 0.9859 - Val Loss: 1.5440 - Val Accuracy: 0.9841\n",
      "\n",
      "Epoch 140/250\n",
      "469/469 [==============================] - 2s 5ms/step - Loss: 0.3753 - Accuracy: 0.9858 - Val Loss: 1.5435 - Val Accuracy: 0.9829\n",
      "\n",
      "Epoch 141/250\n",
      "469/469 [==============================] - ETA: 0s - Loss: 0.3753 - Accuracy: 0.98 - 2s 5ms/step - Loss: 0.3755 - Accuracy: 0.9856 - Val Loss: 1.5441 - Val Accuracy: 0.9823\n",
      "\n",
      "Epoch 142/250\n",
      "469/469 [==============================] - 2s 5ms/step - Loss: 0.3752 - Accuracy: 0.9857 - Val Loss: 1.5454 - Val Accuracy: 0.9833\n",
      "\n",
      "Epoch 143/250\n",
      "469/469 [==============================] - 2s 5ms/step - Loss: 0.3743 - Accuracy: 0.9862 - Val Loss: 1.5479 - Val Accuracy: 0.9807\n",
      "\n",
      "Epoch 144/250\n",
      "469/469 [==============================] - 3s 6ms/step - Loss: 0.3742 - Accuracy: 0.9861 - Val Loss: 1.5440 - Val Accuracy: 0.9831\n",
      "\n",
      "Epoch 145/250\n",
      "469/469 [==============================] - 2s 5ms/step - Loss: 0.3737 - Accuracy: 0.9862 - Val Loss: 1.5434 - Val Accuracy: 0.9824\n",
      "\n",
      "Epoch 146/250\n",
      "469/469 [==============================] - 2s 5ms/step - Loss: 0.3739 - Accuracy: 0.9858 - Val Loss: 1.5430 - Val Accuracy: 0.9843\n",
      "\n",
      "Epoch 147/250\n",
      "469/469 [==============================] - 2s 5ms/step - Loss: 0.3738 - Accuracy: 0.9869 - Val Loss: 1.5431 - Val Accuracy: 0.9835\n",
      "\n",
      "Epoch 148/250\n",
      "469/469 [==============================] - 2s 5ms/step - Loss: 0.3730 - Accuracy: 0.9864 - Val Loss: 1.5477 - Val Accuracy: 0.9806\n",
      "\n",
      "Epoch 149/250\n",
      "469/469 [==============================] - 2s 5ms/step - Loss: 0.3729 - Accuracy: 0.9866 - Val Loss: 1.5430 - Val Accuracy: 0.9830\n",
      "\n",
      "Epoch 150/250\n",
      "469/469 [==============================] - 2s 5ms/step - Loss: 0.3724 - Accuracy: 0.9868 - Val Loss: 1.5433 - Val Accuracy: 0.9831\n",
      "\n",
      "Epoch 151/250\n",
      "469/469 [==============================] - 2s 5ms/step - Loss: 0.3728 - Accuracy: 0.9864 - Val Loss: 1.5433 - Val Accuracy: 0.9831\n",
      "\n",
      "Epoch 152/250\n",
      "469/469 [==============================] - 3s 6ms/step - Loss: 0.3726 - Accuracy: 0.9863 - Val Loss: 1.5423 - Val Accuracy: 0.9823\n",
      "\n",
      "Epoch 153/250\n",
      "469/469 [==============================] - 2s 5ms/step - Loss: 0.3722 - Accuracy: 0.9868 - Val Loss: 1.5434 - Val Accuracy: 0.9813\n",
      "\n",
      "Epoch 154/250\n",
      "469/469 [==============================] - 3s 5ms/step - Loss: 0.3718 - Accuracy: 0.9867 - Val Loss: 1.5417 - Val Accuracy: 0.9831\n",
      "\n",
      "Epoch 155/250\n",
      "469/469 [==============================] - 2s 5ms/step - Loss: 0.3717 - Accuracy: 0.9869 - Val Loss: 1.5413 - Val Accuracy: 0.9835\n",
      "\n",
      "Epoch 156/250\n",
      "469/469 [==============================] - 3s 5ms/step - Loss: 0.3715 - Accuracy: 0.9871 - Val Loss: 1.5437 - Val Accuracy: 0.9822\n",
      "\n",
      "Epoch 157/250\n",
      "469/469 [==============================] - 2s 5ms/step - Loss: 0.3709 - Accuracy: 0.9872 - Val Loss: 1.5437 - Val Accuracy: 0.9813\n",
      "\n",
      "Epoch 158/250\n",
      "469/469 [==============================] - 2s 5ms/step - Loss: 0.3710 - Accuracy: 0.9870 - Val Loss: 1.5433 - Val Accuracy: 0.9833\n",
      "\n",
      "Epoch 159/250\n",
      "469/469 [==============================] - 2s 5ms/step - Loss: 0.3703 - Accuracy: 0.9874 - Val Loss: 1.5418 - Val Accuracy: 0.9839\n",
      "\n",
      "Epoch 160/250\n",
      "469/469 [==============================] - 3s 5ms/step - Loss: 0.3705 - Accuracy: 0.9871 - Val Loss: 1.5425 - Val Accuracy: 0.9837\n",
      "\n",
      "Epoch 161/250\n",
      "469/469 [==============================] - 2s 5ms/step - Loss: 0.3702 - Accuracy: 0.9872 - Val Loss: 1.5428 - Val Accuracy: 0.9831\n",
      "\n",
      "Epoch 162/250\n",
      "469/469 [==============================] - 2s 5ms/step - Loss: 0.3700 - Accuracy: 0.9873 - Val Loss: 1.5433 - Val Accuracy: 0.9823\n",
      "\n",
      "Epoch 163/250\n",
      "469/469 [==============================] - 3s 5ms/step - Loss: 0.3705 - Accuracy: 0.9870 - Val Loss: 1.5450 - Val Accuracy: 0.9830\n",
      "\n",
      "Epoch 164/250\n",
      "469/469 [==============================] - 3s 6ms/step - Loss: 0.3695 - Accuracy: 0.9875 - Val Loss: 1.5408 - Val Accuracy: 0.9850\n",
      "\n",
      "Epoch 165/250\n",
      "469/469 [==============================] - 3s 6ms/step - Loss: 0.3696 - Accuracy: 0.9873 - Val Loss: 1.5415 - Val Accuracy: 0.9840\n",
      "\n",
      "Epoch 166/250\n",
      "469/469 [==============================] - 2s 5ms/step - Loss: 0.3687 - Accuracy: 0.9876 - Val Loss: 1.5407 - Val Accuracy: 0.9848\n",
      "\n",
      "Epoch 167/250\n",
      "469/469 [==============================] - 2s 5ms/step - Loss: 0.3693 - Accuracy: 0.9875 - Val Loss: 1.5430 - Val Accuracy: 0.9844\n",
      "\n",
      "Epoch 168/250\n"
     ]
    },
    {
     "name": "stdout",
     "output_type": "stream",
     "text": [
      "469/469 [==============================] - 2s 5ms/step - Loss: 0.3688 - Accuracy: 0.9879 - Val Loss: 1.5420 - Val Accuracy: 0.9829\n",
      "\n",
      "Epoch 169/250\n",
      "469/469 [==============================] - 2s 5ms/step - Loss: 0.3686 - Accuracy: 0.9878 - Val Loss: 1.5421 - Val Accuracy: 0.9837\n",
      "\n",
      "Epoch 170/250\n",
      "469/469 [==============================] - 2s 5ms/step - Loss: 0.3683 - Accuracy: 0.9878 - Val Loss: 1.5446 - Val Accuracy: 0.9811\n",
      "\n",
      "Epoch 171/250\n",
      "469/469 [==============================] - 2s 5ms/step - Loss: 0.3684 - Accuracy: 0.9878 - Val Loss: 1.5475 - Val Accuracy: 0.9803\n",
      "\n",
      "Epoch 172/250\n",
      "469/469 [==============================] - 2s 5ms/step - Loss: 0.3684 - Accuracy: 0.9874 - Val Loss: 1.5425 - Val Accuracy: 0.9847\n",
      "\n",
      "Epoch 173/250\n",
      "469/469 [==============================] - 2s 5ms/step - Loss: 0.3678 - Accuracy: 0.9880 - Val Loss: 1.5412 - Val Accuracy: 0.9842\n",
      "\n",
      "Epoch 174/250\n",
      "469/469 [==============================] - 2s 5ms/step - Loss: 0.3678 - Accuracy: 0.9877 - Val Loss: 1.5428 - Val Accuracy: 0.9838\n",
      "\n",
      "Epoch 175/250\n",
      "469/469 [==============================] - 3s 6ms/step - Loss: 0.3670 - Accuracy: 0.9880 - Val Loss: 1.5408 - Val Accuracy: 0.9845\n",
      "\n",
      "Epoch 176/250\n",
      "469/469 [==============================] - 3s 5ms/step - Loss: 0.3671 - Accuracy: 0.9880 - Val Loss: 1.5407 - Val Accuracy: 0.9846\n",
      "\n",
      "Epoch 177/250\n",
      "469/469 [==============================] - 3s 5ms/step - Loss: 0.3668 - Accuracy: 0.9878 - Val Loss: 1.5417 - Val Accuracy: 0.9841\n",
      "\n",
      "Epoch 178/250\n",
      "469/469 [==============================] - 2s 5ms/step - Loss: 0.3667 - Accuracy: 0.9882 - Val Loss: 1.5419 - Val Accuracy: 0.9845\n",
      "\n",
      "Epoch 179/250\n",
      "469/469 [==============================] - 3s 6ms/step - Loss: 0.3664 - Accuracy: 0.9881 - Val Loss: 1.5416 - Val Accuracy: 0.9838\n",
      "\n",
      "Epoch 180/250\n",
      "469/469 [==============================] - 3s 6ms/step - Loss: 0.3666 - Accuracy: 0.9883 - Val Loss: 1.5410 - Val Accuracy: 0.9846\n",
      "\n",
      "Epoch 181/250\n",
      "469/469 [==============================] - 2s 5ms/step - Loss: 0.3658 - Accuracy: 0.9889 - Val Loss: 1.5393 - Val Accuracy: 0.9846\n",
      "\n",
      "Epoch 182/250\n",
      "469/469 [==============================] - 2s 5ms/step - Loss: 0.3661 - Accuracy: 0.9885 - Val Loss: 1.5431 - Val Accuracy: 0.9839\n",
      "\n",
      "Epoch 183/250\n",
      "469/469 [==============================] - 3s 5ms/step - Loss: 0.3657 - Accuracy: 0.9883 - Val Loss: 1.5431 - Val Accuracy: 0.9832\n",
      "\n",
      "Epoch 184/250\n",
      "469/469 [==============================] - 2s 5ms/step - Loss: 0.3658 - Accuracy: 0.9880 - Val Loss: 1.5395 - Val Accuracy: 0.9855\n",
      "\n",
      "Epoch 185/250\n",
      "469/469 [==============================] - 2s 5ms/step - Loss: 0.3652 - Accuracy: 0.9887 - Val Loss: 1.5395 - Val Accuracy: 0.9848\n",
      "\n",
      "Epoch 186/250\n",
      "469/469 [==============================] - 2s 5ms/step - Loss: 0.3650 - Accuracy: 0.9888 - Val Loss: 1.5390 - Val Accuracy: 0.9849\n",
      "\n",
      "Epoch 187/250\n",
      "469/469 [==============================] - 2s 5ms/step - Loss: 0.3650 - Accuracy: 0.9888 - Val Loss: 1.5402 - Val Accuracy: 0.9849\n",
      "\n",
      "Epoch 188/250\n",
      "469/469 [==============================] - 3s 6ms/step - Loss: 0.3650 - Accuracy: 0.9883 - Val Loss: 1.5432 - Val Accuracy: 0.9857\n",
      "\n",
      "Epoch 189/250\n",
      "469/469 [==============================] - 2s 5ms/step - Loss: 0.3647 - Accuracy: 0.9888 - Val Loss: 1.5421 - Val Accuracy: 0.9826\n",
      "\n",
      "Epoch 190/250\n",
      "469/469 [==============================] - 2s 5ms/step - Loss: 0.3648 - Accuracy: 0.9887 - Val Loss: 1.5404 - Val Accuracy: 0.9861\n",
      "\n",
      "Epoch 191/250\n",
      "469/469 [==============================] - 2s 5ms/step - Loss: 0.3642 - Accuracy: 0.9890 - Val Loss: 1.5407 - Val Accuracy: 0.9861\n",
      "\n",
      "Epoch 192/250\n",
      "469/469 [==============================] - 2s 5ms/step - Loss: 0.3644 - Accuracy: 0.9888 - Val Loss: 1.5398 - Val Accuracy: 0.9853\n",
      "\n",
      "Epoch 193/250\n",
      "469/469 [==============================] - 3s 5ms/step - Loss: 0.3643 - Accuracy: 0.9889 - Val Loss: 1.5412 - Val Accuracy: 0.9849\n",
      "\n",
      "Epoch 194/250\n",
      "469/469 [==============================] - 3s 5ms/step - Loss: 0.3641 - Accuracy: 0.9889 - Val Loss: 1.5414 - Val Accuracy: 0.9836\n",
      "\n",
      "Epoch 195/250\n",
      "469/469 [==============================] - 2s 5ms/step - Loss: 0.3636 - Accuracy: 0.9889 - Val Loss: 1.5403 - Val Accuracy: 0.9838\n",
      "\n",
      "Epoch 196/250\n",
      "469/469 [==============================] - ETA: 0s - Loss: 0.3632 - Accuracy: 0.98 - 2s 5ms/step - Loss: 0.3632 - Accuracy: 0.9893 - Val Loss: 1.5395 - Val Accuracy: 0.9844\n",
      "\n",
      "Epoch 197/250\n",
      "469/469 [==============================] - 2s 5ms/step - Loss: 0.3632 - Accuracy: 0.9893 - Val Loss: 1.5415 - Val Accuracy: 0.9848\n",
      "\n",
      "Epoch 198/250\n",
      "469/469 [==============================] - 3s 6ms/step - Loss: 0.3635 - Accuracy: 0.9893 - Val Loss: 1.5421 - Val Accuracy: 0.9844\n",
      "\n",
      "Epoch 199/250\n",
      "469/469 [==============================] - 2s 5ms/step - Loss: 0.3626 - Accuracy: 0.9896 - Val Loss: 1.5404 - Val Accuracy: 0.9844\n",
      "\n",
      "Epoch 200/250\n",
      "469/469 [==============================] - 2s 5ms/step - Loss: 0.3632 - Accuracy: 0.9893 - Val Loss: 1.5393 - Val Accuracy: 0.9850\n",
      "\n",
      "Epoch 201/250\n",
      "469/469 [==============================] - 2s 5ms/step - Loss: 0.3628 - Accuracy: 0.9892 - Val Loss: 1.5407 - Val Accuracy: 0.9848\n",
      "\n",
      "Epoch 202/250\n",
      "469/469 [==============================] - 2s 5ms/step - Loss: 0.3631 - Accuracy: 0.9890 - Val Loss: 1.5407 - Val Accuracy: 0.9851\n",
      "\n",
      "Epoch 203/250\n",
      "469/469 [==============================] - 2s 5ms/step - Loss: 0.3628 - Accuracy: 0.9895 - Val Loss: 1.5402 - Val Accuracy: 0.9860\n",
      "\n",
      "Epoch 204/250\n",
      "469/469 [==============================] - 2s 5ms/step - Loss: 0.3624 - Accuracy: 0.9895 - Val Loss: 1.5414 - Val Accuracy: 0.9830\n",
      "\n",
      "Epoch 205/250\n",
      "469/469 [==============================] - 2s 5ms/step - Loss: 0.3623 - Accuracy: 0.9897 - Val Loss: 1.5386 - Val Accuracy: 0.9849\n",
      "\n",
      "Epoch 206/250\n",
      "469/469 [==============================] - 2s 5ms/step - Loss: 0.3623 - Accuracy: 0.9894 - Val Loss: 1.5408 - Val Accuracy: 0.9849\n",
      "\n",
      "Epoch 207/250\n",
      "469/469 [==============================] - 3s 6ms/step - Loss: 0.3619 - Accuracy: 0.9895 - Val Loss: 1.5388 - Val Accuracy: 0.9859\n",
      "\n",
      "Epoch 208/250\n",
      "469/469 [==============================] - 3s 5ms/step - Loss: 0.3617 - Accuracy: 0.9902 - Val Loss: 1.5443 - Val Accuracy: 0.9824\n",
      "\n",
      "Epoch 209/250\n",
      "469/469 [==============================] - 2s 5ms/step - Loss: 0.3615 - Accuracy: 0.9900 - Val Loss: 1.5407 - Val Accuracy: 0.9844\n",
      "\n",
      "Epoch 210/250\n",
      "469/469 [==============================] - 2s 5ms/step - Loss: 0.3612 - Accuracy: 0.9899 - Val Loss: 1.5385 - Val Accuracy: 0.9858\n",
      "\n",
      "Epoch 211/250\n",
      "469/469 [==============================] - 3s 6ms/step - Loss: 0.3614 - Accuracy: 0.9896 - Val Loss: 1.5395 - Val Accuracy: 0.9867\n",
      "\n",
      "Epoch 212/250\n",
      "469/469 [==============================] - 3s 6ms/step - Loss: 0.3612 - Accuracy: 0.9897 - Val Loss: 1.5401 - Val Accuracy: 0.9851\n",
      "\n",
      "Epoch 213/250\n",
      "469/469 [==============================] - 3s 5ms/step - Loss: 0.3607 - Accuracy: 0.9901 - Val Loss: 1.5382 - Val Accuracy: 0.9857\n",
      "\n",
      "Epoch 214/250\n",
      "469/469 [==============================] - 2s 5ms/step - Loss: 0.3606 - Accuracy: 0.9898 - Val Loss: 1.5392 - Val Accuracy: 0.9862\n",
      "\n",
      "Epoch 215/250\n",
      "469/469 [==============================] - 3s 6ms/step - Loss: 0.3607 - Accuracy: 0.9901 - Val Loss: 1.5412 - Val Accuracy: 0.9849\n",
      "\n",
      "Epoch 216/250\n",
      "469/469 [==============================] - 2s 5ms/step - Loss: 0.3604 - Accuracy: 0.9899 - Val Loss: 1.5405 - Val Accuracy: 0.9848\n",
      "\n",
      "Epoch 217/250\n",
      "469/469 [==============================] - 2s 5ms/step - Loss: 0.3599 - Accuracy: 0.9907 - Val Loss: 1.5396 - Val Accuracy: 0.9834\n",
      "\n",
      "Epoch 218/250\n",
      "469/469 [==============================] - 2s 5ms/step - Loss: 0.3603 - Accuracy: 0.9903 - Val Loss: 1.5385 - Val Accuracy: 0.9869\n",
      "\n",
      "Epoch 219/250\n",
      "469/469 [==============================] - 2s 5ms/step - Loss: 0.3603 - Accuracy: 0.9903 - Val Loss: 1.5388 - Val Accuracy: 0.9855\n",
      "\n",
      "Epoch 220/250\n",
      "469/469 [==============================] - 3s 5ms/step - Loss: 0.3597 - Accuracy: 0.9902 - Val Loss: 1.5385 - Val Accuracy: 0.9859\n",
      "\n",
      "Epoch 221/250\n",
      "469/469 [==============================] - 3s 6ms/step - Loss: 0.3595 - Accuracy: 0.9900 - Val Loss: 1.5393 - Val Accuracy: 0.9853\n",
      "\n",
      "Epoch 222/250\n",
      "469/469 [==============================] - 2s 5ms/step - Loss: 0.3597 - Accuracy: 0.9901 - Val Loss: 1.5390 - Val Accuracy: 0.9864\n",
      "\n",
      "Epoch 223/250\n"
     ]
    },
    {
     "name": "stdout",
     "output_type": "stream",
     "text": [
      "469/469 [==============================] - 2s 5ms/step - Loss: 0.3598 - Accuracy: 0.9899 - Val Loss: 1.5405 - Val Accuracy: 0.9850\n",
      "\n",
      "Epoch 224/250\n",
      "469/469 [==============================] - 2s 5ms/step - Loss: 0.3590 - Accuracy: 0.9907 - Val Loss: 1.5418 - Val Accuracy: 0.9837\n",
      "\n",
      "Epoch 225/250\n",
      "469/469 [==============================] - 2s 5ms/step - Loss: 0.3595 - Accuracy: 0.9907 - Val Loss: 1.5393 - Val Accuracy: 0.9840\n",
      "\n",
      "Epoch 226/250\n",
      "469/469 [==============================] - 2s 5ms/step - Loss: 0.3593 - Accuracy: 0.9905 - Val Loss: 1.5384 - Val Accuracy: 0.9860\n",
      "\n",
      "Epoch 227/250\n",
      "469/469 [==============================] - 3s 6ms/step - Loss: 0.3592 - Accuracy: 0.9904 - Val Loss: 1.5409 - Val Accuracy: 0.9847\n",
      "\n",
      "Epoch 228/250\n",
      "469/469 [==============================] - 2s 5ms/step - Loss: 0.3589 - Accuracy: 0.9906 - Val Loss: 1.5371 - Val Accuracy: 0.9844\n",
      "\n",
      "Epoch 229/250\n",
      "469/469 [==============================] - 2s 5ms/step - Loss: 0.3585 - Accuracy: 0.9908 - Val Loss: 1.5402 - Val Accuracy: 0.9838\n",
      "\n",
      "Epoch 230/250\n",
      "469/469 [==============================] - 2s 5ms/step - Loss: 0.3589 - Accuracy: 0.9906 - Val Loss: 1.5385 - Val Accuracy: 0.9858\n",
      "\n",
      "Epoch 231/250\n",
      "469/469 [==============================] - 2s 5ms/step - Loss: 0.3581 - Accuracy: 0.9908 - Val Loss: 1.5392 - Val Accuracy: 0.9858\n",
      "\n",
      "Epoch 232/250\n",
      "469/469 [==============================] - 2s 5ms/step - Loss: 0.3588 - Accuracy: 0.9905 - Val Loss: 1.5371 - Val Accuracy: 0.9853\n",
      "\n",
      "Epoch 233/250\n",
      "469/469 [==============================] - 2s 5ms/step - Loss: 0.3581 - Accuracy: 0.9905 - Val Loss: 1.5400 - Val Accuracy: 0.9860\n",
      "\n",
      "Epoch 234/250\n",
      "469/469 [==============================] - 2s 5ms/step - Loss: 0.3582 - Accuracy: 0.9906 - Val Loss: 1.5381 - Val Accuracy: 0.9868\n",
      "\n",
      "Epoch 235/250\n",
      "469/469 [==============================] - 2s 5ms/step - Loss: 0.3580 - Accuracy: 0.9909 - Val Loss: 1.5394 - Val Accuracy: 0.9847\n",
      "\n",
      "Epoch 236/250\n",
      "469/469 [==============================] - 2s 5ms/step - Loss: 0.3577 - Accuracy: 0.9909 - Val Loss: 1.5402 - Val Accuracy: 0.9837\n",
      "\n",
      "Epoch 237/250\n",
      "469/469 [==============================] - 2s 5ms/step - Loss: 0.3577 - Accuracy: 0.9908 - Val Loss: 1.5405 - Val Accuracy: 0.9858\n",
      "\n",
      "Epoch 238/250\n",
      "469/469 [==============================] - 2s 5ms/step - Loss: 0.3578 - Accuracy: 0.9910 - Val Loss: 1.5392 - Val Accuracy: 0.9853\n",
      "\n",
      "Epoch 239/250\n",
      "469/469 [==============================] - 2s 5ms/step - Loss: 0.3576 - Accuracy: 0.9909 - Val Loss: 1.5410 - Val Accuracy: 0.9844\n",
      "\n",
      "Epoch 240/250\n",
      "469/469 [==============================] - 3s 5ms/step - Loss: 0.3574 - Accuracy: 0.9909 - Val Loss: 1.5396 - Val Accuracy: 0.9857\n",
      "\n",
      "Epoch 241/250\n",
      "469/469 [==============================] - 3s 5ms/step - Loss: 0.3570 - Accuracy: 0.9910 - Val Loss: 1.5389 - Val Accuracy: 0.9858\n",
      "\n",
      "Epoch 242/250\n",
      "469/469 [==============================] - 2s 5ms/step - Loss: 0.3573 - Accuracy: 0.9910 - Val Loss: 1.5420 - Val Accuracy: 0.9839\n",
      "\n",
      "Epoch 243/250\n",
      "469/469 [==============================] - 2s 5ms/step - Loss: 0.3568 - Accuracy: 0.9914 - Val Loss: 1.5412 - Val Accuracy: 0.9850\n",
      "\n",
      "Epoch 244/250\n",
      "469/469 [==============================] - 3s 6ms/step - Loss: 0.3566 - Accuracy: 0.9911 - Val Loss: 1.5381 - Val Accuracy: 0.9862\n",
      "\n",
      "Epoch 245/250\n",
      "469/469 [==============================] - 2s 5ms/step - Loss: 0.3564 - Accuracy: 0.9913 - Val Loss: 1.5386 - Val Accuracy: 0.9861\n",
      "\n",
      "Epoch 246/250\n",
      "469/469 [==============================] - 2s 5ms/step - Loss: 0.3565 - Accuracy: 0.9914 - Val Loss: 1.5415 - Val Accuracy: 0.9845\n",
      "\n",
      "Epoch 247/250\n",
      "469/469 [==============================] - 3s 5ms/step - Loss: 0.3567 - Accuracy: 0.9915 - Val Loss: 1.5390 - Val Accuracy: 0.9856\n",
      "\n",
      "Epoch 248/250\n",
      "469/469 [==============================] - 2s 5ms/step - Loss: 0.3563 - Accuracy: 0.9913 - Val Loss: 1.5379 - Val Accuracy: 0.9864\n",
      "\n",
      "Epoch 249/250\n",
      "469/469 [==============================] - 2s 5ms/step - Loss: 0.3562 - Accuracy: 0.9915 - Val Loss: 1.5381 - Val Accuracy: 0.9853\n",
      "\n",
      "Epoch 250/250\n",
      "469/469 [==============================] - 2s 5ms/step - Loss: 0.3563 - Accuracy: 0.9913 - Val Loss: 1.5377 - Val Accuracy: 0.9867\n"
     ]
    }
   ],
   "source": [
    "distillation_trainer.fit(ds_train, epochs=EPOCHS, initial_epoch=0,\n",
    "    validation_data=ds_test)"
   ]
  },
  {
   "cell_type": "markdown",
   "id": "opposite-check",
   "metadata": {},
   "source": [
    "## 5.4 Evaluate model"
   ]
  },
  {
   "cell_type": "code",
   "execution_count": 30,
   "id": "former-guest",
   "metadata": {
    "ExecuteTime": {
     "end_time": "2022-01-08T23:59:29.210549Z",
     "start_time": "2022-01-08T23:59:29.183844Z"
    }
   },
   "outputs": [],
   "source": [
    "small_model_w_kd.compile(\n",
    "    loss=tf.keras.losses.SparseCategoricalCrossentropy(from_logits=True),\n",
    "    metrics=[tf.keras.metrics.SparseCategoricalAccuracy()],\n",
    ")"
   ]
  },
  {
   "cell_type": "code",
   "execution_count": 31,
   "id": "local-ordinance",
   "metadata": {
    "ExecuteTime": {
     "end_time": "2022-01-08T23:59:29.460056Z",
     "start_time": "2022-01-08T23:59:29.211450Z"
    }
   },
   "outputs": [
    {
     "name": "stdout",
     "output_type": "stream",
     "text": [
      "79/79 [==============================] - 0s 2ms/step - loss: 0.1090 - sparse_categorical_accuracy: 0.9876\n"
     ]
    },
    {
     "data": {
      "text/plain": [
       "[0.11131098866462708, 0.9865999817848206]"
      ]
     },
     "execution_count": 31,
     "metadata": {},
     "output_type": "execute_result"
    }
   ],
   "source": [
    "small_model_w_kd.evaluate(ds_test)"
   ]
  },
  {
   "cell_type": "code",
   "execution_count": null,
   "id": "coated-force",
   "metadata": {},
   "outputs": [],
   "source": []
  }
 ],
 "metadata": {
  "kernelspec": {
   "display_name": "TensorFlow2.x",
   "language": "python",
   "name": "tensorflow2.x"
  },
  "language_info": {
   "codemirror_mode": {
    "name": "ipython",
    "version": 3
   },
   "file_extension": ".py",
   "mimetype": "text/x-python",
   "name": "python",
   "nbconvert_exporter": "python",
   "pygments_lexer": "ipython3",
   "version": "3.6.9"
  },
  "toc": {
   "base_numbering": 1,
   "nav_menu": {},
   "number_sections": false,
   "sideBar": true,
   "skip_h1_title": false,
   "title_cell": "Table of Contents",
   "title_sidebar": "Contents",
   "toc_cell": false,
   "toc_position": {
    "height": "calc(100% - 180px)",
    "left": "10px",
    "top": "150px",
    "width": "288px"
   },
   "toc_section_display": true,
   "toc_window_display": true
  },
  "varInspector": {
   "cols": {
    "lenName": 16,
    "lenType": 16,
    "lenVar": 40
   },
   "kernels_config": {
    "python": {
     "delete_cmd_postfix": "",
     "delete_cmd_prefix": "del ",
     "library": "var_list.py",
     "varRefreshCmd": "print(var_dic_list())"
    },
    "r": {
     "delete_cmd_postfix": ") ",
     "delete_cmd_prefix": "rm(",
     "library": "var_list.r",
     "varRefreshCmd": "cat(var_dic_list()) "
    }
   },
   "types_to_exclude": [
    "module",
    "function",
    "builtin_function_or_method",
    "instance",
    "_Feature"
   ],
   "window_display": false
  }
 },
 "nbformat": 4,
 "nbformat_minor": 5
}
