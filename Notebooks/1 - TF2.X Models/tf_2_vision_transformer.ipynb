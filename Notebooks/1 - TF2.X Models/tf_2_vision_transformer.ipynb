{
 "cells": [
  {
   "cell_type": "markdown",
   "metadata": {},
   "source": [
    "# Vision Transformer (ViT)"
   ]
  },
  {
   "cell_type": "markdown",
   "metadata": {},
   "source": [
    "![ViT](media/vision_transformer/vit.png \"ViT\")"
   ]
  },
  {
   "cell_type": "code",
   "execution_count": null,
   "metadata": {
    "ExecuteTime": {
     "end_time": "2021-02-22T17:22:04.711240Z",
     "start_time": "2021-02-22T17:22:04.576704Z"
    }
   },
   "outputs": [],
   "source": [
    "%matplotlib inline\n",
    "%load_ext autoreload\n",
    "%autoreload 2"
   ]
  },
  {
   "cell_type": "code",
   "execution_count": null,
   "metadata": {
    "ExecuteTime": {
     "end_time": "2021-02-22T17:22:05.947345Z",
     "start_time": "2021-02-22T17:22:04.712170Z"
    }
   },
   "outputs": [],
   "source": [
    "from utils.transformer import TransformerEncoder, PatchClassEmbedding, Patches\n",
    "from utils.visualize import plotPatches, plotHistory\n",
    "from utils.tools import CustomSchedule\n",
    "import tensorflow as tf\n",
    "import tensorflow_datasets as tfds\n",
    "import numpy as np\n",
    "import matplotlib.pyplot as plt\n",
    "from pathlib import Path\n",
    "import cv2\n",
    "from tqdm.notebook import tqdm\n",
    "from sklearn.model_selection import train_test_split"
   ]
  },
  {
   "cell_type": "code",
   "execution_count": null,
   "metadata": {
    "ExecuteTime": {
     "end_time": "2021-02-22T17:22:05.964292Z",
     "start_time": "2021-02-22T17:22:05.948418Z"
    }
   },
   "outputs": [],
   "source": [
    "# set some paths\n",
    "model_dir = Path('bin')"
   ]
  },
  {
   "cell_type": "code",
   "execution_count": null,
   "metadata": {
    "ExecuteTime": {
     "end_time": "2021-02-22T17:22:06.053665Z",
     "start_time": "2021-02-22T17:22:05.965206Z"
    }
   },
   "outputs": [],
   "source": [
    "gpus = tf.config.experimental.list_physical_devices('GPU')\n",
    "tf.config.experimental.set_visible_devices(gpus[0], 'GPU')\n",
    "tf.config.experimental.set_memory_growth(gpus[0], True)"
   ]
  },
  {
   "cell_type": "markdown",
   "metadata": {},
   "source": [
    "# 1.0 Import the Dataset"
   ]
  },
  {
   "cell_type": "markdown",
   "metadata": {},
   "source": [
    "## 1.1 Download a dataset (Cats_vs_Dogs)"
   ]
  },
  {
   "cell_type": "code",
   "execution_count": null,
   "metadata": {
    "ExecuteTime": {
     "end_time": "2021-02-22T17:22:06.562160Z",
     "start_time": "2021-02-22T17:22:06.055802Z"
    }
   },
   "outputs": [],
   "source": [
    "ds_train, ds_info = tfds.load(\n",
    "    'cats_vs_dogs',\n",
    "    shuffle_files=True,\n",
    "    as_supervised=True,\n",
    "    with_info=True)"
   ]
  },
  {
   "cell_type": "code",
   "execution_count": null,
   "metadata": {
    "ExecuteTime": {
     "end_time": "2021-02-22T17:22:06.580819Z",
     "start_time": "2021-02-22T17:22:06.563050Z"
    }
   },
   "outputs": [],
   "source": [
    "ds_info"
   ]
  },
  {
   "cell_type": "code",
   "execution_count": null,
   "metadata": {
    "ExecuteTime": {
     "end_time": "2021-02-22T17:22:06.597918Z",
     "start_time": "2021-02-22T17:22:06.581657Z"
    }
   },
   "outputs": [],
   "source": [
    "label_names = ds_info.features['label'].names\n",
    "print(label_names)"
   ]
  },
  {
   "cell_type": "code",
   "execution_count": null,
   "metadata": {
    "ExecuteTime": {
     "end_time": "2021-02-22T17:22:06.615173Z",
     "start_time": "2021-02-22T17:22:06.599292Z"
    }
   },
   "outputs": [],
   "source": [
    "n_images = ds_info.splits['train'].num_examples\n",
    "print(n_images)"
   ]
  },
  {
   "cell_type": "markdown",
   "metadata": {},
   "source": [
    "# 2.0 Prepare the Dataset"
   ]
  },
  {
   "cell_type": "code",
   "execution_count": null,
   "metadata": {
    "ExecuteTime": {
     "end_time": "2021-02-22T17:22:06.632260Z",
     "start_time": "2021-02-22T17:22:06.616279Z"
    }
   },
   "outputs": [],
   "source": [
    "# dataset configurations\n",
    "input_size = (224, 224, 3)\n",
    "patch_size = 16\n",
    "test_size = 0.2\n",
    "num_patches = (input_size[0] // patch_size) ** 2"
   ]
  },
  {
   "cell_type": "code",
   "execution_count": null,
   "metadata": {
    "ExecuteTime": {
     "end_time": "2021-02-22T17:22:06.650398Z",
     "start_time": "2021-02-22T17:22:06.633166Z"
    }
   },
   "outputs": [],
   "source": [
    "def build_dataset(ds, n_images):\n",
    "    \"\"\"Create a numpy array resizing all images\"\"\"\n",
    "    X = np.empty((n_images, input_size[0], input_size[1], input_size[2]), dtype=\"float32\")\n",
    "    y = np.empty((n_images), dtype=\"float32\")\n",
    "    for i, data in tqdm(enumerate(ds['train'])):\n",
    "        img = cv2.resize(data[0].numpy(), (input_size[1],input_size[0]))\n",
    "        X[i] = img\n",
    "        y[i] = data[1]\n",
    "    return X, y"
   ]
  },
  {
   "cell_type": "code",
   "execution_count": null,
   "metadata": {
    "ExecuteTime": {
     "end_time": "2021-02-22T17:22:13.639332Z",
     "start_time": "2021-02-22T17:22:06.651335Z"
    },
    "scrolled": true
   },
   "outputs": [],
   "source": [
    "X, y = build_dataset(ds_train, n_images)"
   ]
  },
  {
   "cell_type": "markdown",
   "metadata": {},
   "source": [
    "## 2.1 Visualize patch creation"
   ]
  },
  {
   "cell_type": "code",
   "execution_count": null,
   "metadata": {
    "ExecuteTime": {
     "end_time": "2021-02-22T17:22:21.245582Z",
     "start_time": "2021-02-22T17:22:13.640108Z"
    },
    "scrolled": true
   },
   "outputs": [],
   "source": [
    "plotPatches(X, n_images=2, patch_size=patch_size)"
   ]
  },
  {
   "cell_type": "markdown",
   "metadata": {},
   "source": [
    "## 2.2 Split the dataset"
   ]
  },
  {
   "cell_type": "code",
   "execution_count": null,
   "metadata": {
    "ExecuteTime": {
     "end_time": "2021-02-22T17:22:22.972103Z",
     "start_time": "2021-02-22T17:22:21.246439Z"
    }
   },
   "outputs": [],
   "source": [
    "# split with a stratified sampling\n",
    "(X_train, X_test, y_train, y_test) = train_test_split(X, y,\n",
    "    test_size=test_size, stratify=y, random_state=42)"
   ]
  },
  {
   "cell_type": "markdown",
   "metadata": {},
   "source": [
    "## 2.3 Build a pre-process pipeline with keras pre"
   ]
  },
  {
   "cell_type": "code",
   "execution_count": null,
   "metadata": {
    "ExecuteTime": {
     "end_time": "2021-02-22T17:23:11.825850Z",
     "start_time": "2021-02-22T17:22:22.973038Z"
    }
   },
   "outputs": [],
   "source": [
    "pre_process_pipeline = tf.keras.Sequential([\n",
    "        tf.keras.layers.experimental.preprocessing.Normalization(),\n",
    "        tf.keras.layers.experimental.preprocessing.RandomFlip(\"horizontal_and_vertical\"),\n",
    "        tf.keras.layers.experimental.preprocessing.RandomContrast(0.2),\n",
    "        tf.keras.layers.experimental.preprocessing.RandomRotation(factor=0.03),\n",
    "        tf.keras.layers.experimental.preprocessing.RandomZoom(height_factor=0.3, width_factor=0.3),], name=\"pre_process_pipeline\")\n",
    "\n",
    "pre_process_pipeline.layers[0].adapt(X_train)"
   ]
  },
  {
   "cell_type": "markdown",
   "metadata": {},
   "source": [
    "# 3.0 Build the Vision Transformer (ViT)"
   ]
  },
  {
   "cell_type": "code",
   "execution_count": null,
   "metadata": {
    "ExecuteTime": {
     "end_time": "2021-02-22T17:23:13.557289Z",
     "start_time": "2021-02-22T17:23:13.538803Z"
    }
   },
   "outputs": [],
   "source": [
    "# model configurations\n",
    "d_model = 128\n",
    "d_ff = d_model * 2\n",
    "n_heads = 4\n",
    "mlp_head_size = 512\n",
    "dropout = 0.1\n",
    "activation = tf.nn.gelu\n",
    "n_layers = 6"
   ]
  },
  {
   "cell_type": "code",
   "execution_count": null,
   "metadata": {
    "ExecuteTime": {
     "end_time": "2021-02-22T17:23:20.291604Z",
     "start_time": "2021-02-22T17:23:20.270094Z"
    }
   },
   "outputs": [],
   "source": [
    "def build_vit(transformer):\n",
    "    # Input\n",
    "    inputs = tf.keras.layers.Input(shape=input_size)\n",
    "    \n",
    "    # Data pre_processing Pipeline\n",
    "    x = pre_process_pipeline(inputs)\n",
    "    \n",
    "    # Patch Creation\n",
    "    x = Patches(patch_size)(x)\n",
    "    \n",
    "    # Linear Projection of Flattened Patches\n",
    "    x = tf.keras.layers.Dense(d_model)(x)\n",
    "    \n",
    "    # Position Embedding + Extra learnable class embedding\n",
    "    x = PatchClassEmbedding(d_model, num_patches)(x)\n",
    "    \n",
    "    # Transformer Model\n",
    "    x = transformer(x)\n",
    "    \n",
    "    # Take only the Extra Learnable Class\n",
    "    x = tf.keras.layers.Lambda(lambda x: x[:,0,:])(x)\n",
    "    \n",
    "    # MLP Head\n",
    "    x = tf.keras.layers.Dense(mlp_head_size)(x)\n",
    "    outputs = tf.keras.layers.Dense(len(label_names))(x)\n",
    "    \n",
    "    return tf.keras.models.Model(inputs, outputs)"
   ]
  },
  {
   "cell_type": "code",
   "execution_count": null,
   "metadata": {
    "ExecuteTime": {
     "end_time": "2021-02-22T17:23:21.514952Z",
     "start_time": "2021-02-22T17:23:21.442826Z"
    }
   },
   "outputs": [],
   "source": [
    "transformer = TransformerEncoder(d_model, n_heads, d_ff, dropout, \n",
    "                                 activation, n_layers)"
   ]
  },
  {
   "cell_type": "code",
   "execution_count": null,
   "metadata": {
    "ExecuteTime": {
     "end_time": "2021-02-22T17:23:24.056899Z",
     "start_time": "2021-02-22T17:23:23.020150Z"
    }
   },
   "outputs": [],
   "source": [
    "vit_model = build_vit(transformer)\n",
    "vit_model.summary()"
   ]
  },
  {
   "cell_type": "markdown",
   "metadata": {},
   "source": [
    "# 4.0 Train the Network"
   ]
  },
  {
   "cell_type": "code",
   "execution_count": null,
   "metadata": {
    "ExecuteTime": {
     "end_time": "2021-02-22T17:20:11.969391Z",
     "start_time": "2021-02-22T17:19:27.869Z"
    }
   },
   "outputs": [],
   "source": [
    "# some training configurations\n",
    "lr = 3e-4\n",
    "batch_size = 128\n",
    "epochs = 100"
   ]
  },
  {
   "cell_type": "code",
   "execution_count": null,
   "metadata": {
    "ExecuteTime": {
     "end_time": "2021-02-22T17:20:11.970587Z",
     "start_time": "2021-02-22T17:19:30.279Z"
    }
   },
   "outputs": [],
   "source": [
    "lr = CustomSchedule(d_model, warmup_steps=20000.0)\n",
    "optimizer = tf.keras.optimizers.Adam(learning_rate=lr)\n",
    "vit_model.compile(\n",
    "    optimizer=optimizer,\n",
    "    loss=tf.keras.losses.SparseCategoricalCrossentropy(from_logits=True),\n",
    "    metrics=[tf.keras.metrics.SparseCategoricalAccuracy(name=\"accuracy\")])"
   ]
  },
  {
   "cell_type": "code",
   "execution_count": null,
   "metadata": {
    "ExecuteTime": {
     "end_time": "2021-02-22T17:20:11.971844Z",
     "start_time": "2021-02-22T17:19:34.214Z"
    }
   },
   "outputs": [],
   "source": [
    "name_model = 'vision_transformer.h5'\n",
    "checkpointer = tf.keras.callbacks.ModelCheckpoint(\n",
    "        model_dir.joinpath(name_model),\n",
    "        monitor=\"val_accuracy\",\n",
    "        save_best_only=True,\n",
    "        save_weights_only=True)"
   ]
  },
  {
   "cell_type": "code",
   "execution_count": null,
   "metadata": {
    "ExecuteTime": {
     "end_time": "2021-02-22T17:20:11.972998Z",
     "start_time": "2021-02-22T17:19:43.122Z"
    }
   },
   "outputs": [],
   "source": [
    "history = vit_model.fit(x=X_train,\n",
    "    y=y_train,\n",
    "    batch_size=batch_size,\n",
    "    epochs=epochs,\n",
    "    validation_data=(X_test, y_test),\n",
    "    callbacks=[checkpointer])"
   ]
  },
  {
   "cell_type": "markdown",
   "metadata": {},
   "source": [
    "# 5.0 Test the Model"
   ]
  },
  {
   "cell_type": "code",
   "execution_count": null,
   "metadata": {},
   "outputs": [],
   "source": [
    "# load best weights\n",
    "vit_model.load_weights(model_dir.joinpath(name_model))"
   ]
  },
  {
   "cell_type": "code",
   "execution_count": null,
   "metadata": {},
   "outputs": [],
   "source": [
    "# Evaluate the model \n",
    "vit_model.evaluate(X_test, y_test)"
   ]
  }
 ],
 "metadata": {
  "kernelspec": {
   "display_name": "TensorFlow2.0",
   "language": "python",
   "name": "tensorflow2.0"
  },
  "language_info": {
   "codemirror_mode": {
    "name": "ipython",
    "version": 3
   },
   "file_extension": ".py",
   "mimetype": "text/x-python",
   "name": "python",
   "nbconvert_exporter": "python",
   "pygments_lexer": "ipython3",
   "version": "3.6.9"
  },
  "toc": {
   "base_numbering": 1,
   "nav_menu": {},
   "number_sections": false,
   "sideBar": true,
   "skip_h1_title": false,
   "title_cell": "Table of Contents",
   "title_sidebar": "Contents",
   "toc_cell": false,
   "toc_position": {
    "height": "calc(100% - 180px)",
    "left": "10px",
    "top": "150px",
    "width": "261.818px"
   },
   "toc_section_display": true,
   "toc_window_display": true
  },
  "varInspector": {
   "cols": {
    "lenName": 16,
    "lenType": 16,
    "lenVar": 40
   },
   "kernels_config": {
    "python": {
     "delete_cmd_postfix": "",
     "delete_cmd_prefix": "del ",
     "library": "var_list.py",
     "varRefreshCmd": "print(var_dic_list())"
    },
    "r": {
     "delete_cmd_postfix": ") ",
     "delete_cmd_prefix": "rm(",
     "library": "var_list.r",
     "varRefreshCmd": "cat(var_dic_list()) "
    }
   },
   "types_to_exclude": [
    "module",
    "function",
    "builtin_function_or_method",
    "instance",
    "_Feature"
   ],
   "window_display": false
  }
 },
 "nbformat": 4,
 "nbformat_minor": 2
}
