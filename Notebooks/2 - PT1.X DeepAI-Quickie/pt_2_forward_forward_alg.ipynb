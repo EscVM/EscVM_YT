{
 "cells": [
  {
   "attachments": {},
   "cell_type": "markdown",
   "metadata": {},
   "source": [
    "# The Forward-Forward Algorithm\n",
    "\n",
    "Original paper: https://www.cs.toronto.edu/~hinton/FFA13.pdf"
   ]
  },
  {
   "cell_type": "code",
   "execution_count": null,
   "metadata": {},
   "outputs": [],
   "source": [
    "%load_ext autoreload\n",
    "%autoreload 2"
   ]
  },
  {
   "cell_type": "code",
   "execution_count": null,
   "metadata": {},
   "outputs": [],
   "source": [
    "from utils.dataset_utils import MNISTLoader, TrainingDatasetFF\n",
    "from utils.models import FFMultiLayerPerceptron, MultiLayerPerceptron\n",
    "from utils.tools import base_loss, generate_positive_negative_samples_overlay\n",
    "from pathlib import Path\n",
    "from torchvision.transforms import Compose, ToTensor, Lambda, Normalize\n",
    "import torch\n",
    "from tqdm.notebook import tqdm"
   ]
  },
  {
   "cell_type": "code",
   "execution_count": null,
   "metadata": {},
   "outputs": [],
   "source": [
    "## -- Set some variables\n",
    "PATH_DOWNLOAD = './tmp'\n",
    "\n",
    "train_batch_size = 1024\n",
    "test_batch_size = 1024\n",
    "pos_gen_fn = generate_positive_negative_samples_overlay # which function to use to generate pos neg examples\n",
    "\n",
    "device = torch.device('cuda' if torch.cuda.is_available() else 'cpu')"
   ]
  },
  {
   "attachments": {},
   "cell_type": "markdown",
   "metadata": {},
   "source": [
    "# 1.0 Import Data"
   ]
  },
  {
   "cell_type": "code",
   "execution_count": null,
   "metadata": {},
   "outputs": [],
   "source": [
    "download_folder = Path(PATH_DOWNLOAD).mkdir(parents=True, exist_ok=True)\n",
    "transform = Compose([\n",
    "        ToTensor(),\n",
    "        Normalize((0.1307,), (0.3081,)),\n",
    "        Lambda(lambda x: torch.flatten(x))])\n",
    "\n",
    "mnist_loader = MNISTLoader(train_transform=transform,\n",
    "                         test_transform=transform)\n",
    "\n",
    "mnist_loader.download_dataset()"
   ]
  },
  {
   "cell_type": "code",
   "execution_count": null,
   "metadata": {},
   "outputs": [],
   "source": [
    "train_loader = mnist_loader.get_train_loader(train_batch_size)\n",
    "test_loader = mnist_loader.get_test_loader(test_batch_size)"
   ]
  },
  {
   "cell_type": "code",
   "execution_count": null,
   "metadata": {},
   "outputs": [],
   "source": [
    "# it takes 10s to prepare all training dataset\n",
    "train_loader_ff= torch.utils.data.DataLoader(TrainingDatasetFF(pos_gen_fn(X.to(device),\n",
    "                                             Y.to(device), False) \n",
    "                                            for X, Y in train_loader),\n",
    "                                             batch_size=train_loader.batch_size, shuffle=True\n",
    "                                                ) \n"
   ]
  },
  {
   "attachments": {},
   "cell_type": "markdown",
   "metadata": {},
   "source": [
    "# 2.0 Create Network"
   ]
  },
  {
   "cell_type": "code",
   "execution_count": null,
   "metadata": {},
   "outputs": [],
   "source": [
    "## -- Set some variables\n",
    "hidden_dimensions = [784, 254, 254] # first is input size\n",
    "activation = torch.nn.ReLU()\n",
    "optimizer = torch.optim.Adam\n",
    "threshold = 2.0\n",
    "loss = base_loss \n",
    "\n"
   ]
  },
  {
   "cell_type": "code",
   "execution_count": null,
   "metadata": {},
   "outputs": [],
   "source": [
    "mlp_model = FFMultiLayerPerceptron(hidden_dimensions, \n",
    "                                 activation,\n",
    "                                optimizer, \n",
    "                                threshold,\n",
    "                                loss).to(device)"
   ]
  },
  {
   "attachments": {},
   "cell_type": "markdown",
   "metadata": {},
   "source": [
    "## 3.0 Train Network"
   ]
  },
  {
   "cell_type": "code",
   "execution_count": null,
   "metadata": {},
   "outputs": [],
   "source": [
    "## -- Set some variables\n",
    "n_epochs = 30\n",
    "\n",
    "# choose one of the following training procedures."
   ]
  },
  {
   "attachments": {},
   "cell_type": "markdown",
   "metadata": {},
   "source": [
    "## 3.1 Train all layers at the same time (Faster)"
   ]
  },
  {
   "cell_type": "code",
   "execution_count": null,
   "metadata": {},
   "outputs": [],
   "source": [
    "for epoch in tqdm(range(n_epochs)):\n",
    "    for X_pos, Y_neg in train_loader_ff:\n",
    "        layer_losses = mlp_model.train_batch(X_pos, Y_neg, before=False)\n",
    "        print(\", \".join(map(lambda i, l: 'Layer {}: {}'.format(i, l),list(range(len(layer_losses))) ,layer_losses)), end='\\r')"
   ]
  },
  {
   "attachments": {},
   "cell_type": "markdown",
   "metadata": {},
   "source": [
    "## 3.2 Train one layer at a time (Slower)"
   ]
  },
  {
   "cell_type": "code",
   "execution_count": null,
   "metadata": {},
   "outputs": [],
   "source": [
    "mlp_model.train_batch_progressive(n_epochs, train_loader_ff)"
   ]
  },
  {
   "attachments": {},
   "cell_type": "markdown",
   "metadata": {},
   "source": [
    "# 4.0 Test the Network"
   ]
  },
  {
   "cell_type": "code",
   "execution_count": null,
   "metadata": {},
   "outputs": [],
   "source": [
    "acc = 0\n",
    "\n",
    "for X_test, Y_test in tqdm(test_loader, total=len(test_loader)):\n",
    "    X_test = X_test.to(device)\n",
    "    Y_test = Y_test.to(device)\n",
    "\n",
    "    acc += (mlp_model.predict_accomulate_goodness(X_test, pos_gen_fn, n_class=10).eq(Y_test).sum())\n",
    "\n",
    "print(f\"Accuracy: {acc/float(len(mnist_loader.test_set)):.4%}\")\n",
    "print(f\"Test error: {1 - acc/float(len(mnist_loader.test_set)):.4%}\")\n"
   ]
  },
  {
   "attachments": {},
   "cell_type": "markdown",
   "metadata": {},
   "source": [
    "# 5.0 Back Propagation"
   ]
  },
  {
   "cell_type": "code",
   "execution_count": null,
   "metadata": {},
   "outputs": [],
   "source": [
    "## -- Set some variables\n",
    "n_epochs= 5\n",
    "hidden_dimensions = [784, 512, 512, 10]\n",
    "activation = torch.nn.ReLU()\n",
    "optimizer = torch.optim.Adam\n",
    "loss_fn = torch.nn.CrossEntropyLoss()\n",
    "\n"
   ]
  },
  {
   "cell_type": "code",
   "execution_count": null,
   "metadata": {},
   "outputs": [],
   "source": [
    "mlp_backprop_model = MultiLayerPerceptron(hidden_dimensions, activation).to(device)\n",
    "optimizer = optimizer(mlp_backprop_model.parameters())\n"
   ]
  },
  {
   "cell_type": "code",
   "execution_count": null,
   "metadata": {},
   "outputs": [],
   "source": [
    "for epoch in tqdm(range(n_epochs)):\n",
    "    for i, (X_train, Y_train) in enumerate(train_loader):\n",
    "        X_train = X_train.to(device)\n",
    "        Y_train = Y_train.to(device)\n",
    "\n",
    "        Y_pred = mlp_backprop_model(X_train)\n",
    "\n",
    "        loss = loss_fn(Y_pred, Y_train)\n",
    "\n",
    "        optimizer.zero_grad()\n",
    "        loss.backward()\n",
    "        optimizer.step()\n",
    "\n",
    "        print(f\"Loss: {loss}\", end='\\r')"
   ]
  },
  {
   "cell_type": "code",
   "execution_count": null,
   "metadata": {},
   "outputs": [],
   "source": [
    "acc = 0\n",
    "for X_test, Y_test in tqdm(test_loader, total=len(test_loader)):\n",
    "    X_test = X_test.to(device)\n",
    "    Y_test = Y_test.to(device)\n",
    "\n",
    "    acc += (torch.softmax(mlp_backprop_model(X_test), 1).argmax(1).eq(Y_test).sum())\n",
    "\n",
    "print(f\"Accuracy: {acc/float(len(mnist_loader.test_set)):.4%}\")\n",
    "print(f\"Test error: {1 - acc/float(len(mnist_loader.test_set)):.4%}\")"
   ]
  }
 ],
 "metadata": {
  "kernelspec": {
   "display_name": "pytorch",
   "language": "python",
   "name": "python3"
  },
  "language_info": {
   "codemirror_mode": {
    "name": "ipython",
    "version": 3
   },
   "file_extension": ".py",
   "mimetype": "text/x-python",
   "name": "python",
   "nbconvert_exporter": "python",
   "pygments_lexer": "ipython3",
   "version": "3.7.9"
  },
  "orig_nbformat": 4,
  "vscode": {
   "interpreter": {
    "hash": "6905339ec9834455f3eeaf833f5d6a2573f0df69b633997954458b6d6617aa92"
   }
  }
 },
 "nbformat": 4,
 "nbformat_minor": 2
}
